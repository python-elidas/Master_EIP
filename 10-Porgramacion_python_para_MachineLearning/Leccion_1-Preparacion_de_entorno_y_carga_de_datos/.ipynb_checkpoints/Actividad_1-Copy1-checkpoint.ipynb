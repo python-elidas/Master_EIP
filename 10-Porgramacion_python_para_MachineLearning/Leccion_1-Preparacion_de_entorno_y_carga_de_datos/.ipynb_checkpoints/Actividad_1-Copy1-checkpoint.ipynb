{
 "cells": [
  {
   "cell_type": "markdown",
   "id": "452da20d",
   "metadata": {},
   "source": [
    "# Librerias"
   ]
  },
  {
   "cell_type": "code",
   "execution_count": 3,
   "id": "4a5b6308",
   "metadata": {},
   "outputs": [],
   "source": [
    "#Importemos las librerias Necesarias:\n",
    "import scipy as sc\n",
    "import pandas as pd\n",
    "import numpy as np\n",
    "import matplotlib.pyplot as plt"
   ]
  },
  {
   "cell_type": "code",
   "execution_count": 4,
   "id": "8c243bce",
   "metadata": {},
   "outputs": [],
   "source": [
    "import sklearn as skl"
   ]
  },
  {
   "cell_type": "markdown",
   "id": "76ff65e1",
   "metadata": {},
   "source": [
    "***"
   ]
  },
  {
   "cell_type": "code",
   "execution_count": 5,
   "id": "154855ba",
   "metadata": {},
   "outputs": [
    {
     "name": "stdout",
     "output_type": "stream",
     "text": [
      "Scipy: 1.5.4\n"
     ]
    }
   ],
   "source": [
    "print(f'Scipy: {sc.__version__}')\n",
    "print(f'Scipy: {sc.__version__}')\n",
    "print(f'Scipy: {sc.__version__}')\n",
    "print(f'Scipy: {sc.__version__}')\n",
    "print(f'Scipy: {sc.__version__}')"
   ]
  },
  {
   "cell_type": "markdown",
   "id": "a52435f8",
   "metadata": {},
   "source": [
    "***"
   ]
  },
  {
   "cell_type": "markdown",
   "id": "e53a334b",
   "metadata": {},
   "source": [
    "# Bibliografia:\n",
    "\n",
    "   * Elemento bibliografico 1\n",
    "   * Elemento bibliografico 2"
   ]
  }
 ],
 "metadata": {
  "kernelspec": {
   "display_name": "Python 3",
   "language": "python",
   "name": "python3"
  },
  "language_info": {
   "codemirror_mode": {
    "name": "ipython",
    "version": 3
   },
   "file_extension": ".py",
   "mimetype": "text/x-python",
   "name": "python",
   "nbconvert_exporter": "python",
   "pygments_lexer": "ipython3",
   "version": "3.6.9"
  }
 },
 "nbformat": 4,
 "nbformat_minor": 5
}
