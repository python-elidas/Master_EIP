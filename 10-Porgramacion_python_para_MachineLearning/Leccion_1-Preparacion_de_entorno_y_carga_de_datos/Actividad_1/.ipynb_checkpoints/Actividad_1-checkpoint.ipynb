{
 "cells": [
  {
   "cell_type": "markdown",
   "id": "57f339d4",
   "metadata": {},
   "source": [
    "# Librerias"
   ]
  },
  {
   "cell_type": "code",
   "execution_count": 1,
   "id": "7b123245",
   "metadata": {},
   "outputs": [],
   "source": [
    "#Importemos las librerias Necesarias:\n",
    "import scipy as sc\n",
    "import pandas as pd\n",
    "import numpy as np\n",
    "import matplotlib\n",
    "import csv"
   ]
  },
  {
   "cell_type": "code",
   "execution_count": 2,
   "id": "c269a34d",
   "metadata": {},
   "outputs": [],
   "source": [
    "import sklearn as skl"
   ]
  },
  {
   "cell_type": "markdown",
   "id": "fd8dd8fc",
   "metadata": {},
   "source": [
    "***"
   ]
  },
  {
   "cell_type": "markdown",
   "id": "bfe0dcdd",
   "metadata": {},
   "source": [
    "## ***1 & 2*: Instala y comprueba la instalación de los modulos necesarios.**"
   ]
  },
  {
   "cell_type": "code",
   "execution_count": 3,
   "id": "4091aa0a",
   "metadata": {},
   "outputs": [
    {
     "name": "stdout",
     "output_type": "stream",
     "text": [
      "Scipy:          1.5.4\n",
      "Pandas:         1.1.5\n",
      "Numpy:          1.19.5\n",
      "Matplotlib:     3.3.4\n",
      "Scitkit-learn:  0.24.2\n"
     ]
    }
   ],
   "source": [
    "print(f'Scipy:          {sc.__version__}')\n",
    "print(f'Pandas:         {pd.__version__}')\n",
    "print(f'Numpy:          {np.__version__}')\n",
    "print(f'Matplotlib:     {matplotlib.__version__}')\n",
    "print(f'Scitkit-learn:  {skl.__version__}')"
   ]
  },
  {
   "cell_type": "markdown",
   "id": "3d9f061d",
   "metadata": {},
   "source": [
    "## ***3)* Accede al repositorio UCI, consigue un dataset y cárgalo con un script de Python mediante los distintos métodos vistos en la lección. Una vez cargado, visualiza las dimensiones del dataset**"
   ]
  },
  {
   "cell_type": "markdown",
   "id": "1472400d",
   "metadata": {},
   "source": [
    "**Mediante el módulo de python**"
   ]
  },
  {
   "cell_type": "code",
   "execution_count": 4,
   "id": "f01310e3",
   "metadata": {},
   "outputs": [
    {
     "name": "stdout",
     "output_type": "stream",
     "text": [
      "Dimensiones del data set: (583, 11)\n"
     ]
    }
   ],
   "source": [
    "raw = open('Indian_Liver_Patients.csv', 'rt')\n",
    "rf = csv.reader(raw, delimiter=',')\n",
    "print(f'Dimensiones del data set: {np.array(list(rf)).shape}')"
   ]
  },
  {
   "cell_type": "markdown",
   "id": "bdef47a9",
   "metadata": {},
   "source": [
    "**Mediante Numpy**"
   ]
  },
  {
   "cell_type": "code",
   "execution_count": 6,
   "id": "f59ca51a",
   "metadata": {},
   "outputs": [
    {
     "name": "stdout",
     "output_type": "stream",
     "text": [
      "Dimensiones del data set: (583, 11)\n"
     ]
    }
   ],
   "source": [
    "raw = open('Indian_Liver_Patients.csv', 'rt')\n",
    "df = np.loadtxt(raw, delimiter=',', dtype=str)\n",
    "print(f'Dimensiones del data set: {df.shape}')"
   ]
  },
  {
   "cell_type": "markdown",
   "id": "fdeee7eb",
   "metadata": {},
   "source": [
    "**Mediante Pandas**"
   ]
  },
  {
   "cell_type": "code",
   "execution_count": 8,
   "id": "105744ce",
   "metadata": {},
   "outputs": [
    {
     "name": "stdout",
     "output_type": "stream",
     "text": [
      "Dimensiones del data set: (582, 11)\n"
     ]
    }
   ],
   "source": [
    "df = pd.read_csv('Indian_Liver_Patients.csv', sep=',')\n",
    "print(f'Dimensiones del data set: {df.shape}')"
   ]
  },
  {
   "cell_type": "markdown",
   "id": "4dfe08d8",
   "metadata": {},
   "source": [
    "***"
   ]
  },
  {
   "cell_type": "markdown",
   "id": "58740d40",
   "metadata": {},
   "source": [
    "# Notas:\n"
   ]
  },
  {
   "cell_type": "markdown",
   "id": "44b84bdb",
   "metadata": {},
   "source": [
    "> A la hora de trabajar con texto se emplea la siguiente notación:\n",
    ">  * **rf**(read file) para lectura de archivos o archivos abiertos únicamente para su lectura.\n",
    ">  * **wf**(write file) para ficheros en los que se va a escribir información.\n",
    ">  * **af**(add file) para archivos a los que se va a añadri informacion.\n",
    ">  * **df**(data frme) para data frames"
   ]
  },
  {
   "cell_type": "markdown",
   "id": "64a145b7",
   "metadata": {},
   "source": [
    "# Bibliografia:"
   ]
  },
  {
   "cell_type": "markdown",
   "id": "5cb1ad23",
   "metadata": {},
   "source": [
    "   * Elemento bibliografico 1\n",
    "   * Elemento bibliografico 2"
   ]
  }
 ],
 "metadata": {
  "kernelspec": {
   "display_name": "Python 3",
   "language": "python",
   "name": "python3"
  },
  "language_info": {
   "codemirror_mode": {
    "name": "ipython",
    "version": 3
   },
   "file_extension": ".py",
   "mimetype": "text/x-python",
   "name": "python",
   "nbconvert_exporter": "python",
   "pygments_lexer": "ipython3",
   "version": "3.6.9"
  }
 },
 "nbformat": 4,
 "nbformat_minor": 5
}
