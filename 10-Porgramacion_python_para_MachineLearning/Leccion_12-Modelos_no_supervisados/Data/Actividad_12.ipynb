{
 "cells": [
  {
   "cell_type": "markdown",
   "id": "062e9ce9",
   "metadata": {},
   "source": [
    "# Librerias"
   ]
  },
  {
   "cell_type": "code",
   "execution_count": 1,
   "id": "26a31253",
   "metadata": {},
   "outputs": [],
   "source": [
    "#Importemos las librerías Necesarias:\n",
    "import scipy as sc\n",
    "import pandas as pd\n",
    "import numpy as np\n",
    "import matplotlib.pyplot as plt\n",
    "import random, time"
   ]
  },
  {
   "cell_type": "code",
   "execution_count": 2,
   "id": "49fbeb1a",
   "metadata": {},
   "outputs": [],
   "source": [
    "from sklearn.cluster import *\n",
    "from sklearn.decomposition import *"
   ]
  },
  {
   "cell_type": "markdown",
   "id": "70a0d4f0",
   "metadata": {},
   "source": [
    "***"
   ]
  },
  {
   "cell_type": "markdown",
   "id": "8f003b29",
   "metadata": {},
   "source": [
    "# Main Code"
   ]
  },
  {
   "cell_type": "markdown",
   "id": "50a0c630",
   "metadata": {},
   "source": [
    "Previo a resolver el ejercicio, se ha creado un archivo csv en el que se ha eliminado la columna class y se han unido los datos de test y train separados en el xls."
   ]
  },
  {
   "cell_type": "code",
   "execution_count": 3,
   "id": "351bd1cc",
   "metadata": {},
   "outputs": [
    {
     "data": {
      "text/html": [
       "<div>\n",
       "<style scoped>\n",
       "    .dataframe tbody tr th:only-of-type {\n",
       "        vertical-align: middle;\n",
       "    }\n",
       "\n",
       "    .dataframe tbody tr th {\n",
       "        vertical-align: top;\n",
       "    }\n",
       "\n",
       "    .dataframe thead th {\n",
       "        text-align: right;\n",
       "    }\n",
       "</style>\n",
       "<table border=\"1\" class=\"dataframe\">\n",
       "  <thead>\n",
       "    <tr style=\"text-align: right;\">\n",
       "      <th></th>\n",
       "      <th>STG</th>\n",
       "      <th>SCG</th>\n",
       "      <th>STR</th>\n",
       "      <th>LPR</th>\n",
       "      <th>PEG</th>\n",
       "    </tr>\n",
       "  </thead>\n",
       "  <tbody>\n",
       "    <tr>\n",
       "      <th>0</th>\n",
       "      <td>0.00</td>\n",
       "      <td>0.00</td>\n",
       "      <td>0.00</td>\n",
       "      <td>0.00</td>\n",
       "      <td>0.00</td>\n",
       "    </tr>\n",
       "    <tr>\n",
       "      <th>1</th>\n",
       "      <td>0.08</td>\n",
       "      <td>0.08</td>\n",
       "      <td>0.10</td>\n",
       "      <td>0.24</td>\n",
       "      <td>0.90</td>\n",
       "    </tr>\n",
       "    <tr>\n",
       "      <th>2</th>\n",
       "      <td>0.06</td>\n",
       "      <td>0.06</td>\n",
       "      <td>0.05</td>\n",
       "      <td>0.25</td>\n",
       "      <td>0.33</td>\n",
       "    </tr>\n",
       "    <tr>\n",
       "      <th>3</th>\n",
       "      <td>0.10</td>\n",
       "      <td>0.10</td>\n",
       "      <td>0.15</td>\n",
       "      <td>0.65</td>\n",
       "      <td>0.30</td>\n",
       "    </tr>\n",
       "    <tr>\n",
       "      <th>4</th>\n",
       "      <td>0.08</td>\n",
       "      <td>0.08</td>\n",
       "      <td>0.08</td>\n",
       "      <td>0.98</td>\n",
       "      <td>0.24</td>\n",
       "    </tr>\n",
       "  </tbody>\n",
       "</table>\n",
       "</div>"
      ],
      "text/plain": [
       "    STG   SCG   STR   LPR   PEG\n",
       "0  0.00  0.00  0.00  0.00  0.00\n",
       "1  0.08  0.08  0.10  0.24  0.90\n",
       "2  0.06  0.06  0.05  0.25  0.33\n",
       "3  0.10  0.10  0.15  0.65  0.30\n",
       "4  0.08  0.08  0.08  0.98  0.24"
      ]
     },
     "execution_count": 3,
     "metadata": {},
     "output_type": "execute_result"
    }
   ],
   "source": [
    "# Empecemos cargando los datos.\n",
    "df = pd.read_csv('Data_User_Modeling.csv', sep=';')\n",
    "cols = df.columns\n",
    "df.head()"
   ]
  },
  {
   "cell_type": "code",
   "execution_count": 4,
   "id": "c9966f4b",
   "metadata": {},
   "outputs": [
    {
     "data": {
      "text/plain": [
       "STG    float64\n",
       "SCG    float64\n",
       "STR    float64\n",
       "LPR    float64\n",
       "PEG    float64\n",
       "dtype: object"
      ]
     },
     "execution_count": 4,
     "metadata": {},
     "output_type": "execute_result"
    }
   ],
   "source": [
    "# comprobemos que la información es del tipo correcto:\n",
    "df.dtypes"
   ]
  },
  {
   "cell_type": "code",
   "execution_count": 5,
   "id": "e3d67f72",
   "metadata": {},
   "outputs": [
    {
     "data": {
      "text/html": [
       "<div>\n",
       "<style scoped>\n",
       "    .dataframe tbody tr th:only-of-type {\n",
       "        vertical-align: middle;\n",
       "    }\n",
       "\n",
       "    .dataframe tbody tr th {\n",
       "        vertical-align: top;\n",
       "    }\n",
       "\n",
       "    .dataframe thead th {\n",
       "        text-align: right;\n",
       "    }\n",
       "</style>\n",
       "<table border=\"1\" class=\"dataframe\">\n",
       "  <thead>\n",
       "    <tr style=\"text-align: right;\">\n",
       "      <th></th>\n",
       "      <th>STG</th>\n",
       "      <th>SCG</th>\n",
       "      <th>STR</th>\n",
       "      <th>LPR</th>\n",
       "      <th>PEG</th>\n",
       "    </tr>\n",
       "  </thead>\n",
       "  <tbody>\n",
       "    <tr>\n",
       "      <th>count</th>\n",
       "      <td>403.000000</td>\n",
       "      <td>403.000000</td>\n",
       "      <td>403.000000</td>\n",
       "      <td>403.000000</td>\n",
       "      <td>403.000000</td>\n",
       "    </tr>\n",
       "    <tr>\n",
       "      <th>mean</th>\n",
       "      <td>41.889727</td>\n",
       "      <td>23.097444</td>\n",
       "      <td>1.188933</td>\n",
       "      <td>0.433821</td>\n",
       "      <td>1.281836</td>\n",
       "    </tr>\n",
       "    <tr>\n",
       "      <th>std</th>\n",
       "      <td>110.391330</td>\n",
       "      <td>78.372433</td>\n",
       "      <td>14.674250</td>\n",
       "      <td>0.258199</td>\n",
       "      <td>16.567310</td>\n",
       "    </tr>\n",
       "    <tr>\n",
       "      <th>min</th>\n",
       "      <td>0.000000</td>\n",
       "      <td>0.000000</td>\n",
       "      <td>0.000000</td>\n",
       "      <td>0.000000</td>\n",
       "      <td>0.000000</td>\n",
       "    </tr>\n",
       "    <tr>\n",
       "      <th>25%</th>\n",
       "      <td>0.200000</td>\n",
       "      <td>0.200000</td>\n",
       "      <td>0.265000</td>\n",
       "      <td>0.250000</td>\n",
       "      <td>0.250000</td>\n",
       "    </tr>\n",
       "    <tr>\n",
       "      <th>50%</th>\n",
       "      <td>0.370000</td>\n",
       "      <td>0.320000</td>\n",
       "      <td>0.450000</td>\n",
       "      <td>0.330000</td>\n",
       "      <td>0.400000</td>\n",
       "    </tr>\n",
       "    <tr>\n",
       "      <th>75%</th>\n",
       "      <td>0.640000</td>\n",
       "      <td>0.600000</td>\n",
       "      <td>0.680000</td>\n",
       "      <td>0.650000</td>\n",
       "      <td>0.660000</td>\n",
       "    </tr>\n",
       "    <tr>\n",
       "      <th>max</th>\n",
       "      <td>523.000000</td>\n",
       "      <td>475.000000</td>\n",
       "      <td>295.000000</td>\n",
       "      <td>1.000000</td>\n",
       "      <td>333.000000</td>\n",
       "    </tr>\n",
       "  </tbody>\n",
       "</table>\n",
       "</div>"
      ],
      "text/plain": [
       "              STG         SCG         STR         LPR         PEG\n",
       "count  403.000000  403.000000  403.000000  403.000000  403.000000\n",
       "mean    41.889727   23.097444    1.188933    0.433821    1.281836\n",
       "std    110.391330   78.372433   14.674250    0.258199   16.567310\n",
       "min      0.000000    0.000000    0.000000    0.000000    0.000000\n",
       "25%      0.200000    0.200000    0.265000    0.250000    0.250000\n",
       "50%      0.370000    0.320000    0.450000    0.330000    0.400000\n",
       "75%      0.640000    0.600000    0.680000    0.650000    0.660000\n",
       "max    523.000000  475.000000  295.000000    1.000000  333.000000"
      ]
     },
     "execution_count": 5,
     "metadata": {},
     "output_type": "execute_result"
    }
   ],
   "source": [
    "# Veamos si es necesario transformar los datos:\n",
    "df.describe()"
   ]
  },
  {
   "cell_type": "markdown",
   "id": "2d309399",
   "metadata": {},
   "source": [
    "Tras analizar los datos y el csv, se ha visto que hay datos mal imputados, datos que en vez de pertenecer a la escala 0, 1 están fuera de ella por haber anotado mal el dato."
   ]
  },
  {
   "cell_type": "code",
   "execution_count": 6,
   "id": "55e57dab",
   "metadata": {},
   "outputs": [
    {
     "data": {
      "text/html": [
       "<div>\n",
       "<style scoped>\n",
       "    .dataframe tbody tr th:only-of-type {\n",
       "        vertical-align: middle;\n",
       "    }\n",
       "\n",
       "    .dataframe tbody tr th {\n",
       "        vertical-align: top;\n",
       "    }\n",
       "\n",
       "    .dataframe thead th {\n",
       "        text-align: right;\n",
       "    }\n",
       "</style>\n",
       "<table border=\"1\" class=\"dataframe\">\n",
       "  <thead>\n",
       "    <tr style=\"text-align: right;\">\n",
       "      <th></th>\n",
       "      <th>STG</th>\n",
       "      <th>SCG</th>\n",
       "      <th>STR</th>\n",
       "      <th>LPR</th>\n",
       "      <th>PEG</th>\n",
       "    </tr>\n",
       "  </thead>\n",
       "  <tbody>\n",
       "    <tr>\n",
       "      <th>count</th>\n",
       "      <td>403.000000</td>\n",
       "      <td>403.000000</td>\n",
       "      <td>403.000000</td>\n",
       "      <td>403.000000</td>\n",
       "      <td>403.000000</td>\n",
       "    </tr>\n",
       "    <tr>\n",
       "      <th>mean</th>\n",
       "      <td>0.353141</td>\n",
       "      <td>0.355940</td>\n",
       "      <td>0.457655</td>\n",
       "      <td>0.433821</td>\n",
       "      <td>0.456360</td>\n",
       "    </tr>\n",
       "    <tr>\n",
       "      <th>std</th>\n",
       "      <td>0.212018</td>\n",
       "      <td>0.215531</td>\n",
       "      <td>0.246684</td>\n",
       "      <td>0.258199</td>\n",
       "      <td>0.266775</td>\n",
       "    </tr>\n",
       "    <tr>\n",
       "      <th>min</th>\n",
       "      <td>0.000000</td>\n",
       "      <td>0.000000</td>\n",
       "      <td>0.000000</td>\n",
       "      <td>0.000000</td>\n",
       "      <td>0.000000</td>\n",
       "    </tr>\n",
       "    <tr>\n",
       "      <th>25%</th>\n",
       "      <td>0.200000</td>\n",
       "      <td>0.200000</td>\n",
       "      <td>0.265000</td>\n",
       "      <td>0.250000</td>\n",
       "      <td>0.250000</td>\n",
       "    </tr>\n",
       "    <tr>\n",
       "      <th>50%</th>\n",
       "      <td>0.300000</td>\n",
       "      <td>0.300000</td>\n",
       "      <td>0.440000</td>\n",
       "      <td>0.330000</td>\n",
       "      <td>0.400000</td>\n",
       "    </tr>\n",
       "    <tr>\n",
       "      <th>75%</th>\n",
       "      <td>0.480000</td>\n",
       "      <td>0.510000</td>\n",
       "      <td>0.680000</td>\n",
       "      <td>0.650000</td>\n",
       "      <td>0.660000</td>\n",
       "    </tr>\n",
       "    <tr>\n",
       "      <th>max</th>\n",
       "      <td>0.990000</td>\n",
       "      <td>0.900000</td>\n",
       "      <td>0.950000</td>\n",
       "      <td>1.000000</td>\n",
       "      <td>0.990000</td>\n",
       "    </tr>\n",
       "  </tbody>\n",
       "</table>\n",
       "</div>"
      ],
      "text/plain": [
       "              STG         SCG         STR         LPR         PEG\n",
       "count  403.000000  403.000000  403.000000  403.000000  403.000000\n",
       "mean     0.353141    0.355940    0.457655    0.433821    0.456360\n",
       "std      0.212018    0.215531    0.246684    0.258199    0.266775\n",
       "min      0.000000    0.000000    0.000000    0.000000    0.000000\n",
       "25%      0.200000    0.200000    0.265000    0.250000    0.250000\n",
       "50%      0.300000    0.300000    0.440000    0.330000    0.400000\n",
       "75%      0.480000    0.510000    0.680000    0.650000    0.660000\n",
       "max      0.990000    0.900000    0.950000    1.000000    0.990000"
      ]
     },
     "execution_count": 6,
     "metadata": {},
     "output_type": "execute_result"
    }
   ],
   "source": [
    "# adecuemos estos datos por tanto:\n",
    "for i in df.index:\n",
    "    for name in cols:\n",
    "        if df[name][i] > 1:\n",
    "            df[name][i] /= 1000\n",
    "df.describe()"
   ]
  },
  {
   "cell_type": "markdown",
   "id": "ece0ddeb",
   "metadata": {},
   "source": [
    "Una vez adecuados los datos, sabemos y vemos varias cosas:\n",
    "   1. No falta información.\n",
    "   2. Los datos están escalados.\n",
    "\n",
    "**Empecemos implementando el método de clústering particional:**"
   ]
  },
  {
   "cell_type": "code",
   "execution_count": 7,
   "id": "4ccc5d82",
   "metadata": {},
   "outputs": [
    {
     "data": {
      "text/plain": [
       "[<matplotlib.lines.Line2D at 0x7f01e1e49208>]"
      ]
     },
     "execution_count": 7,
     "metadata": {},
     "output_type": "execute_result"
    },
    {
     "data": {
      "image/png": "[encoded data removed]",
      "text/plain": [
       "<Figure size 432x288 with 1 Axes>"
      ]
     },
     "metadata": {
      "needs_background": "light"
     },
     "output_type": "display_data"
    }
   ],
   "source": [
    "# implementemos el método del codo:\n",
    "part = list()\n",
    "for i in range(10):\n",
    "    model = KMeans(n_clusters=i+1)\n",
    "    model.fit(df)\n",
    "    part.append(model.inertia_)\n",
    "plt.plot(range(1,11), part)"
   ]
  },
  {
   "cell_type": "markdown",
   "id": "f0a877a8",
   "metadata": {},
   "source": [
    "No resulta claramente evidente pero si aplicamos la técnica del codo en el gráfico obtenido empleando el método de clústering particional vemos que el numero optimo de clases estaría mas o menos en 4, para justificar esta respuesta se mostrará un scatter plot empleando n_cluster =4\n",
    "\n",
    "Para ayudarnos a esta tarea emplearemos el modulo PCA de sklearn.\n"
   ]
  },
  {
   "cell_type": "code",
   "execution_count": 8,
   "id": "2769a04f",
   "metadata": {},
   "outputs": [],
   "source": [
    "# Preparemos la información:\n",
    "pca = PCA(n_components=2)\n",
    "pca_array = pca.fit_transform(df)\n",
    "pca_df = pd.DataFrame(pca_array, columns=['X', 'Y'])"
   ]
  },
  {
   "cell_type": "code",
   "execution_count": 9,
   "id": "95821c71",
   "metadata": {},
   "outputs": [],
   "source": [
    "# Realicemos la predicción empleando la información adquirida:\n",
    "model = KMeans(n_clusters=4)\n",
    "pred = model.fit_predict(df)"
   ]
  },
  {
   "cell_type": "code",
   "execution_count": 10,
   "id": "d143a423",
   "metadata": {},
   "outputs": [
    {
     "data": {
      "text/html": [
       "<div>\n",
       "<style scoped>\n",
       "    .dataframe tbody tr th:only-of-type {\n",
       "        vertical-align: middle;\n",
       "    }\n",
       "\n",
       "    .dataframe tbody tr th {\n",
       "        vertical-align: top;\n",
       "    }\n",
       "\n",
       "    .dataframe thead th {\n",
       "        text-align: right;\n",
       "    }\n",
       "</style>\n",
       "<table border=\"1\" class=\"dataframe\">\n",
       "  <thead>\n",
       "    <tr style=\"text-align: right;\">\n",
       "      <th></th>\n",
       "      <th>X</th>\n",
       "      <th>Y</th>\n",
       "      <th>pred</th>\n",
       "    </tr>\n",
       "  </thead>\n",
       "  <tbody>\n",
       "    <tr>\n",
       "      <th>0</th>\n",
       "      <td>0.840557</td>\n",
       "      <td>-0.352337</td>\n",
       "      <td>3</td>\n",
       "    </tr>\n",
       "    <tr>\n",
       "      <th>1</th>\n",
       "      <td>0.007671</td>\n",
       "      <td>-0.442343</td>\n",
       "      <td>2</td>\n",
       "    </tr>\n",
       "    <tr>\n",
       "      <th>2</th>\n",
       "      <td>0.481065</td>\n",
       "      <td>-0.231651</td>\n",
       "      <td>3</td>\n",
       "    </tr>\n",
       "    <tr>\n",
       "      <th>3</th>\n",
       "      <td>0.362882</td>\n",
       "      <td>0.163965</td>\n",
       "      <td>1</td>\n",
       "    </tr>\n",
       "    <tr>\n",
       "      <th>4</th>\n",
       "      <td>0.389477</td>\n",
       "      <td>0.470686</td>\n",
       "      <td>1</td>\n",
       "    </tr>\n",
       "  </tbody>\n",
       "</table>\n",
       "</div>"
      ],
      "text/plain": [
       "          X         Y  pred\n",
       "0  0.840557 -0.352337     3\n",
       "1  0.007671 -0.442343     2\n",
       "2  0.481065 -0.231651     3\n",
       "3  0.362882  0.163965     1\n",
       "4  0.389477  0.470686     1"
      ]
     },
     "execution_count": 10,
     "metadata": {},
     "output_type": "execute_result"
    }
   ],
   "source": [
    "# Generemos el df que emplearemos para mostrar los datos:\n",
    "scttr = pd.concat([pca_df, pd.DataFrame(pred, columns=['pred'])], axis=1)\n",
    "scttr.head()"
   ]
  },
  {
   "cell_type": "code",
   "execution_count": 12,
   "id": "91f6f7a6",
   "metadata": {},
   "outputs": [
    {
     "data": {
      "image/png": "[encoded data removed]",
      "text/plain": [
       "<Figure size 432x288 with 1 Axes>"
      ]
     },
     "metadata": {
      "needs_background": "light"
     },
     "output_type": "display_data"
    }
   ],
   "source": [
    "# Partiendo de esta información, dibujemos el Scatter Plot:\n",
    "plt.scatter(x=scttr.X, y=scttr.Y, c=scttr.pred)\n",
    "plt.show()"
   ]
  },
  {
   "cell_type": "markdown",
   "id": "79be58fe",
   "metadata": {},
   "source": []
  },
  {
   "cell_type": "markdown",
   "id": "6811c254",
   "metadata": {},
   "source": [
    "**Pasemos al método Aglomerativo Jerárquico:**\n",
    "\n",
    "Para este método, asumiremos que n = 4 y mostraremos el dendograma:"
   ]
  },
  {
   "cell_type": "code",
   "execution_count": 16,
   "id": "c4555eda",
   "metadata": {},
   "outputs": [
    {
     "data": {
      "image/png": "[encoded data removed]",
      "text/plain": [
       "<Figure size 1440x1440 with 1 Axes>"
      ]
     },
     "metadata": {
      "needs_background": "light"
     },
     "output_type": "display_data"
    }
   ],
   "source": [
    "import scipy.cluster.hierarchy as dnd\n",
    "# implementemos el modelo:\n",
    "plt.figure(figsize=(20,20))\n",
    "plt.title(\"Clustering Dendograms\")\n",
    "dend = dnd.dendrogram(dnd.linkage(df, method='ward'))"
   ]
  },
  {
   "cell_type": "markdown",
   "id": "71548e5d",
   "metadata": {},
   "source": [
    "En el dendograma se aprecia con bastante claridad la presencia de 4 clusters bien definidos."
   ]
  },
  {
   "cell_type": "markdown",
   "id": "dd75d815",
   "metadata": {},
   "source": [
    "***"
   ]
  },
  {
   "cell_type": "markdown",
   "id": "db88710b",
   "metadata": {},
   "source": [
    "## Notas:\n",
    "\n",
    "> Nota 1"
   ]
  },
  {
   "cell_type": "markdown",
   "id": "c0ab0cc2",
   "metadata": {},
   "source": [
    "## Bibliografia:\n",
    "\n",
    "   * Stack Overflow: https://stackoverflow.com\n",
    "   * Elemento bibliografico 2"
   ]
  },
  {
   "cell_type": "markdown",
   "id": "750da7ba",
   "metadata": {},
   "source": [
    "### Autor\n",
    "\n",
    "   - **Name:** Elidas\n",
    "   - **Email:** pyro.elidas@gmail.com\n",
    "   - **Python version:** 3.9.1\n",
    "   - **Date:** ${DATE}"
   ]
  }
 ],
 "metadata": {
  "kernelspec": {
   "display_name": "Python 3",
   "language": "python",
   "name": "python3"
  },
  "language_info": {
   "codemirror_mode": {
    "name": "ipython",
    "version": 3
   },
   "file_extension": ".py",
   "mimetype": "text/x-python",
   "name": "python",
   "nbconvert_exporter": "python",
   "pygments_lexer": "ipython3",
   "version": "3.6.9"
  }
 },
 "nbformat": 4,
 "nbformat_minor": 5
}
