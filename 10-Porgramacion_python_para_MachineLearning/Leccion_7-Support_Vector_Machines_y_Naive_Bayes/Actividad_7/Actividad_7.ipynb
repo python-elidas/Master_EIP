{
 "cells": [
  {
   "cell_type": "markdown",
   "id": "062e9ce9",
   "metadata": {},
   "source": [
    "# Librerias"
   ]
  },
  {
   "cell_type": "code",
   "execution_count": 1,
   "id": "26a31253",
   "metadata": {},
   "outputs": [],
   "source": [
    "#Importemos las librerias Necesarias:\n",
    "import scipy as sc\n",
    "import pandas as pd\n",
    "import numpy as np\n",
    "import matplotlib\n",
    "import random\n",
    "import time"
   ]
  },
  {
   "cell_type": "code",
   "execution_count": 2,
   "id": "49fbeb1a",
   "metadata": {},
   "outputs": [],
   "source": [
    "from sklearn.utils import *\n",
    "from sklearn.metrics import *\n",
    "from sklearn.model_selection import *\n",
    "from sklearn.preprocessing import *\n",
    "from sklearn.feature_selection import *\n",
    "from sklearn.svm import SVC"
   ]
  },
  {
   "cell_type": "markdown",
   "id": "70a0d4f0",
   "metadata": {},
   "source": [
    "***"
   ]
  },
  {
   "cell_type": "markdown",
   "id": "a3d8e26d",
   "metadata": {},
   "source": [
    "## Empecemos cargando la infromacion"
   ]
  },
  {
   "cell_type": "code",
   "execution_count": 3,
   "id": "351bd1cc",
   "metadata": {},
   "outputs": [],
   "source": [
    "# Empecemos por adecuar los datos:\n",
    "rf = open('pop_failures.csv', 'r')  # Abrimos el archivo\n",
    "\n",
    "# Obtenemos los nombres de las columnas:\n",
    "cols = list()\n",
    "for item in rf.readline()[:-1].split(' '):\n",
    "    if item is not '':\n",
    "        cols.append(item)\n",
    "\n",
    "# Limpiamos el resto de infromacion convirtiendola en una lista de listas\n",
    "data = list()        \n",
    "for item in rf.readlines():\n",
    "    list(item.strip().split())\n",
    "    data.append(list(item.strip().split()))"
   ]
  },
  {
   "cell_type": "code",
   "execution_count": 4,
   "id": "a7368536",
   "metadata": {
    "scrolled": true
   },
   "outputs": [
    {
     "data": {
      "text/html": [
       "<div>\n",
       "<style scoped>\n",
       "    .dataframe tbody tr th:only-of-type {\n",
       "        vertical-align: middle;\n",
       "    }\n",
       "\n",
       "    .dataframe tbody tr th {\n",
       "        vertical-align: top;\n",
       "    }\n",
       "\n",
       "    .dataframe thead th {\n",
       "        text-align: right;\n",
       "    }\n",
       "</style>\n",
       "<table border=\"1\" class=\"dataframe\">\n",
       "  <thead>\n",
       "    <tr style=\"text-align: right;\">\n",
       "      <th></th>\n",
       "      <th>vconst_corr</th>\n",
       "      <th>vconst_2</th>\n",
       "      <th>vconst_3</th>\n",
       "      <th>vconst_4</th>\n",
       "      <th>vconst_5</th>\n",
       "      <th>vconst_7</th>\n",
       "      <th>ah_corr</th>\n",
       "      <th>ah_bolus</th>\n",
       "      <th>slm_corr</th>\n",
       "      <th>efficiency_factor</th>\n",
       "      <th>tidal_mix_max</th>\n",
       "      <th>vertical_decay_scale</th>\n",
       "      <th>convect_corr</th>\n",
       "      <th>bckgrnd_vdc1</th>\n",
       "      <th>bckgrnd_vdc_ban</th>\n",
       "      <th>bckgrnd_vdc_eq</th>\n",
       "      <th>bckgrnd_vdc_psim</th>\n",
       "      <th>Prandtl</th>\n",
       "      <th>outcome</th>\n",
       "    </tr>\n",
       "  </thead>\n",
       "  <tbody>\n",
       "    <tr>\n",
       "      <th>0</th>\n",
       "      <td>0.859036</td>\n",
       "      <td>0.927825</td>\n",
       "      <td>0.252866</td>\n",
       "      <td>0.298838</td>\n",
       "      <td>0.170521</td>\n",
       "      <td>0.735936</td>\n",
       "      <td>0.428325</td>\n",
       "      <td>0.567947</td>\n",
       "      <td>0.474370</td>\n",
       "      <td>0.245675</td>\n",
       "      <td>0.104226</td>\n",
       "      <td>0.869091</td>\n",
       "      <td>0.997518</td>\n",
       "      <td>0.448620</td>\n",
       "      <td>0.307522</td>\n",
       "      <td>0.858310</td>\n",
       "      <td>0.796997</td>\n",
       "      <td>0.869893</td>\n",
       "      <td>0</td>\n",
       "    </tr>\n",
       "    <tr>\n",
       "      <th>1</th>\n",
       "      <td>0.606041</td>\n",
       "      <td>0.457728</td>\n",
       "      <td>0.359448</td>\n",
       "      <td>0.306957</td>\n",
       "      <td>0.843331</td>\n",
       "      <td>0.934851</td>\n",
       "      <td>0.444572</td>\n",
       "      <td>0.828015</td>\n",
       "      <td>0.296618</td>\n",
       "      <td>0.616870</td>\n",
       "      <td>0.975786</td>\n",
       "      <td>0.914344</td>\n",
       "      <td>0.845247</td>\n",
       "      <td>0.864152</td>\n",
       "      <td>0.346713</td>\n",
       "      <td>0.356573</td>\n",
       "      <td>0.438447</td>\n",
       "      <td>0.512256</td>\n",
       "      <td>1</td>\n",
       "    </tr>\n",
       "    <tr>\n",
       "      <th>2</th>\n",
       "      <td>0.997600</td>\n",
       "      <td>0.373238</td>\n",
       "      <td>0.517399</td>\n",
       "      <td>0.504993</td>\n",
       "      <td>0.618903</td>\n",
       "      <td>0.605571</td>\n",
       "      <td>0.746225</td>\n",
       "      <td>0.195928</td>\n",
       "      <td>0.815667</td>\n",
       "      <td>0.679355</td>\n",
       "      <td>0.803413</td>\n",
       "      <td>0.643995</td>\n",
       "      <td>0.718441</td>\n",
       "      <td>0.924775</td>\n",
       "      <td>0.315371</td>\n",
       "      <td>0.250642</td>\n",
       "      <td>0.285636</td>\n",
       "      <td>0.365858</td>\n",
       "      <td>1</td>\n",
       "    </tr>\n",
       "    <tr>\n",
       "      <th>3</th>\n",
       "      <td>0.783408</td>\n",
       "      <td>0.104055</td>\n",
       "      <td>0.197533</td>\n",
       "      <td>0.421837</td>\n",
       "      <td>0.742056</td>\n",
       "      <td>0.490828</td>\n",
       "      <td>0.005525</td>\n",
       "      <td>0.392123</td>\n",
       "      <td>0.010015</td>\n",
       "      <td>0.471463</td>\n",
       "      <td>0.597879</td>\n",
       "      <td>0.761659</td>\n",
       "      <td>0.362751</td>\n",
       "      <td>0.912819</td>\n",
       "      <td>0.977971</td>\n",
       "      <td>0.845921</td>\n",
       "      <td>0.699431</td>\n",
       "      <td>0.475987</td>\n",
       "      <td>1</td>\n",
       "    </tr>\n",
       "    <tr>\n",
       "      <th>4</th>\n",
       "      <td>0.406250</td>\n",
       "      <td>0.513199</td>\n",
       "      <td>0.061812</td>\n",
       "      <td>0.635837</td>\n",
       "      <td>0.844798</td>\n",
       "      <td>0.441502</td>\n",
       "      <td>0.191926</td>\n",
       "      <td>0.487546</td>\n",
       "      <td>0.358534</td>\n",
       "      <td>0.551543</td>\n",
       "      <td>0.743877</td>\n",
       "      <td>0.312349</td>\n",
       "      <td>0.650223</td>\n",
       "      <td>0.522261</td>\n",
       "      <td>0.043545</td>\n",
       "      <td>0.376660</td>\n",
       "      <td>0.280098</td>\n",
       "      <td>0.132283</td>\n",
       "      <td>1</td>\n",
       "    </tr>\n",
       "  </tbody>\n",
       "</table>\n",
       "</div>"
      ],
      "text/plain": [
       "   vconst_corr  vconst_2  vconst_3  vconst_4  vconst_5  vconst_7   ah_corr  \\\n",
       "0     0.859036  0.927825  0.252866  0.298838  0.170521  0.735936  0.428325   \n",
       "1     0.606041  0.457728  0.359448  0.306957  0.843331  0.934851  0.444572   \n",
       "2     0.997600  0.373238  0.517399  0.504993  0.618903  0.605571  0.746225   \n",
       "3     0.783408  0.104055  0.197533  0.421837  0.742056  0.490828  0.005525   \n",
       "4     0.406250  0.513199  0.061812  0.635837  0.844798  0.441502  0.191926   \n",
       "\n",
       "   ah_bolus  slm_corr  efficiency_factor  tidal_mix_max  vertical_decay_scale  \\\n",
       "0  0.567947  0.474370           0.245675       0.104226              0.869091   \n",
       "1  0.828015  0.296618           0.616870       0.975786              0.914344   \n",
       "2  0.195928  0.815667           0.679355       0.803413              0.643995   \n",
       "3  0.392123  0.010015           0.471463       0.597879              0.761659   \n",
       "4  0.487546  0.358534           0.551543       0.743877              0.312349   \n",
       "\n",
       "   convect_corr  bckgrnd_vdc1  bckgrnd_vdc_ban  bckgrnd_vdc_eq  \\\n",
       "0      0.997518      0.448620         0.307522        0.858310   \n",
       "1      0.845247      0.864152         0.346713        0.356573   \n",
       "2      0.718441      0.924775         0.315371        0.250642   \n",
       "3      0.362751      0.912819         0.977971        0.845921   \n",
       "4      0.650223      0.522261         0.043545        0.376660   \n",
       "\n",
       "   bckgrnd_vdc_psim   Prandtl  outcome  \n",
       "0          0.796997  0.869893        0  \n",
       "1          0.438447  0.512256        1  \n",
       "2          0.285636  0.365858        1  \n",
       "3          0.699431  0.475987        1  \n",
       "4          0.280098  0.132283        1  "
      ]
     },
     "execution_count": 4,
     "metadata": {},
     "output_type": "execute_result"
    }
   ],
   "source": [
    "#contertimos lo anterior en un DataFrame\n",
    "df = pd.DataFrame(data, columns=cols)\n",
    "\n",
    "# Eliminemos las dos primeras columnas:\n",
    "df = df.drop([cols[0], cols[1]], axis=1)\n",
    "cols = df.columns\n",
    "\n",
    "#convirtamos la informacion a su tipo correspondiente:\n",
    "for col in cols:\n",
    "    df[col] = pd.to_numeric(df[col])\n",
    "    \n",
    "print(df.head()"
   ]
  },
  {
   "cell_type": "markdown",
   "id": "d8bd0461",
   "metadata": {},
   "source": [
    "**Analicemos el dataset antes de empezar a trabajar con el:**"
   ]
  },
  {
   "cell_type": "code",
   "execution_count": 5,
   "id": "5e51ed37",
   "metadata": {},
   "outputs": [
    {
     "name": "stdout",
     "output_type": "stream",
     "text": [
      "Outcome positivo:494\n",
      "Outcome negativo:46\n"
     ]
    }
   ],
   "source": [
    "# Analicemos si la variable objetivo está equilibrada\n",
    "print(f'Outcome positivo:{df[cols[-1]].sum()}\\nOutcome negativo:{len(df)-df[cols[-1]].sum()}')"
   ]
  },
  {
   "cell_type": "code",
   "execution_count": 6,
   "id": "feda7d81",
   "metadata": {},
   "outputs": [
    {
     "data": {
      "text/html": [
       "<div>\n",
       "<style scoped>\n",
       "    .dataframe tbody tr th:only-of-type {\n",
       "        vertical-align: middle;\n",
       "    }\n",
       "\n",
       "    .dataframe tbody tr th {\n",
       "        vertical-align: top;\n",
       "    }\n",
       "\n",
       "    .dataframe thead th {\n",
       "        text-align: right;\n",
       "    }\n",
       "</style>\n",
       "<table border=\"1\" class=\"dataframe\">\n",
       "  <thead>\n",
       "    <tr style=\"text-align: right;\">\n",
       "      <th></th>\n",
       "      <th>vconst_corr</th>\n",
       "      <th>vconst_2</th>\n",
       "      <th>vconst_3</th>\n",
       "      <th>vconst_4</th>\n",
       "      <th>vconst_5</th>\n",
       "      <th>vconst_7</th>\n",
       "      <th>ah_corr</th>\n",
       "      <th>ah_bolus</th>\n",
       "      <th>slm_corr</th>\n",
       "      <th>efficiency_factor</th>\n",
       "      <th>tidal_mix_max</th>\n",
       "      <th>vertical_decay_scale</th>\n",
       "      <th>convect_corr</th>\n",
       "      <th>bckgrnd_vdc1</th>\n",
       "      <th>bckgrnd_vdc_ban</th>\n",
       "      <th>bckgrnd_vdc_eq</th>\n",
       "      <th>bckgrnd_vdc_psim</th>\n",
       "      <th>Prandtl</th>\n",
       "      <th>outcome</th>\n",
       "    </tr>\n",
       "  </thead>\n",
       "  <tbody>\n",
       "    <tr>\n",
       "      <th>count</th>\n",
       "      <td>540.000000</td>\n",
       "      <td>540.000000</td>\n",
       "      <td>540.000000</td>\n",
       "      <td>540.000000</td>\n",
       "      <td>540.000000</td>\n",
       "      <td>540.000000</td>\n",
       "      <td>540.000000</td>\n",
       "      <td>540.000000</td>\n",
       "      <td>540.000000</td>\n",
       "      <td>540.000000</td>\n",
       "      <td>540.000000</td>\n",
       "      <td>540.000000</td>\n",
       "      <td>540.000000</td>\n",
       "      <td>540.000000</td>\n",
       "      <td>540.000000</td>\n",
       "      <td>540.000000</td>\n",
       "      <td>540.000000</td>\n",
       "      <td>540.000000</td>\n",
       "      <td>540.000000</td>\n",
       "    </tr>\n",
       "    <tr>\n",
       "      <th>mean</th>\n",
       "      <td>0.500026</td>\n",
       "      <td>0.500097</td>\n",
       "      <td>0.500027</td>\n",
       "      <td>0.500119</td>\n",
       "      <td>0.500001</td>\n",
       "      <td>0.499913</td>\n",
       "      <td>0.500059</td>\n",
       "      <td>0.500076</td>\n",
       "      <td>0.500044</td>\n",
       "      <td>0.500111</td>\n",
       "      <td>0.499984</td>\n",
       "      <td>0.500032</td>\n",
       "      <td>0.499933</td>\n",
       "      <td>0.499944</td>\n",
       "      <td>0.499946</td>\n",
       "      <td>0.500044</td>\n",
       "      <td>0.500020</td>\n",
       "      <td>0.500021</td>\n",
       "      <td>0.914815</td>\n",
       "    </tr>\n",
       "    <tr>\n",
       "      <th>std</th>\n",
       "      <td>0.288939</td>\n",
       "      <td>0.288922</td>\n",
       "      <td>0.289067</td>\n",
       "      <td>0.288993</td>\n",
       "      <td>0.288827</td>\n",
       "      <td>0.288852</td>\n",
       "      <td>0.289010</td>\n",
       "      <td>0.288909</td>\n",
       "      <td>0.288860</td>\n",
       "      <td>0.288966</td>\n",
       "      <td>0.289127</td>\n",
       "      <td>0.289014</td>\n",
       "      <td>0.288822</td>\n",
       "      <td>0.288949</td>\n",
       "      <td>0.288923</td>\n",
       "      <td>0.288813</td>\n",
       "      <td>0.288936</td>\n",
       "      <td>0.289013</td>\n",
       "      <td>0.279416</td>\n",
       "    </tr>\n",
       "    <tr>\n",
       "      <th>min</th>\n",
       "      <td>0.000414</td>\n",
       "      <td>0.001922</td>\n",
       "      <td>0.001181</td>\n",
       "      <td>0.001972</td>\n",
       "      <td>0.000858</td>\n",
       "      <td>0.000476</td>\n",
       "      <td>0.004590</td>\n",
       "      <td>0.000296</td>\n",
       "      <td>0.003231</td>\n",
       "      <td>0.002015</td>\n",
       "      <td>0.000419</td>\n",
       "      <td>0.001188</td>\n",
       "      <td>0.001312</td>\n",
       "      <td>0.002509</td>\n",
       "      <td>0.000732</td>\n",
       "      <td>0.000891</td>\n",
       "      <td>0.000219</td>\n",
       "      <td>0.000263</td>\n",
       "      <td>0.000000</td>\n",
       "    </tr>\n",
       "    <tr>\n",
       "      <th>25%</th>\n",
       "      <td>0.249650</td>\n",
       "      <td>0.251597</td>\n",
       "      <td>0.251540</td>\n",
       "      <td>0.250158</td>\n",
       "      <td>0.250630</td>\n",
       "      <td>0.251325</td>\n",
       "      <td>0.253048</td>\n",
       "      <td>0.250402</td>\n",
       "      <td>0.252661</td>\n",
       "      <td>0.250758</td>\n",
       "      <td>0.251676</td>\n",
       "      <td>0.249669</td>\n",
       "      <td>0.249988</td>\n",
       "      <td>0.249586</td>\n",
       "      <td>0.249974</td>\n",
       "      <td>0.250412</td>\n",
       "      <td>0.252739</td>\n",
       "      <td>0.249723</td>\n",
       "      <td>1.000000</td>\n",
       "    </tr>\n",
       "    <tr>\n",
       "      <th>50%</th>\n",
       "      <td>0.499998</td>\n",
       "      <td>0.499595</td>\n",
       "      <td>0.500104</td>\n",
       "      <td>0.500456</td>\n",
       "      <td>0.500903</td>\n",
       "      <td>0.499174</td>\n",
       "      <td>0.499070</td>\n",
       "      <td>0.500074</td>\n",
       "      <td>0.500295</td>\n",
       "      <td>0.500393</td>\n",
       "      <td>0.500322</td>\n",
       "      <td>0.500151</td>\n",
       "      <td>0.500625</td>\n",
       "      <td>0.499080</td>\n",
       "      <td>0.499959</td>\n",
       "      <td>0.500384</td>\n",
       "      <td>0.498955</td>\n",
       "      <td>0.499431</td>\n",
       "      <td>1.000000</td>\n",
       "    </tr>\n",
       "    <tr>\n",
       "      <th>75%</th>\n",
       "      <td>0.750042</td>\n",
       "      <td>0.750011</td>\n",
       "      <td>0.749180</td>\n",
       "      <td>0.750348</td>\n",
       "      <td>0.748988</td>\n",
       "      <td>0.748166</td>\n",
       "      <td>0.750109</td>\n",
       "      <td>0.749091</td>\n",
       "      <td>0.748605</td>\n",
       "      <td>0.749447</td>\n",
       "      <td>0.749346</td>\n",
       "      <td>0.749164</td>\n",
       "      <td>0.749569</td>\n",
       "      <td>0.750012</td>\n",
       "      <td>0.747978</td>\n",
       "      <td>0.749256</td>\n",
       "      <td>0.748539</td>\n",
       "      <td>0.749792</td>\n",
       "      <td>1.000000</td>\n",
       "    </tr>\n",
       "    <tr>\n",
       "      <th>max</th>\n",
       "      <td>0.999194</td>\n",
       "      <td>0.998815</td>\n",
       "      <td>0.998263</td>\n",
       "      <td>0.997673</td>\n",
       "      <td>0.998944</td>\n",
       "      <td>0.997142</td>\n",
       "      <td>0.998930</td>\n",
       "      <td>0.998506</td>\n",
       "      <td>0.997172</td>\n",
       "      <td>0.999536</td>\n",
       "      <td>0.999942</td>\n",
       "      <td>0.997718</td>\n",
       "      <td>0.997518</td>\n",
       "      <td>0.999795</td>\n",
       "      <td>0.999155</td>\n",
       "      <td>0.997265</td>\n",
       "      <td>0.999306</td>\n",
       "      <td>0.999655</td>\n",
       "      <td>1.000000</td>\n",
       "    </tr>\n",
       "  </tbody>\n",
       "</table>\n",
       "</div>"
      ],
      "text/plain": [
       "       vconst_corr    vconst_2    vconst_3    vconst_4    vconst_5  \\\n",
       "count   540.000000  540.000000  540.000000  540.000000  540.000000   \n",
       "mean      0.500026    0.500097    0.500027    0.500119    0.500001   \n",
       "std       0.288939    0.288922    0.289067    0.288993    0.288827   \n",
       "min       0.000414    0.001922    0.001181    0.001972    0.000858   \n",
       "25%       0.249650    0.251597    0.251540    0.250158    0.250630   \n",
       "50%       0.499998    0.499595    0.500104    0.500456    0.500903   \n",
       "75%       0.750042    0.750011    0.749180    0.750348    0.748988   \n",
       "max       0.999194    0.998815    0.998263    0.997673    0.998944   \n",
       "\n",
       "         vconst_7     ah_corr    ah_bolus    slm_corr  efficiency_factor  \\\n",
       "count  540.000000  540.000000  540.000000  540.000000         540.000000   \n",
       "mean     0.499913    0.500059    0.500076    0.500044           0.500111   \n",
       "std      0.288852    0.289010    0.288909    0.288860           0.288966   \n",
       "min      0.000476    0.004590    0.000296    0.003231           0.002015   \n",
       "25%      0.251325    0.253048    0.250402    0.252661           0.250758   \n",
       "50%      0.499174    0.499070    0.500074    0.500295           0.500393   \n",
       "75%      0.748166    0.750109    0.749091    0.748605           0.749447   \n",
       "max      0.997142    0.998930    0.998506    0.997172           0.999536   \n",
       "\n",
       "       tidal_mix_max  vertical_decay_scale  convect_corr  bckgrnd_vdc1  \\\n",
       "count     540.000000            540.000000    540.000000    540.000000   \n",
       "mean        0.499984              0.500032      0.499933      0.499944   \n",
       "std         0.289127              0.289014      0.288822      0.288949   \n",
       "min         0.000419              0.001188      0.001312      0.002509   \n",
       "25%         0.251676              0.249669      0.249988      0.249586   \n",
       "50%         0.500322              0.500151      0.500625      0.499080   \n",
       "75%         0.749346              0.749164      0.749569      0.750012   \n",
       "max         0.999942              0.997718      0.997518      0.999795   \n",
       "\n",
       "       bckgrnd_vdc_ban  bckgrnd_vdc_eq  bckgrnd_vdc_psim     Prandtl  \\\n",
       "count       540.000000      540.000000        540.000000  540.000000   \n",
       "mean          0.499946        0.500044          0.500020    0.500021   \n",
       "std           0.288923        0.288813          0.288936    0.289013   \n",
       "min           0.000732        0.000891          0.000219    0.000263   \n",
       "25%           0.249974        0.250412          0.252739    0.249723   \n",
       "50%           0.499959        0.500384          0.498955    0.499431   \n",
       "75%           0.747978        0.749256          0.748539    0.749792   \n",
       "max           0.999155        0.997265          0.999306    0.999655   \n",
       "\n",
       "          outcome  \n",
       "count  540.000000  \n",
       "mean     0.914815  \n",
       "std      0.279416  \n",
       "min      0.000000  \n",
       "25%      1.000000  \n",
       "50%      1.000000  \n",
       "75%      1.000000  \n",
       "max      1.000000  "
      ]
     },
     "execution_count": 6,
     "metadata": {},
     "output_type": "execute_result"
    }
   ],
   "source": [
    "df.describe()"
   ]
  },
  {
   "cell_type": "markdown",
   "id": "f151b3d1",
   "metadata": {},
   "source": [
    "**Visto que la clase objetivo está bastante descompensada, crearemos un df_train undersampleado:**"
   ]
  },
  {
   "cell_type": "code",
   "execution_count": 7,
   "id": "80e15c06",
   "metadata": {},
   "outputs": [
    {
     "data": {
      "text/html": [
       "<div>\n",
       "<style scoped>\n",
       "    .dataframe tbody tr th:only-of-type {\n",
       "        vertical-align: middle;\n",
       "    }\n",
       "\n",
       "    .dataframe tbody tr th {\n",
       "        vertical-align: top;\n",
       "    }\n",
       "\n",
       "    .dataframe thead th {\n",
       "        text-align: right;\n",
       "    }\n",
       "</style>\n",
       "<table border=\"1\" class=\"dataframe\">\n",
       "  <thead>\n",
       "    <tr style=\"text-align: right;\">\n",
       "      <th></th>\n",
       "      <th>vconst_corr</th>\n",
       "      <th>vconst_2</th>\n",
       "      <th>vconst_3</th>\n",
       "      <th>vconst_4</th>\n",
       "      <th>vconst_5</th>\n",
       "      <th>vconst_7</th>\n",
       "      <th>ah_corr</th>\n",
       "      <th>ah_bolus</th>\n",
       "      <th>slm_corr</th>\n",
       "      <th>efficiency_factor</th>\n",
       "      <th>tidal_mix_max</th>\n",
       "      <th>vertical_decay_scale</th>\n",
       "      <th>convect_corr</th>\n",
       "      <th>bckgrnd_vdc1</th>\n",
       "      <th>bckgrnd_vdc_ban</th>\n",
       "      <th>bckgrnd_vdc_eq</th>\n",
       "      <th>bckgrnd_vdc_psim</th>\n",
       "      <th>Prandtl</th>\n",
       "      <th>outcome</th>\n",
       "    </tr>\n",
       "  </thead>\n",
       "  <tbody>\n",
       "    <tr>\n",
       "      <th>291</th>\n",
       "      <td>0.783335</td>\n",
       "      <td>0.892363</td>\n",
       "      <td>0.802123</td>\n",
       "      <td>0.984419</td>\n",
       "      <td>0.212193</td>\n",
       "      <td>0.808875</td>\n",
       "      <td>0.264226</td>\n",
       "      <td>0.969816</td>\n",
       "      <td>0.144152</td>\n",
       "      <td>0.741067</td>\n",
       "      <td>0.385611</td>\n",
       "      <td>0.071712</td>\n",
       "      <td>0.935856</td>\n",
       "      <td>0.227156</td>\n",
       "      <td>0.567388</td>\n",
       "      <td>0.049070</td>\n",
       "      <td>0.375561</td>\n",
       "      <td>0.104410</td>\n",
       "      <td>0</td>\n",
       "    </tr>\n",
       "    <tr>\n",
       "      <th>231</th>\n",
       "      <td>0.870579</td>\n",
       "      <td>0.454674</td>\n",
       "      <td>0.894270</td>\n",
       "      <td>0.011855</td>\n",
       "      <td>0.282640</td>\n",
       "      <td>0.943005</td>\n",
       "      <td>0.555407</td>\n",
       "      <td>0.411043</td>\n",
       "      <td>0.875675</td>\n",
       "      <td>0.483847</td>\n",
       "      <td>0.207331</td>\n",
       "      <td>0.015665</td>\n",
       "      <td>0.547360</td>\n",
       "      <td>0.119795</td>\n",
       "      <td>0.436438</td>\n",
       "      <td>0.408788</td>\n",
       "      <td>0.853762</td>\n",
       "      <td>0.020764</td>\n",
       "      <td>1</td>\n",
       "    </tr>\n",
       "    <tr>\n",
       "      <th>503</th>\n",
       "      <td>0.864878</td>\n",
       "      <td>0.710434</td>\n",
       "      <td>0.920800</td>\n",
       "      <td>0.304012</td>\n",
       "      <td>0.964132</td>\n",
       "      <td>0.698496</td>\n",
       "      <td>0.307317</td>\n",
       "      <td>0.019251</td>\n",
       "      <td>0.302058</td>\n",
       "      <td>0.043415</td>\n",
       "      <td>0.071086</td>\n",
       "      <td>0.361100</td>\n",
       "      <td>0.133086</td>\n",
       "      <td>0.580487</td>\n",
       "      <td>0.523823</td>\n",
       "      <td>0.608569</td>\n",
       "      <td>0.160936</td>\n",
       "      <td>0.837637</td>\n",
       "      <td>1</td>\n",
       "    </tr>\n",
       "    <tr>\n",
       "      <th>161</th>\n",
       "      <td>0.090576</td>\n",
       "      <td>0.688366</td>\n",
       "      <td>0.148453</td>\n",
       "      <td>0.345999</td>\n",
       "      <td>0.520858</td>\n",
       "      <td>0.961267</td>\n",
       "      <td>0.084060</td>\n",
       "      <td>0.470789</td>\n",
       "      <td>0.788637</td>\n",
       "      <td>0.659405</td>\n",
       "      <td>0.248957</td>\n",
       "      <td>0.990095</td>\n",
       "      <td>0.425995</td>\n",
       "      <td>0.293008</td>\n",
       "      <td>0.619823</td>\n",
       "      <td>0.113544</td>\n",
       "      <td>0.035988</td>\n",
       "      <td>0.047556</td>\n",
       "      <td>1</td>\n",
       "    </tr>\n",
       "    <tr>\n",
       "      <th>438</th>\n",
       "      <td>0.859811</td>\n",
       "      <td>0.125104</td>\n",
       "      <td>0.535767</td>\n",
       "      <td>0.191043</td>\n",
       "      <td>0.453512</td>\n",
       "      <td>0.103253</td>\n",
       "      <td>0.520529</td>\n",
       "      <td>0.075624</td>\n",
       "      <td>0.643725</td>\n",
       "      <td>0.677997</td>\n",
       "      <td>0.273790</td>\n",
       "      <td>0.418693</td>\n",
       "      <td>0.467325</td>\n",
       "      <td>0.387609</td>\n",
       "      <td>0.857478</td>\n",
       "      <td>0.957464</td>\n",
       "      <td>0.038266</td>\n",
       "      <td>0.315119</td>\n",
       "      <td>1</td>\n",
       "    </tr>\n",
       "  </tbody>\n",
       "</table>\n",
       "</div>"
      ],
      "text/plain": [
       "     vconst_corr  vconst_2  vconst_3  vconst_4  vconst_5  vconst_7   ah_corr  \\\n",
       "291     0.783335  0.892363  0.802123  0.984419  0.212193  0.808875  0.264226   \n",
       "231     0.870579  0.454674  0.894270  0.011855  0.282640  0.943005  0.555407   \n",
       "503     0.864878  0.710434  0.920800  0.304012  0.964132  0.698496  0.307317   \n",
       "161     0.090576  0.688366  0.148453  0.345999  0.520858  0.961267  0.084060   \n",
       "438     0.859811  0.125104  0.535767  0.191043  0.453512  0.103253  0.520529   \n",
       "\n",
       "     ah_bolus  slm_corr  efficiency_factor  tidal_mix_max  \\\n",
       "291  0.969816  0.144152           0.741067       0.385611   \n",
       "231  0.411043  0.875675           0.483847       0.207331   \n",
       "503  0.019251  0.302058           0.043415       0.071086   \n",
       "161  0.470789  0.788637           0.659405       0.248957   \n",
       "438  0.075624  0.643725           0.677997       0.273790   \n",
       "\n",
       "     vertical_decay_scale  convect_corr  bckgrnd_vdc1  bckgrnd_vdc_ban  \\\n",
       "291              0.071712      0.935856      0.227156         0.567388   \n",
       "231              0.015665      0.547360      0.119795         0.436438   \n",
       "503              0.361100      0.133086      0.580487         0.523823   \n",
       "161              0.990095      0.425995      0.293008         0.619823   \n",
       "438              0.418693      0.467325      0.387609         0.857478   \n",
       "\n",
       "     bckgrnd_vdc_eq  bckgrnd_vdc_psim   Prandtl  outcome  \n",
       "291        0.049070          0.375561  0.104410        0  \n",
       "231        0.408788          0.853762  0.020764        1  \n",
       "503        0.608569          0.160936  0.837637        1  \n",
       "161        0.113544          0.035988  0.047556        1  \n",
       "438        0.957464          0.038266  0.315119        1  "
      ]
     },
     "execution_count": 7,
     "metadata": {},
     "output_type": "execute_result"
    }
   ],
   "source": [
    "seed = random.randint(0,10)\n",
    "\n",
    "df_rsmpl = resample(\n",
    "    df[df[cols[-1]] == 1],\n",
    "    random_state = seed,\n",
    "    n_samples = df[df[cols[-1]] == 0].shape[0]\n",
    ")\n",
    "\n",
    "# Unamos ambos df\n",
    "df_train = pd.concat([df[df[cols[-1]] == 0], df_rsmpl]).sample(frac=1)  # mezclemos el modelo para realizar las particiones\n",
    "df_train.head()"
   ]
  },
  {
   "cell_type": "code",
   "execution_count": 8,
   "id": "f94308a9",
   "metadata": {},
   "outputs": [],
   "source": [
    "# hagamos una reduccion de variables:\n",
    "seed = random.seed(time.time())#para que los split no se repitan al ejecutar la celda\n",
    "\n",
    "#hagamos la separacion de datos:\n",
    "X = df.drop(cols[-1], axis=1)\n",
    "y = df[cols[-1]]\n",
    "\n",
    "# Nos quedaremos con las variables cuyos pesos sean mayores de 0.01\n",
    "sel = mutual_info_classif(X, y, random_state=seed)\n",
    "for i in range(len(sel)):\n",
    "    if sel[i] < 0.01: # Filtramos las variables por su peso\n",
    "        df = df.drop(cols[i], axis=1)\n",
    "        df_train = df_train.drop(cols[i], axis=1)\n",
    "\n",
    "cols = df.columns"
   ]
  },
  {
   "cell_type": "markdown",
   "id": "1c640e18",
   "metadata": {},
   "source": [
    "**Desde aqui crearemos los conjuntos train empleando el df_train y test empleando el df original**:"
   ]
  },
  {
   "cell_type": "code",
   "execution_count": 9,
   "id": "45c480b2",
   "metadata": {},
   "outputs": [],
   "source": [
    "X_train_, X_test, y_train_, y_test = train_test_split(\n",
    "    df.drop(cols[-1], axis=1),\n",
    "    df[cols[-1]],\n",
    "    test_size=0.3,\n",
    "    random_state=random.randint(0,10)\n",
    ")\n",
    "X_train = df_train.drop(cols[-1], axis=1)\n",
    "y_train = df_train[cols[-1]]"
   ]
  },
  {
   "cell_type": "code",
   "execution_count": 10,
   "id": "9ec891fd",
   "metadata": {},
   "outputs": [],
   "source": [
    "# Escalemos los datos para evitar que ninguna variable se coma a las demas:\n",
    "scal = RobustScaler()\n",
    "scal.fit(X_train)\n",
    "X_train = pd.DataFrame(scal.transform(X_train), columns=cols[:-1])\n",
    "x_train_ = pd.DataFrame(scal.transform(X_train_), columns=cols[:-1])\n",
    "X_test = pd.DataFrame(scal.transform(X_test), columns=cols[:-1])"
   ]
  },
  {
   "cell_type": "markdown",
   "id": "289970df",
   "metadata": {},
   "source": [
    "**Creemos el Support Vector Machine:**"
   ]
  },
  {
   "cell_type": "code",
   "execution_count": 11,
   "id": "477cc493",
   "metadata": {},
   "outputs": [],
   "source": [
    "model = SVC(\n",
    "    C=1,\n",
    "    class_weight='balanced',\n",
    "    kernel='rbf',\n",
    "    gamma=0.1\n",
    ")"
   ]
  },
  {
   "cell_type": "markdown",
   "id": "d6fa8f5a",
   "metadata": {},
   "source": [
    "**Empleemos el df undersampleado para ver los resultados:**"
   ]
  },
  {
   "cell_type": "code",
   "execution_count": 12,
   "id": "5e9c9fa7",
   "metadata": {},
   "outputs": [
    {
     "data": {
      "text/plain": [
       "SVC(C=1, class_weight='balanced', gamma=0.1)"
      ]
     },
     "execution_count": 12,
     "metadata": {},
     "output_type": "execute_result"
    }
   ],
   "source": [
    "model.fit(X_train, y_train)"
   ]
  },
  {
   "cell_type": "code",
   "execution_count": 13,
   "id": "a2a5c07f",
   "metadata": {},
   "outputs": [
    {
     "name": "stdout",
     "output_type": "stream",
     "text": [
      "Balanced acc: 0.9210526315789473\n"
     ]
    },
    {
     "data": {
      "image/png": "[encoded data removed]",
      "text/plain": [
       "<Figure size 432x288 with 2 Axes>"
      ]
     },
     "metadata": {
      "needs_background": "light"
     },
     "output_type": "display_data"
    }
   ],
   "source": [
    "y_pred_und = model.predict(X_test)\n",
    "print(f'Balanced acc: {balanced_accuracy_score(y_test, y_pred_und)}')\n",
    "ConfusionMatrixDisplay(confusion_matrix=confusion_matrix(y_test, y_pred_und)).plot()\n",
    "matplotlib.pyplot.show() "
   ]
  },
  {
   "cell_type": "markdown",
   "id": "723b05aa",
   "metadata": {},
   "source": [
    "**Empleemos ahora el df original:**"
   ]
  },
  {
   "cell_type": "code",
   "execution_count": 14,
   "id": "e9bdb9e6",
   "metadata": {},
   "outputs": [
    {
     "data": {
      "text/plain": [
       "SVC(C=1, class_weight='balanced', gamma=0.1)"
      ]
     },
     "execution_count": 14,
     "metadata": {},
     "output_type": "execute_result"
    }
   ],
   "source": [
    "model.fit(X_train_, y_train_)"
   ]
  },
  {
   "cell_type": "code",
   "execution_count": 15,
   "id": "7d08c075",
   "metadata": {},
   "outputs": [
    {
     "name": "stdout",
     "output_type": "stream",
     "text": [
      "Balanced acc: 0.55\n"
     ]
    },
    {
     "data": {
      "image/png": "[encoded data removed]",
      "text/plain": [
       "<Figure size 432x288 with 2 Axes>"
      ]
     },
     "metadata": {
      "needs_background": "light"
     },
     "output_type": "display_data"
    }
   ],
   "source": [
    "y_pred = model.predict(X_test)\n",
    "print(f'Balanced acc: {balanced_accuracy_score(y_test, y_pred)}')\n",
    "ConfusionMatrixDisplay(confusion_matrix=confusion_matrix(y_test, y_pred)).plot()\n",
    "matplotlib.pyplot.show() "
   ]
  },
  {
   "cell_type": "markdown",
   "id": "b5fe160f",
   "metadata": {},
   "source": [
    "Nótese que el modelo con el que se ha empleado el df undersampleado es mas preciso que el modelo con el df original por lo que emplearemos el df undersampleado para intentar hallar la mejor combinación de parametros:"
   ]
  },
  {
   "cell_type": "code",
   "execution_count": 16,
   "id": "a751f849",
   "metadata": {},
   "outputs": [
    {
     "name": "stdout",
     "output_type": "stream",
     "text": [
      "Balanced acc: 0.9605263157894737\n"
     ]
    },
    {
     "data": {
      "image/png": "[encoded data removed]",
      "text/plain": [
       "<Figure size 432x288 with 2 Axes>"
      ]
     },
     "metadata": {
      "needs_background": "light"
     },
     "output_type": "display_data"
    }
   ],
   "source": [
    "model = SVC(\n",
    "    C=20,\n",
    "    class_weight='balanced',\n",
    "    kernel='rbf',\n",
    "    gamma='auto'\n",
    ")\n",
    "model.fit(X_train, y_train)\n",
    "y_pred = model.predict(X_test)\n",
    "print(f'Balanced acc: {balanced_accuracy_score(y_test, y_pred)}')\n",
    "ConfusionMatrixDisplay(confusion_matrix=confusion_matrix(y_test, y_pred)).plot()\n",
    "matplotlib.pyplot.show() "
   ]
  },
  {
   "cell_type": "markdown",
   "id": "48a46485",
   "metadata": {},
   "source": [
    "La mejor precisión lograda ha sido con los parametros mostrados."
   ]
  },
  {
   "cell_type": "markdown",
   "id": "dd75d815",
   "metadata": {},
   "source": [
    "***"
   ]
  },
  {
   "cell_type": "markdown",
   "id": "db88710b",
   "metadata": {},
   "source": [
    "# Notas:"
   ]
  },
  {
   "cell_type": "markdown",
   "id": "42e3c9ec",
   "metadata": {},
   "source": [
    "> Nota 1"
   ]
  },
  {
   "cell_type": "markdown",
   "id": "c0ab0cc2",
   "metadata": {},
   "source": [
    "# Bibliografia:\n",
    "\n",
    "   * scikit Learn: https://scikit-learn.org/stable/index.html"
   ]
  }
 ],
 "metadata": {
  "kernelspec": {
   "display_name": "Python 3 (ipykernel)",
   "language": "python",
   "name": "python3"
  },
  "language_info": {
   "codemirror_mode": {
    "name": "ipython",
    "version": 3
   },
   "file_extension": ".py",
   "mimetype": "text/x-python",
   "name": "python",
   "nbconvert_exporter": "python",
   "pygments_lexer": "ipython3",
   "version": "3.9.1"
  }
 },
 "nbformat": 4,
 "nbformat_minor": 5
}
