{
 "cells": [
  {
   "cell_type": "markdown",
   "id": "062e9ce9",
   "metadata": {},
   "source": [
    "# Librerias"
   ]
  },
  {
   "cell_type": "code",
   "execution_count": 1,
   "id": "26a31253",
   "metadata": {},
   "outputs": [],
   "source": [
    "#Importemos las librerias Necesarias:\n",
    "import scipy as sc\n",
    "import pandas as pd\n",
    "import numpy as np\n",
    "import matplotlib"
   ]
  },
  {
   "cell_type": "code",
   "execution_count": 2,
   "id": "49fbeb1a",
   "metadata": {},
   "outputs": [],
   "source": [
    "import sklearn as skl"
   ]
  },
  {
   "cell_type": "markdown",
   "id": "70a0d4f0",
   "metadata": {},
   "source": [
    "***"
   ]
  },
  {
   "cell_type": "markdown",
   "id": "2b989179",
   "metadata": {},
   "source": [
    "## 1. Busca y descarga el conjunto de datos “Climate Model Simulation Crashes” del repositorio UCI Machine Learning. Tiene los datos de un problema de clasificación.\n",
    "## 2. Cárgalo adecuadamente en un Pandas DataFrame."
   ]
  },
  {
   "cell_type": "code",
   "execution_count": 3,
   "id": "351bd1cc",
   "metadata": {},
   "outputs": [],
   "source": [
    "# Leamos los datos:\n",
    "rf = open('pop_failures.csv', 'r')  # Abrimos el archivo\n",
    "\n",
    "# Obtenemos los nombres de las columnas:\n",
    "cols = list()\n",
    "for item in rf.readline()[:-1].split(' '):\n",
    "    if item is not '':\n",
    "        cols.append(item)\n",
    "\n",
    "# Limpiamos el resto de infromacion convirtiendola en una lista de listas\n",
    "data = list()        \n",
    "for item in rf.readlines():\n",
    "    list(item.strip().split())\n",
    "    data.append(list(item.strip().split()))"
   ]
  },
  {
   "cell_type": "code",
   "execution_count": 4,
   "id": "d7be39b6",
   "metadata": {},
   "outputs": [
    {
     "data": {
      "text/html": [
       "<div>\n",
       "<style scoped>\n",
       "    .dataframe tbody tr th:only-of-type {\n",
       "        vertical-align: middle;\n",
       "    }\n",
       "\n",
       "    .dataframe tbody tr th {\n",
       "        vertical-align: top;\n",
       "    }\n",
       "\n",
       "    .dataframe thead th {\n",
       "        text-align: right;\n",
       "    }\n",
       "</style>\n",
       "<table border=\"1\" class=\"dataframe\">\n",
       "  <thead>\n",
       "    <tr style=\"text-align: right;\">\n",
       "      <th></th>\n",
       "      <th>Study</th>\n",
       "      <th>Run</th>\n",
       "      <th>vconst_corr</th>\n",
       "      <th>vconst_2</th>\n",
       "      <th>vconst_3</th>\n",
       "      <th>vconst_4</th>\n",
       "      <th>vconst_5</th>\n",
       "      <th>vconst_7</th>\n",
       "      <th>ah_corr</th>\n",
       "      <th>ah_bolus</th>\n",
       "      <th>...</th>\n",
       "      <th>efficiency_factor</th>\n",
       "      <th>tidal_mix_max</th>\n",
       "      <th>vertical_decay_scale</th>\n",
       "      <th>convect_corr</th>\n",
       "      <th>bckgrnd_vdc1</th>\n",
       "      <th>bckgrnd_vdc_ban</th>\n",
       "      <th>bckgrnd_vdc_eq</th>\n",
       "      <th>bckgrnd_vdc_psim</th>\n",
       "      <th>Prandtl</th>\n",
       "      <th>outcome</th>\n",
       "    </tr>\n",
       "  </thead>\n",
       "  <tbody>\n",
       "    <tr>\n",
       "      <th>0</th>\n",
       "      <td>1</td>\n",
       "      <td>1</td>\n",
       "      <td>0.859036</td>\n",
       "      <td>0.927825</td>\n",
       "      <td>0.252866</td>\n",
       "      <td>0.298838</td>\n",
       "      <td>0.170521</td>\n",
       "      <td>0.735936</td>\n",
       "      <td>0.428325</td>\n",
       "      <td>0.567947</td>\n",
       "      <td>...</td>\n",
       "      <td>0.245675</td>\n",
       "      <td>0.104226</td>\n",
       "      <td>0.869091</td>\n",
       "      <td>0.997518</td>\n",
       "      <td>0.448620</td>\n",
       "      <td>0.307522</td>\n",
       "      <td>0.858310</td>\n",
       "      <td>0.796997</td>\n",
       "      <td>0.869893</td>\n",
       "      <td>0</td>\n",
       "    </tr>\n",
       "    <tr>\n",
       "      <th>1</th>\n",
       "      <td>1</td>\n",
       "      <td>2</td>\n",
       "      <td>0.606041</td>\n",
       "      <td>0.457728</td>\n",
       "      <td>0.359448</td>\n",
       "      <td>0.306957</td>\n",
       "      <td>0.843331</td>\n",
       "      <td>0.934851</td>\n",
       "      <td>0.444572</td>\n",
       "      <td>0.828015</td>\n",
       "      <td>...</td>\n",
       "      <td>0.616870</td>\n",
       "      <td>0.975786</td>\n",
       "      <td>0.914344</td>\n",
       "      <td>0.845247</td>\n",
       "      <td>0.864152</td>\n",
       "      <td>0.346713</td>\n",
       "      <td>0.356573</td>\n",
       "      <td>0.438447</td>\n",
       "      <td>0.512256</td>\n",
       "      <td>1</td>\n",
       "    </tr>\n",
       "    <tr>\n",
       "      <th>2</th>\n",
       "      <td>1</td>\n",
       "      <td>3</td>\n",
       "      <td>0.997600</td>\n",
       "      <td>0.373238</td>\n",
       "      <td>0.517399</td>\n",
       "      <td>0.504993</td>\n",
       "      <td>0.618903</td>\n",
       "      <td>0.605571</td>\n",
       "      <td>0.746225</td>\n",
       "      <td>0.195928</td>\n",
       "      <td>...</td>\n",
       "      <td>0.679355</td>\n",
       "      <td>0.803413</td>\n",
       "      <td>0.643995</td>\n",
       "      <td>0.718441</td>\n",
       "      <td>0.924775</td>\n",
       "      <td>0.315371</td>\n",
       "      <td>0.250642</td>\n",
       "      <td>0.285636</td>\n",
       "      <td>0.365858</td>\n",
       "      <td>1</td>\n",
       "    </tr>\n",
       "    <tr>\n",
       "      <th>3</th>\n",
       "      <td>1</td>\n",
       "      <td>4</td>\n",
       "      <td>0.783408</td>\n",
       "      <td>0.104055</td>\n",
       "      <td>0.197533</td>\n",
       "      <td>0.421837</td>\n",
       "      <td>0.742056</td>\n",
       "      <td>0.490828</td>\n",
       "      <td>0.005525</td>\n",
       "      <td>0.392123</td>\n",
       "      <td>...</td>\n",
       "      <td>0.471463</td>\n",
       "      <td>0.597879</td>\n",
       "      <td>0.761659</td>\n",
       "      <td>0.362751</td>\n",
       "      <td>0.912819</td>\n",
       "      <td>0.977971</td>\n",
       "      <td>0.845921</td>\n",
       "      <td>0.699431</td>\n",
       "      <td>0.475987</td>\n",
       "      <td>1</td>\n",
       "    </tr>\n",
       "    <tr>\n",
       "      <th>4</th>\n",
       "      <td>1</td>\n",
       "      <td>5</td>\n",
       "      <td>0.406250</td>\n",
       "      <td>0.513199</td>\n",
       "      <td>0.061812</td>\n",
       "      <td>0.635837</td>\n",
       "      <td>0.844798</td>\n",
       "      <td>0.441502</td>\n",
       "      <td>0.191926</td>\n",
       "      <td>0.487546</td>\n",
       "      <td>...</td>\n",
       "      <td>0.551543</td>\n",
       "      <td>0.743877</td>\n",
       "      <td>0.312349</td>\n",
       "      <td>0.650223</td>\n",
       "      <td>0.522261</td>\n",
       "      <td>0.043545</td>\n",
       "      <td>0.376660</td>\n",
       "      <td>0.280098</td>\n",
       "      <td>0.132283</td>\n",
       "      <td>1</td>\n",
       "    </tr>\n",
       "  </tbody>\n",
       "</table>\n",
       "<p>5 rows × 21 columns</p>\n",
       "</div>"
      ],
      "text/plain": [
       "   Study  Run  vconst_corr  vconst_2  vconst_3  vconst_4  vconst_5  vconst_7  \\\n",
       "0      1    1     0.859036  0.927825  0.252866  0.298838  0.170521  0.735936   \n",
       "1      1    2     0.606041  0.457728  0.359448  0.306957  0.843331  0.934851   \n",
       "2      1    3     0.997600  0.373238  0.517399  0.504993  0.618903  0.605571   \n",
       "3      1    4     0.783408  0.104055  0.197533  0.421837  0.742056  0.490828   \n",
       "4      1    5     0.406250  0.513199  0.061812  0.635837  0.844798  0.441502   \n",
       "\n",
       "    ah_corr  ah_bolus  ...  efficiency_factor  tidal_mix_max  \\\n",
       "0  0.428325  0.567947  ...           0.245675       0.104226   \n",
       "1  0.444572  0.828015  ...           0.616870       0.975786   \n",
       "2  0.746225  0.195928  ...           0.679355       0.803413   \n",
       "3  0.005525  0.392123  ...           0.471463       0.597879   \n",
       "4  0.191926  0.487546  ...           0.551543       0.743877   \n",
       "\n",
       "   vertical_decay_scale  convect_corr  bckgrnd_vdc1  bckgrnd_vdc_ban  \\\n",
       "0              0.869091      0.997518      0.448620         0.307522   \n",
       "1              0.914344      0.845247      0.864152         0.346713   \n",
       "2              0.643995      0.718441      0.924775         0.315371   \n",
       "3              0.761659      0.362751      0.912819         0.977971   \n",
       "4              0.312349      0.650223      0.522261         0.043545   \n",
       "\n",
       "   bckgrnd_vdc_eq  bckgrnd_vdc_psim   Prandtl  outcome  \n",
       "0        0.858310          0.796997  0.869893        0  \n",
       "1        0.356573          0.438447  0.512256        1  \n",
       "2        0.250642          0.285636  0.365858        1  \n",
       "3        0.845921          0.699431  0.475987        1  \n",
       "4        0.376660          0.280098  0.132283        1  \n",
       "\n",
       "[5 rows x 21 columns]"
      ]
     },
     "execution_count": 4,
     "metadata": {},
     "output_type": "execute_result"
    }
   ],
   "source": [
    "#contertimos lo anterior en un DataFrame\n",
    "df = pd.DataFrame(data, columns=cols)\n",
    "\n",
    "#convirtamos la informacion a su tipo correspondiente:\n",
    "for col in cols:\n",
    "    df[col] = pd.to_numeric(df[col])\n",
    "    \n",
    "df.head()"
   ]
  },
  {
   "cell_type": "markdown",
   "id": "8a51d243",
   "metadata": {},
   "source": [
    "## 3. Realiza un conteo de las clases y analiza si hay desequilibrio."
   ]
  },
  {
   "cell_type": "code",
   "execution_count": 5,
   "id": "feb83dfe",
   "metadata": {},
   "outputs": [
    {
     "data": {
      "text/plain": [
       "count    540.000000\n",
       "mean       0.914815\n",
       "std        0.279416\n",
       "min        0.000000\n",
       "25%        1.000000\n",
       "50%        1.000000\n",
       "75%        1.000000\n",
       "max        1.000000\n",
       "Name: outcome, dtype: float64"
      ]
     },
     "execution_count": 5,
     "metadata": {},
     "output_type": "execute_result"
    }
   ],
   "source": [
    "df[cols[-1]].describe()"
   ]
  },
  {
   "cell_type": "code",
   "execution_count": 6,
   "id": "d5377c7e",
   "metadata": {},
   "outputs": [
    {
     "name": "stdout",
     "output_type": "stream",
     "text": [
      "Outcome positivo:494\n",
      "Outcome negativo:46\n"
     ]
    }
   ],
   "source": [
    "# aprovecharemos que nos encontramos antes un problema de clasificación binaria:\n",
    "print(f'Outcome positivo:{df[df[cols[-1]] == 1].shape[0]}\\nOutcome negativo:{df[df[cols[-1]] == 0].shape[0]}')"
   ]
  },
  {
   "cell_type": "markdown",
   "id": "95b79451",
   "metadata": {},
   "source": [
    "Podemos apreciar que la calse objetivo muestra un desequilibrio hacia un resultado positivo.\n"
   ]
  },
  {
   "cell_type": "markdown",
   "id": "6f56a899",
   "metadata": {},
   "source": [
    "## 4.Evalua el rendimiento del modelo k-Nearest Neigbours mediante las tres estrategias de validación cruzada estudiados y utilizando la métrica que consideres más adecuada."
   ]
  },
  {
   "cell_type": "code",
   "execution_count": 7,
   "id": "792f0c8a",
   "metadata": {},
   "outputs": [],
   "source": [
    "# Importemos el modelo a emplear:\n",
    "import random\n",
    "from sklearn.neighbors import KNeighborsClassifier as KNC\n",
    "from sklearn.model_selection import *\n",
    "from sklearn.metrics import *\n",
    "from sklearn.utils import *"
   ]
  },
  {
   "cell_type": "code",
   "execution_count": 8,
   "id": "190f5707",
   "metadata": {},
   "outputs": [
    {
     "data": {
      "text/plain": [
       "(644, 21)"
      ]
     },
     "execution_count": 8,
     "metadata": {},
     "output_type": "execute_result"
    }
   ],
   "source": [
    "df_ = df[df[cols[-1]] == 1] # Creamos un dataset con la variable objetivo = 1\n",
    "\n",
    "#creemos un df sobre samplado con 150 muestras de outcome = 0\n",
    "seed = random.randint(0,10)\n",
    "\n",
    "df_rsmpl = resample(\n",
    "    df[df[cols[-1]] == 0],\n",
    "    random_state = seed,\n",
    "    n_samples = 150\n",
    ")\n",
    "\n",
    "# Unamos ambos df\n",
    "df_res = pd.concat([df_, df_rsmpl]).sample(frac=1)\n",
    "df_res.shape"
   ]
  },
  {
   "cell_type": "code",
   "execution_count": 9,
   "id": "0ef9c9cb",
   "metadata": {},
   "outputs": [
    {
     "data": {
      "text/plain": [
       "((644, 20), (644,))"
      ]
     },
     "execution_count": 9,
     "metadata": {},
     "output_type": "execute_result"
    }
   ],
   "source": [
    "# Vistoi que el DF no es excesivamente greande, emplearemos K=3\n",
    "X = df_res.drop(cols[-1], axis=1)\n",
    "y = df_res[cols[-1]]\n",
    "\n",
    "model = KNC(n_neighbors=3)\n",
    "#model.fit(df_res.drop(cols[-1], axis=1), df_res[cols[-1]])\n",
    "X.shape, y.shape"
   ]
  },
  {
   "cell_type": "markdown",
   "id": "ad35a975",
   "metadata": {},
   "source": [
    "**K_Fold**"
   ]
  },
  {
   "cell_type": "code",
   "execution_count": 10,
   "id": "72ba7c41",
   "metadata": {
    "scrolled": false
   },
   "outputs": [
    {
     "name": "stdout",
     "output_type": "stream",
     "text": [
      "0.8694352159468438\n"
     ]
    },
    {
     "data": {
      "image/png": "[encoded data removed]",
      "text/plain": [
       "<Figure size 432x288 with 2 Axes>"
      ]
     },
     "metadata": {
      "needs_background": "light"
     },
     "output_type": "display_data"
    }
   ],
   "source": [
    "k = 15\n",
    "\n",
    "seed = random.randint(0,10)\n",
    "kfold = KFold(n_splits=k, random_state=seed, shuffle=True)\n",
    "kf_pred = cross_val_predict(model, X, y, cv=kfold)\n",
    "print(cross_val_score(model, X, y, cv=kfold).mean())\n",
    "\n",
    "ConfusionMatrixDisplay(confusion_matrix=confusion_matrix(y, kf_pred)).plot()\n",
    "matplotlib.pyplot.show()"
   ]
  },
  {
   "cell_type": "markdown",
   "id": "1c0febcc",
   "metadata": {},
   "source": [
    "Como se puede apreciar en la matriz de confusión, el modelo presenta un overfitting bastante acentuado."
   ]
  },
  {
   "cell_type": "markdown",
   "id": "097f6217",
   "metadata": {},
   "source": [
    "**Leave_One_Out**"
   ]
  },
  {
   "cell_type": "code",
   "execution_count": 11,
   "id": "9053a99f",
   "metadata": {
    "scrolled": true
   },
   "outputs": [
    {
     "name": "stdout",
     "output_type": "stream",
     "text": [
      "0.8742236024844721\n"
     ]
    },
    {
     "data": {
      "image/png": "[encoded data removed]",
      "text/plain": [
       "<Figure size 432x288 with 2 Axes>"
      ]
     },
     "metadata": {
      "needs_background": "light"
     },
     "output_type": "display_data"
    }
   ],
   "source": [
    "lvoo_pred = cross_val_predict(model, X, y, cv=LeaveOneOut())\n",
    "print(cross_val_score(model, X, y, cv=LeaveOneOut()).mean())\n",
    "\n",
    "ConfusionMatrixDisplay(confusion_matrix=confusion_matrix(y, lvoo_pred)).plot()\n",
    "matplotlib.pyplot.show()"
   ]
  },
  {
   "cell_type": "markdown",
   "id": "1fd5fa1c",
   "metadata": {},
   "source": [
    "**Montecarlo**"
   ]
  },
  {
   "cell_type": "code",
   "execution_count": 12,
   "id": "2a64cb40",
   "metadata": {},
   "outputs": [
    {
     "name": "stdout",
     "output_type": "stream",
     "text": [
      "0.812094395280236\n"
     ]
    }
   ],
   "source": [
    "k = 15\n",
    "test_split = 0.35\n",
    "seed = random.randint(0,10)\n",
    "mtcarlo = ShuffleSplit(n_splits=k, test_size=test_split, random_state=seed)\n",
    "mt_predict = cross_val_score(model, X, y, cv=mtcarlo)\n",
    "print(cross_val_score(model, X, y, cv=mtcarlo).mean())"
   ]
  },
  {
   "cell_type": "markdown",
   "id": "ab29f68b",
   "metadata": {},
   "source": [
    "Tras realizar un oversample para evitar que los modelos se fijaran solo en la clase mayoritaria, se ha conseguido que los modelos den una precisión superior al 80%. Se aprecia que las predicciones generadas por el modelo Leave One Out son ligeramente más precisas que las generadas por KFold así mismo, se observa que en el caso que nos ocupa el método Montecarlo es el menos preciso."
   ]
  },
  {
   "cell_type": "markdown",
   "id": "dd75d815",
   "metadata": {},
   "source": [
    "***"
   ]
  },
  {
   "cell_type": "markdown",
   "id": "db88710b",
   "metadata": {},
   "source": [
    "# Notas:"
   ]
  },
  {
   "cell_type": "markdown",
   "id": "42e3c9ec",
   "metadata": {},
   "source": [
    "> Nota 1"
   ]
  },
  {
   "cell_type": "markdown",
   "id": "c0ab0cc2",
   "metadata": {},
   "source": [
    "# Bibliografia:\n",
    "\n",
    "   * pandas: https://pandas.pydata.org\n",
    "   * stack overflow: "
   ]
  }
 ],
 "metadata": {
  "kernelspec": {
   "display_name": "Python 3",
   "language": "python",
   "name": "python3"
  },
  "language_info": {
   "codemirror_mode": {
    "name": "ipython",
    "version": 3
   },
   "file_extension": ".py",
   "mimetype": "text/x-python",
   "name": "python",
   "nbconvert_exporter": "python",
   "pygments_lexer": "ipython3",
   "version": "3.6.9"
  }
 },
 "nbformat": 4,
 "nbformat_minor": 5
}
