{
 "cells": [
  {
   "cell_type": "markdown",
   "id": "062e9ce9",
   "metadata": {},
   "source": [
    "# Librerias"
   ]
  },
  {
   "cell_type": "code",
   "execution_count": 3,
   "id": "26a31253",
   "metadata": {},
   "outputs": [],
   "source": [
    "#Importemos las librerias Necesarias:\n",
    "import scipy as sc\n",
    "import pandas as pd\n",
    "import numpy as np\n",
    "import matplotlib as mpl"
   ]
  },
  {
   "cell_type": "code",
   "execution_count": 4,
   "id": "49fbeb1a",
   "metadata": {},
   "outputs": [],
   "source": [
    "import sklearn as skl"
   ]
  },
  {
   "cell_type": "markdown",
   "id": "70a0d4f0",
   "metadata": {},
   "source": [
    "***"
   ]
  },
  {
   "cell_type": "code",
   "execution_count": null,
   "id": "351bd1cc",
   "metadata": {},
   "outputs": [],
   "source": []
  },
  {
   "cell_type": "markdown",
   "id": "dd75d815",
   "metadata": {},
   "source": [
    "***"
   ]
  },
  {
   "cell_type": "markdown",
   "id": "db88710b",
   "metadata": {},
   "source": [
    "# Notas:"
   ]
  },
  {
   "cell_type": "markdown",
   "id": "42e3c9ec",
   "metadata": {},
   "source": [
    "> Nota 1"
   ]
  },
  {
   "cell_type": "markdown",
   "id": "c0ab0cc2",
   "metadata": {},
   "source": [
    "# Bibliografia:\n",
    "\n",
    "   * Elemento bibliografico 1\n",
    "   * Elemento bibliografico 2"
   ]
  }
 ],
 "metadata": {
  "kernelspec": {
   "display_name": "Python 3",
   "language": "python",
   "name": "python3"
  },
  "language_info": {
   "codemirror_mode": {
    "name": "ipython",
    "version": 3
   },
   "file_extension": ".py",
   "mimetype": "text/x-python",
   "name": "python",
   "nbconvert_exporter": "python",
   "pygments_lexer": "ipython3",
   "version": "3.6.9"
  }
 },
 "nbformat": 4,
 "nbformat_minor": 5
}
