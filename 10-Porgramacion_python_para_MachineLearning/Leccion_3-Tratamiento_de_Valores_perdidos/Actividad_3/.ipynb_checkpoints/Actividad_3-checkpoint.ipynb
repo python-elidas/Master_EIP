{
 "cells": [
  {
   "cell_type": "markdown",
   "id": "062e9ce9",
   "metadata": {},
   "source": [
    "# Librerias"
   ]
  },
  {
   "cell_type": "code",
   "execution_count": 1,
   "id": "26a31253",
   "metadata": {},
   "outputs": [],
   "source": [
    "#Importemos las librerias Necesarias:\n",
    "import scipy as sc\n",
    "import pandas as pd\n",
    "import numpy as np\n",
    "import matplotlib as mpl"
   ]
  },
  {
   "cell_type": "code",
   "execution_count": 2,
   "id": "49fbeb1a",
   "metadata": {},
   "outputs": [],
   "source": [
    "import sklearn as skl"
   ]
  },
  {
   "cell_type": "markdown",
   "id": "70a0d4f0",
   "metadata": {},
   "source": [
    "***"
   ]
  },
  {
   "cell_type": "markdown",
   "id": "3a45579b",
   "metadata": {},
   "source": [
    "## 1. Busca y descarga el conjunto de datos “Breast Cancer Wisconsin” del repositorio UCI Machine Learning.\n",
    "## 2. Cárgalo adecuadamente en un Pandas DataFrame."
   ]
  },
  {
   "cell_type": "markdown",
   "id": "0eb3c680",
   "metadata": {},
   "source": [
    "**Empleado los datos facilitadps en el documeto .names adjunto con el ejercicio se tienen los siguientes nombres de columnas:**"
   ]
  },
  {
   "cell_type": "code",
   "execution_count": 3,
   "id": "dd20b567",
   "metadata": {},
   "outputs": [],
   "source": [
    "cols = ['id', 'cth', 'ucsi', 'ucsh', 'madh', 'secs', 'bnuc', 'bchr', 'nnuc', 'mit', 'class']"
   ]
  },
  {
   "cell_type": "code",
   "execution_count": 4,
   "id": "9dab4903",
   "metadata": {},
   "outputs": [
    {
     "data": {
      "text/html": [
       "<div>\n",
       "<style scoped>\n",
       "    .dataframe tbody tr th:only-of-type {\n",
       "        vertical-align: middle;\n",
       "    }\n",
       "\n",
       "    .dataframe tbody tr th {\n",
       "        vertical-align: top;\n",
       "    }\n",
       "\n",
       "    .dataframe thead th {\n",
       "        text-align: right;\n",
       "    }\n",
       "</style>\n",
       "<table border=\"1\" class=\"dataframe\">\n",
       "  <thead>\n",
       "    <tr style=\"text-align: right;\">\n",
       "      <th></th>\n",
       "      <th>id</th>\n",
       "      <th>cth</th>\n",
       "      <th>ucsi</th>\n",
       "      <th>ucsh</th>\n",
       "      <th>madh</th>\n",
       "      <th>secs</th>\n",
       "      <th>bnuc</th>\n",
       "      <th>bchr</th>\n",
       "      <th>nnuc</th>\n",
       "      <th>mit</th>\n",
       "      <th>class</th>\n",
       "    </tr>\n",
       "  </thead>\n",
       "  <tbody>\n",
       "    <tr>\n",
       "      <th>0</th>\n",
       "      <td>1000025</td>\n",
       "      <td>5</td>\n",
       "      <td>1</td>\n",
       "      <td>1</td>\n",
       "      <td>1</td>\n",
       "      <td>2</td>\n",
       "      <td>1.0</td>\n",
       "      <td>3</td>\n",
       "      <td>1</td>\n",
       "      <td>1</td>\n",
       "      <td>2</td>\n",
       "    </tr>\n",
       "    <tr>\n",
       "      <th>1</th>\n",
       "      <td>1002945</td>\n",
       "      <td>5</td>\n",
       "      <td>4</td>\n",
       "      <td>4</td>\n",
       "      <td>5</td>\n",
       "      <td>7</td>\n",
       "      <td>10.0</td>\n",
       "      <td>3</td>\n",
       "      <td>2</td>\n",
       "      <td>1</td>\n",
       "      <td>2</td>\n",
       "    </tr>\n",
       "    <tr>\n",
       "      <th>2</th>\n",
       "      <td>1015425</td>\n",
       "      <td>3</td>\n",
       "      <td>1</td>\n",
       "      <td>1</td>\n",
       "      <td>1</td>\n",
       "      <td>2</td>\n",
       "      <td>2.0</td>\n",
       "      <td>3</td>\n",
       "      <td>1</td>\n",
       "      <td>1</td>\n",
       "      <td>2</td>\n",
       "    </tr>\n",
       "    <tr>\n",
       "      <th>3</th>\n",
       "      <td>1016277</td>\n",
       "      <td>6</td>\n",
       "      <td>8</td>\n",
       "      <td>8</td>\n",
       "      <td>1</td>\n",
       "      <td>3</td>\n",
       "      <td>4.0</td>\n",
       "      <td>3</td>\n",
       "      <td>7</td>\n",
       "      <td>1</td>\n",
       "      <td>2</td>\n",
       "    </tr>\n",
       "    <tr>\n",
       "      <th>4</th>\n",
       "      <td>1017023</td>\n",
       "      <td>4</td>\n",
       "      <td>1</td>\n",
       "      <td>1</td>\n",
       "      <td>3</td>\n",
       "      <td>2</td>\n",
       "      <td>1.0</td>\n",
       "      <td>3</td>\n",
       "      <td>1</td>\n",
       "      <td>1</td>\n",
       "      <td>2</td>\n",
       "    </tr>\n",
       "    <tr>\n",
       "      <th>...</th>\n",
       "      <td>...</td>\n",
       "      <td>...</td>\n",
       "      <td>...</td>\n",
       "      <td>...</td>\n",
       "      <td>...</td>\n",
       "      <td>...</td>\n",
       "      <td>...</td>\n",
       "      <td>...</td>\n",
       "      <td>...</td>\n",
       "      <td>...</td>\n",
       "      <td>...</td>\n",
       "    </tr>\n",
       "    <tr>\n",
       "      <th>694</th>\n",
       "      <td>776715</td>\n",
       "      <td>3</td>\n",
       "      <td>1</td>\n",
       "      <td>1</td>\n",
       "      <td>1</td>\n",
       "      <td>3</td>\n",
       "      <td>2.0</td>\n",
       "      <td>1</td>\n",
       "      <td>1</td>\n",
       "      <td>1</td>\n",
       "      <td>2</td>\n",
       "    </tr>\n",
       "    <tr>\n",
       "      <th>695</th>\n",
       "      <td>841769</td>\n",
       "      <td>2</td>\n",
       "      <td>1</td>\n",
       "      <td>1</td>\n",
       "      <td>1</td>\n",
       "      <td>2</td>\n",
       "      <td>1.0</td>\n",
       "      <td>1</td>\n",
       "      <td>1</td>\n",
       "      <td>1</td>\n",
       "      <td>2</td>\n",
       "    </tr>\n",
       "    <tr>\n",
       "      <th>696</th>\n",
       "      <td>888820</td>\n",
       "      <td>5</td>\n",
       "      <td>10</td>\n",
       "      <td>10</td>\n",
       "      <td>3</td>\n",
       "      <td>7</td>\n",
       "      <td>3.0</td>\n",
       "      <td>8</td>\n",
       "      <td>10</td>\n",
       "      <td>2</td>\n",
       "      <td>4</td>\n",
       "    </tr>\n",
       "    <tr>\n",
       "      <th>697</th>\n",
       "      <td>897471</td>\n",
       "      <td>4</td>\n",
       "      <td>8</td>\n",
       "      <td>6</td>\n",
       "      <td>4</td>\n",
       "      <td>3</td>\n",
       "      <td>4.0</td>\n",
       "      <td>10</td>\n",
       "      <td>6</td>\n",
       "      <td>1</td>\n",
       "      <td>4</td>\n",
       "    </tr>\n",
       "    <tr>\n",
       "      <th>698</th>\n",
       "      <td>897471</td>\n",
       "      <td>4</td>\n",
       "      <td>8</td>\n",
       "      <td>8</td>\n",
       "      <td>5</td>\n",
       "      <td>4</td>\n",
       "      <td>5.0</td>\n",
       "      <td>10</td>\n",
       "      <td>4</td>\n",
       "      <td>1</td>\n",
       "      <td>4</td>\n",
       "    </tr>\n",
       "  </tbody>\n",
       "</table>\n",
       "<p>699 rows × 11 columns</p>\n",
       "</div>"
      ],
      "text/plain": [
       "          id  cth  ucsi  ucsh  madh  secs  bnuc  bchr  nnuc  mit  class\n",
       "0    1000025    5     1     1     1     2   1.0     3     1    1      2\n",
       "1    1002945    5     4     4     5     7  10.0     3     2    1      2\n",
       "2    1015425    3     1     1     1     2   2.0     3     1    1      2\n",
       "3    1016277    6     8     8     1     3   4.0     3     7    1      2\n",
       "4    1017023    4     1     1     3     2   1.0     3     1    1      2\n",
       "..       ...  ...   ...   ...   ...   ...   ...   ...   ...  ...    ...\n",
       "694   776715    3     1     1     1     3   2.0     1     1    1      2\n",
       "695   841769    2     1     1     1     2   1.0     1     1    1      2\n",
       "696   888820    5    10    10     3     7   3.0     8    10    2      4\n",
       "697   897471    4     8     6     4     3   4.0    10     6    1      4\n",
       "698   897471    4     8     8     5     4   5.0    10     4    1      4\n",
       "\n",
       "[699 rows x 11 columns]"
      ]
     },
     "execution_count": 4,
     "metadata": {},
     "output_type": "execute_result"
    }
   ],
   "source": [
    "# Carguemos el dataframe:\n",
    "df = pd.read_csv('breast-cancer-wisconsin.csv', sep=',', names=cols)\n",
    "df[df=='?'] = np.nan\n",
    "for row in df:\n",
    "    df[row] = pd.to_numeric(df[row])\n",
    "df"
   ]
  },
  {
   "cell_type": "markdown",
   "id": "3aca0a23",
   "metadata": {},
   "source": [
    "## 3. Realiza un conteo de los datos faltantes por variable."
   ]
  },
  {
   "cell_type": "code",
   "execution_count": 5,
   "id": "f72256e2",
   "metadata": {},
   "outputs": [
    {
     "data": {
      "text/plain": [
       "id        0\n",
       "cth       0\n",
       "ucsi      0\n",
       "ucsh      0\n",
       "madh      0\n",
       "secs      0\n",
       "bnuc     16\n",
       "bchr      0\n",
       "nnuc      0\n",
       "mit       0\n",
       "class     0\n",
       "dtype: int64"
      ]
     },
     "execution_count": 5,
     "metadata": {},
     "output_type": "execute_result"
    }
   ],
   "source": [
    "df.isnull().sum()"
   ]
  },
  {
   "cell_type": "markdown",
   "id": "d6cfe92e",
   "metadata": {},
   "source": [
    "Como se puede ver, el atributo bnuc cuenta con 16 valores faltantes, procedamos a su sustitucion:"
   ]
  },
  {
   "cell_type": "markdown",
   "id": "7940487c",
   "metadata": {},
   "source": [
    "## 4. Aplica las estrategias de eliminación de valores faltantes estudiadas y compara sus efectos. Cuestiónate si en este caso alguna podría ser una solución factible al problema de los datos perdidos."
   ]
  },
  {
   "cell_type": "code",
   "execution_count": 6,
   "id": "6a041520",
   "metadata": {},
   "outputs": [
    {
     "name": "stdout",
     "output_type": "stream",
     "text": [
      "Original: (699, 11), Limpio:(683, 11)\n"
     ]
    }
   ],
   "source": [
    "# Eliminacion de patrones:\n",
    "df_clean = df.dropna()\n",
    "print(f'Original: {df.shape}, Limpio:{df_clean.shape}')"
   ]
  },
  {
   "cell_type": "code",
   "execution_count": 7,
   "id": "5bd93968",
   "metadata": {},
   "outputs": [
    {
     "name": "stdout",
     "output_type": "stream",
     "text": [
      "Original: (699, 11), Limpio:(699, 10)\n"
     ]
    }
   ],
   "source": [
    "# Eliminacion de atributos:\n",
    "df_clean = df.dropna(axis=1)\n",
    "print(f'Original: {df.shape}, Limpio:{df_clean.shape}')"
   ]
  },
  {
   "cell_type": "markdown",
   "id": "f1a9e171",
   "metadata": {},
   "source": [
    "Concluiremos comentando que la decisión de eliminar un atributo no resulta especialmente acertada, ya que se está eliminando mucha información. Por el contrario, la decisión de eliminar los patrones con valores faltantes, en este caso, al ser un pequeño porcentaje de los patrones los que se eliminan, podría ser una solución factible."
   ]
  },
  {
   "cell_type": "markdown",
   "id": "4d1fb6c2",
   "metadata": {},
   "source": [
    "## 5. Aplica las estrategias de imputación, tanto univariantes como multivariantes, de valores faltantes estudiadas."
   ]
  },
  {
   "cell_type": "markdown",
   "id": "8e3d3cb0",
   "metadata": {},
   "source": [
    "**Univariantes**"
   ]
  },
  {
   "cell_type": "code",
   "execution_count": 8,
   "id": "ad011304",
   "metadata": {},
   "outputs": [],
   "source": [
    "from sklearn.impute import SimpleImputer"
   ]
  },
  {
   "cell_type": "code",
   "execution_count": 9,
   "id": "c938156d",
   "metadata": {},
   "outputs": [
    {
     "data": {
      "image/png": "[encoded data removed]",
      "text/plain": [
       "<Figure size 432x288 with 1 Axes>"
      ]
     },
     "metadata": {
      "needs_background": "light"
     },
     "output_type": "display_data"
    }
   ],
   "source": [
    "# mostremos primero la distribucion original:\n",
    "org = df['bnuc'].plot(kind='hist', grid=True)"
   ]
  },
  {
   "cell_type": "code",
   "execution_count": 10,
   "id": "866591e4",
   "metadata": {},
   "outputs": [
    {
     "data": {
      "image/png": "[encoded data removed]",
      "text/plain": [
       "<Figure size 432x288 with 1 Axes>"
      ]
     },
     "metadata": {
      "needs_background": "light"
     },
     "output_type": "display_data"
    }
   ],
   "source": [
    "# Sustituyamos por un valor constante, 0 por ejemplo:\n",
    "df_0 = df.fillna(0)\n",
    "box_0 = df_0['bnuc'].plot(kind='hist', grid=True)"
   ]
  },
  {
   "cell_type": "code",
   "execution_count": 11,
   "id": "e1a0ba2b",
   "metadata": {},
   "outputs": [
    {
     "data": {
      "image/png": "[encoded data removed]",
      "text/plain": [
       "<Figure size 432x288 with 1 Axes>"
      ]
     },
     "metadata": {
      "needs_background": "light"
     },
     "output_type": "display_data"
    }
   ],
   "source": [
    "# Empleemos Simole Imputer y la media:\n",
    "imp = SimpleImputer(missing_values=np.nan, strategy='mean')\n",
    "imp.fit(df)\n",
    "df_mean = pd.DataFrame(imp.transform(df), columns=cols)\n",
    "box_mean = df_mean['bnuc'].plot(kind='hist', grid=True)"
   ]
  },
  {
   "cell_type": "code",
   "execution_count": 12,
   "id": "ab13dcf0",
   "metadata": {},
   "outputs": [
    {
     "data": {
      "image/png": "[encoded data removed]",
      "text/plain": [
       "<Figure size 432x288 with 1 Axes>"
      ]
     },
     "metadata": {
      "needs_background": "light"
     },
     "output_type": "display_data"
    }
   ],
   "source": [
    "# Empleemos Simole Imputer y y el valor mas fracuente:\n",
    "imp = SimpleImputer(missing_values=np.nan, strategy='most_frequent')\n",
    "imp.fit(df)\n",
    "df_freq = pd.DataFrame(imp.transform(df), columns=cols)\n",
    "box_freq = df_freq['bnuc'].plot(kind='hist', grid=True)"
   ]
  },
  {
   "cell_type": "markdown",
   "id": "886fcbfc",
   "metadata": {},
   "source": [
    "Hasta aquí podemos comentar que realmente la sustitución de los valores perdidos por métodos univariantes no suponen un cambio drástico en cuanto a las frecuencias se refiere. Donde más notables son los cambios es al emplear 'most_frecuent'. Podríamos decir, vistos los resultados que el método más correcto sería el de sustitución por la media, ya que no altera casi en absoluto las frecuencias de los datos."
   ]
  },
  {
   "cell_type": "markdown",
   "id": "46edffa8",
   "metadata": {},
   "source": [
    "**Multivariantes**"
   ]
  },
  {
   "cell_type": "code",
   "execution_count": 13,
   "id": "bef8ba20",
   "metadata": {},
   "outputs": [],
   "source": [
    "from sklearn.impute import KNNImputer"
   ]
  },
  {
   "cell_type": "code",
   "execution_count": 14,
   "id": "98c229b6",
   "metadata": {},
   "outputs": [
    {
     "data": {
      "image/png": "[encoded data removed]",
      "text/plain": [
       "<Figure size 432x288 with 1 Axes>"
      ]
     },
     "metadata": {
      "needs_background": "light"
     },
     "output_type": "display_data"
    }
   ],
   "source": [
    "# mostremos primero la distribucion original:\n",
    "org = df['bnuc'].plot(kind='hist', grid=True)"
   ]
  },
  {
   "cell_type": "code",
   "execution_count": 15,
   "id": "f67a68f3",
   "metadata": {},
   "outputs": [
    {
     "data": {
      "image/png": "[encoded data removed]",
      "text/plain": [
       "<Figure size 432x288 with 1 Axes>"
      ]
     },
     "metadata": {
      "needs_background": "light"
     },
     "output_type": "display_data"
    }
   ],
   "source": [
    "imp = KNNImputer()\n",
    "imp.fit(df)\n",
    "knn_df = pd.DataFrame(imp.transform(df), columns=cols)\n",
    "box_knn = knn_df['bnuc'].plot(kind='hist', grid=True)"
   ]
  },
  {
   "cell_type": "markdown",
   "id": "315e10d3",
   "metadata": {},
   "source": [
    "A modo de conclusión se puede afirmar que en el caso que nos ocupa, el KNNImputer por su complejidad es el que menor variación introduce en la frecuencia de los datos, ya que los predice en base a los datos del resto de patrones que valor deberían tener los valores perdidos. Este método, sin embargo, funciona bien para casos como el presente en el que los valores perdidos no son demasiados y por tanto la función KNNImputer puede generar un modelo en el cual basarse para generar las predicciones necesarias, si el data set tuviera mas datos faltantes habria que buscar metodos mas robustos."
   ]
  },
  {
   "cell_type": "markdown",
   "id": "dd75d815",
   "metadata": {},
   "source": [
    "***"
   ]
  },
  {
   "cell_type": "markdown",
   "id": "db88710b",
   "metadata": {},
   "source": [
    "# Notas:"
   ]
  },
  {
   "cell_type": "markdown",
   "id": "42e3c9ec",
   "metadata": {},
   "source": [
    "> Nota 1"
   ]
  },
  {
   "cell_type": "markdown",
   "id": "c0ab0cc2",
   "metadata": {},
   "source": [
    "# Bibliografia:\n",
    "\n",
    "   * pandas: https://pandas.pydata.org\n",
    "   * scikit learn:\n",
    "   * "
   ]
  }
 ],
 "metadata": {
  "kernelspec": {
   "display_name": "Python 3",
   "language": "python",
   "name": "python3"
  },
  "language_info": {
   "codemirror_mode": {
    "name": "ipython",
    "version": 3
   },
   "file_extension": ".py",
   "mimetype": "text/x-python",
   "name": "python",
   "nbconvert_exporter": "python",
   "pygments_lexer": "ipython3",
   "version": "3.6.9"
  }
 },
 "nbformat": 4,
 "nbformat_minor": 5
}
