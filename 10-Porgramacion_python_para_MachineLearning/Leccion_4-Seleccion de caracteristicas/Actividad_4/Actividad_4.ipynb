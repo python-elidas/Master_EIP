{
 "cells": [
  {
   "cell_type": "markdown",
   "metadata": {
    "id": "nPaNo9GS9XeM"
   },
   "source": [
    "# Librerias"
   ]
  },
  {
   "cell_type": "code",
   "execution_count": 1,
   "metadata": {
    "executionInfo": {
     "elapsed": 902,
     "status": "ok",
     "timestamp": 1637269564152,
     "user": {
      "displayName": "Elidas",
      "photoUrl": "https://lh3.googleusercontent.com/a-/AOh14GgvwyAwvyyiSiNu9xAmORDkt05v5mZ0V7WqaUDL=s64",
      "userId": "11715294582494023791"
     },
     "user_tz": -60
    },
    "id": "Pyk7XObZ9Rr_"
   },
   "outputs": [],
   "source": [
    "import pandas as pd\n",
    "import numpy as np\n",
    "import matplotlib.pyplot as plt\n",
    "import sklearn"
   ]
  },
  {
   "cell_type": "code",
   "execution_count": 2,
   "metadata": {
    "colab": {
     "base_uri": "https://localhost:8080/"
    },
    "executionInfo": {
     "elapsed": 24,
     "status": "ok",
     "timestamp": 1637269564153,
     "user": {
      "displayName": "Elidas",
      "photoUrl": "https://lh3.googleusercontent.com/a-/AOh14GgvwyAwvyyiSiNu9xAmORDkt05v5mZ0V7WqaUDL=s64",
      "userId": "11715294582494023791"
     },
     "user_tz": -60
    },
    "id": "YJF_2U0GELCp",
    "outputId": "25891015-b4dc-40ca-8f82-245d735f2595"
   },
   "outputs": [
    {
     "name": "stdout",
     "output_type": "stream",
     "text": [
      "Drive already mounted at /content/gdrive; to attempt to forcibly remount, call drive.mount(\"/content/gdrive\", force_remount=True).\n"
     ]
    }
   ],
   "source": [
    "# Carguemos los archivos de drive (en caso de usar colab)\n",
    "from google.colab import drive\n",
    "drive.mount('/content/gdrive')"
   ]
  },
  {
   "cell_type": "markdown",
   "metadata": {
    "id": "2Zda-FIx9xDI"
   },
   "source": [
    "***"
   ]
  },
  {
   "cell_type": "markdown",
   "metadata": {
    "id": "fYFacNC393Fd"
   },
   "source": [
    "## 1. Busca y descarga el conjunto de datos “Chess” del repositorio UCI Machine Learning.\n",
    "## 2. Cárgalo adecuadamente en un Pandas DataFrame\n"
   ]
  },
  {
   "cell_type": "markdown",
   "metadata": {
    "id": "N7G7ygyVD2t6"
   },
   "source": [
    "En base a la infromacion del archivo .info, daremos nombre a las columnas:\n",
    "\n"
   ]
  },
  {
   "cell_type": "code",
   "execution_count": 3,
   "metadata": {
    "executionInfo": {
     "elapsed": 21,
     "status": "ok",
     "timestamp": 1637269564153,
     "user": {
      "displayName": "Elidas",
      "photoUrl": "https://lh3.googleusercontent.com/a-/AOh14GgvwyAwvyyiSiNu9xAmORDkt05v5mZ0V7WqaUDL=s64",
      "userId": "11715294582494023791"
     },
     "user_tz": -60
    },
    "id": "c1lgjCE39u6d"
   },
   "outputs": [],
   "source": [
    "columns = ['wkc', 'wkr', 'wrc', 'wrr', 'bkf', 'bkr', 'opt']"
   ]
  },
  {
   "cell_type": "markdown",
   "metadata": {
    "id": "CaJO4pfYcthJ"
   },
   "source": [
    "Partiendo de aquí, carguemos el data set:"
   ]
  },
  {
   "cell_type": "code",
   "execution_count": 4,
   "metadata": {
    "colab": {
     "base_uri": "https://localhost:8080/",
     "height": 206
    },
    "executionInfo": {
     "elapsed": 21,
     "status": "ok",
     "timestamp": 1637269564154,
     "user": {
      "displayName": "Elidas",
      "photoUrl": "https://lh3.googleusercontent.com/a-/AOh14GgvwyAwvyyiSiNu9xAmORDkt05v5mZ0V7WqaUDL=s64",
      "userId": "11715294582494023791"
     },
     "user_tz": -60
    },
    "id": "p4ZAhTMDcmE5",
    "outputId": "4939ea04-b650-402f-c05f-262390525850"
   },
   "outputs": [
    {
     "data": {
      "text/html": [
       "<div>\n",
       "<style scoped>\n",
       "    .dataframe tbody tr th:only-of-type {\n",
       "        vertical-align: middle;\n",
       "    }\n",
       "\n",
       "    .dataframe tbody tr th {\n",
       "        vertical-align: top;\n",
       "    }\n",
       "\n",
       "    .dataframe thead th {\n",
       "        text-align: right;\n",
       "    }\n",
       "</style>\n",
       "<table border=\"1\" class=\"dataframe\">\n",
       "  <thead>\n",
       "    <tr style=\"text-align: right;\">\n",
       "      <th></th>\n",
       "      <th>wkc</th>\n",
       "      <th>wkr</th>\n",
       "      <th>wrc</th>\n",
       "      <th>wrr</th>\n",
       "      <th>bkf</th>\n",
       "      <th>bkr</th>\n",
       "      <th>opt</th>\n",
       "    </tr>\n",
       "  </thead>\n",
       "  <tbody>\n",
       "    <tr>\n",
       "      <th>0</th>\n",
       "      <td>a</td>\n",
       "      <td>1</td>\n",
       "      <td>b</td>\n",
       "      <td>3</td>\n",
       "      <td>c</td>\n",
       "      <td>2</td>\n",
       "      <td>draw</td>\n",
       "    </tr>\n",
       "    <tr>\n",
       "      <th>1</th>\n",
       "      <td>a</td>\n",
       "      <td>1</td>\n",
       "      <td>c</td>\n",
       "      <td>1</td>\n",
       "      <td>c</td>\n",
       "      <td>2</td>\n",
       "      <td>draw</td>\n",
       "    </tr>\n",
       "    <tr>\n",
       "      <th>2</th>\n",
       "      <td>a</td>\n",
       "      <td>1</td>\n",
       "      <td>c</td>\n",
       "      <td>1</td>\n",
       "      <td>d</td>\n",
       "      <td>1</td>\n",
       "      <td>draw</td>\n",
       "    </tr>\n",
       "    <tr>\n",
       "      <th>3</th>\n",
       "      <td>a</td>\n",
       "      <td>1</td>\n",
       "      <td>c</td>\n",
       "      <td>1</td>\n",
       "      <td>d</td>\n",
       "      <td>2</td>\n",
       "      <td>draw</td>\n",
       "    </tr>\n",
       "    <tr>\n",
       "      <th>4</th>\n",
       "      <td>a</td>\n",
       "      <td>1</td>\n",
       "      <td>c</td>\n",
       "      <td>2</td>\n",
       "      <td>c</td>\n",
       "      <td>1</td>\n",
       "      <td>draw</td>\n",
       "    </tr>\n",
       "  </tbody>\n",
       "</table>\n",
       "</div>"
      ],
      "text/plain": [
       "  wkc  wkr wrc  wrr bkf  bkr   opt\n",
       "0   a    1   b    3   c    2  draw\n",
       "1   a    1   c    1   c    2  draw\n",
       "2   a    1   c    1   d    1  draw\n",
       "3   a    1   c    1   d    2  draw\n",
       "4   a    1   c    2   c    1  draw"
      ]
     },
     "execution_count": 4,
     "metadata": {},
     "output_type": "execute_result"
    }
   ],
   "source": [
    "try:\n",
    "  df = pd.read_csv('gdrive/My Drive/krkopt.csv', sep=',', names=columns)\n",
    "except:\n",
    "  df = pd.read_csv('krkopt.csv', sep=',', names=columns)\n",
    "\n",
    "df.head()"
   ]
  },
  {
   "cell_type": "markdown",
   "metadata": {
    "id": "088A7Q1ZfkKe"
   },
   "source": [
    "## 3. Transforma las variables, que son todas categóricas, en numéricas"
   ]
  },
  {
   "cell_type": "code",
   "execution_count": 5,
   "metadata": {
    "colab": {
     "base_uri": "https://localhost:8080/"
    },
    "executionInfo": {
     "elapsed": 19,
     "status": "ok",
     "timestamp": 1637269564155,
     "user": {
      "displayName": "Elidas",
      "photoUrl": "https://lh3.googleusercontent.com/a-/AOh14GgvwyAwvyyiSiNu9xAmORDkt05v5mZ0V7WqaUDL=s64",
      "userId": "11715294582494023791"
     },
     "user_tz": -60
    },
    "id": "riUG_PEBdr5W",
    "outputId": "bb45d1e9-a909-49a6-8e33-fe0b500b6917"
   },
   "outputs": [
    {
     "data": {
      "text/plain": [
       "wkc    object\n",
       "wkr     int64\n",
       "wrc    object\n",
       "wrr     int64\n",
       "bkf    object\n",
       "bkr     int64\n",
       "opt    object\n",
       "dtype: object"
      ]
     },
     "execution_count": 5,
     "metadata": {},
     "output_type": "execute_result"
    }
   ],
   "source": [
    "# Analicemos los tipos de datos de cada atributo:\n",
    "df.dtypes"
   ]
  },
  {
   "cell_type": "code",
   "execution_count": 6,
   "metadata": {
    "colab": {
     "base_uri": "https://localhost:8080/",
     "height": 226
    },
    "executionInfo": {
     "elapsed": 18,
     "status": "ok",
     "timestamp": 1637269564157,
     "user": {
      "displayName": "Elidas",
      "photoUrl": "https://lh3.googleusercontent.com/a-/AOh14GgvwyAwvyyiSiNu9xAmORDkt05v5mZ0V7WqaUDL=s64",
      "userId": "11715294582494023791"
     },
     "user_tz": -60
    },
    "id": "8WkoEDT5efVq",
    "outputId": "68e854a7-8abc-43a9-c94d-54cbaee69561"
   },
   "outputs": [
    {
     "data": {
      "text/html": [
       "<div>\n",
       "<style scoped>\n",
       "    .dataframe tbody tr th:only-of-type {\n",
       "        vertical-align: middle;\n",
       "    }\n",
       "\n",
       "    .dataframe tbody tr th {\n",
       "        vertical-align: top;\n",
       "    }\n",
       "\n",
       "    .dataframe thead th {\n",
       "        text-align: right;\n",
       "    }\n",
       "</style>\n",
       "<table border=\"1\" class=\"dataframe\">\n",
       "  <thead>\n",
       "    <tr style=\"text-align: right;\">\n",
       "      <th></th>\n",
       "      <th>wkr</th>\n",
       "      <th>wrr</th>\n",
       "      <th>bkr</th>\n",
       "      <th>wkc_a</th>\n",
       "      <th>wkc_b</th>\n",
       "      <th>wkc_c</th>\n",
       "      <th>wkc_d</th>\n",
       "      <th>wrc_a</th>\n",
       "      <th>wrc_b</th>\n",
       "      <th>wrc_c</th>\n",
       "      <th>wrc_d</th>\n",
       "      <th>wrc_e</th>\n",
       "      <th>wrc_f</th>\n",
       "      <th>wrc_g</th>\n",
       "      <th>wrc_h</th>\n",
       "      <th>bkf_a</th>\n",
       "      <th>bkf_b</th>\n",
       "      <th>bkf_c</th>\n",
       "      <th>bkf_d</th>\n",
       "      <th>bkf_e</th>\n",
       "      <th>bkf_f</th>\n",
       "      <th>bkf_g</th>\n",
       "      <th>bkf_h</th>\n",
       "      <th>opt_draw</th>\n",
       "      <th>opt_eight</th>\n",
       "      <th>opt_eleven</th>\n",
       "      <th>opt_fifteen</th>\n",
       "      <th>opt_five</th>\n",
       "      <th>opt_four</th>\n",
       "      <th>opt_fourteen</th>\n",
       "      <th>opt_nine</th>\n",
       "      <th>opt_one</th>\n",
       "      <th>opt_seven</th>\n",
       "      <th>opt_six</th>\n",
       "      <th>opt_sixteen</th>\n",
       "      <th>opt_ten</th>\n",
       "      <th>opt_thirteen</th>\n",
       "      <th>opt_three</th>\n",
       "      <th>opt_twelve</th>\n",
       "      <th>opt_two</th>\n",
       "      <th>opt_zero</th>\n",
       "    </tr>\n",
       "  </thead>\n",
       "  <tbody>\n",
       "    <tr>\n",
       "      <th>0</th>\n",
       "      <td>1</td>\n",
       "      <td>3</td>\n",
       "      <td>2</td>\n",
       "      <td>1</td>\n",
       "      <td>0</td>\n",
       "      <td>0</td>\n",
       "      <td>0</td>\n",
       "      <td>0</td>\n",
       "      <td>1</td>\n",
       "      <td>0</td>\n",
       "      <td>0</td>\n",
       "      <td>0</td>\n",
       "      <td>0</td>\n",
       "      <td>0</td>\n",
       "      <td>0</td>\n",
       "      <td>0</td>\n",
       "      <td>0</td>\n",
       "      <td>1</td>\n",
       "      <td>0</td>\n",
       "      <td>0</td>\n",
       "      <td>0</td>\n",
       "      <td>0</td>\n",
       "      <td>0</td>\n",
       "      <td>1</td>\n",
       "      <td>0</td>\n",
       "      <td>0</td>\n",
       "      <td>0</td>\n",
       "      <td>0</td>\n",
       "      <td>0</td>\n",
       "      <td>0</td>\n",
       "      <td>0</td>\n",
       "      <td>0</td>\n",
       "      <td>0</td>\n",
       "      <td>0</td>\n",
       "      <td>0</td>\n",
       "      <td>0</td>\n",
       "      <td>0</td>\n",
       "      <td>0</td>\n",
       "      <td>0</td>\n",
       "      <td>0</td>\n",
       "      <td>0</td>\n",
       "    </tr>\n",
       "    <tr>\n",
       "      <th>1</th>\n",
       "      <td>1</td>\n",
       "      <td>1</td>\n",
       "      <td>2</td>\n",
       "      <td>1</td>\n",
       "      <td>0</td>\n",
       "      <td>0</td>\n",
       "      <td>0</td>\n",
       "      <td>0</td>\n",
       "      <td>0</td>\n",
       "      <td>1</td>\n",
       "      <td>0</td>\n",
       "      <td>0</td>\n",
       "      <td>0</td>\n",
       "      <td>0</td>\n",
       "      <td>0</td>\n",
       "      <td>0</td>\n",
       "      <td>0</td>\n",
       "      <td>1</td>\n",
       "      <td>0</td>\n",
       "      <td>0</td>\n",
       "      <td>0</td>\n",
       "      <td>0</td>\n",
       "      <td>0</td>\n",
       "      <td>1</td>\n",
       "      <td>0</td>\n",
       "      <td>0</td>\n",
       "      <td>0</td>\n",
       "      <td>0</td>\n",
       "      <td>0</td>\n",
       "      <td>0</td>\n",
       "      <td>0</td>\n",
       "      <td>0</td>\n",
       "      <td>0</td>\n",
       "      <td>0</td>\n",
       "      <td>0</td>\n",
       "      <td>0</td>\n",
       "      <td>0</td>\n",
       "      <td>0</td>\n",
       "      <td>0</td>\n",
       "      <td>0</td>\n",
       "      <td>0</td>\n",
       "    </tr>\n",
       "    <tr>\n",
       "      <th>2</th>\n",
       "      <td>1</td>\n",
       "      <td>1</td>\n",
       "      <td>1</td>\n",
       "      <td>1</td>\n",
       "      <td>0</td>\n",
       "      <td>0</td>\n",
       "      <td>0</td>\n",
       "      <td>0</td>\n",
       "      <td>0</td>\n",
       "      <td>1</td>\n",
       "      <td>0</td>\n",
       "      <td>0</td>\n",
       "      <td>0</td>\n",
       "      <td>0</td>\n",
       "      <td>0</td>\n",
       "      <td>0</td>\n",
       "      <td>0</td>\n",
       "      <td>0</td>\n",
       "      <td>1</td>\n",
       "      <td>0</td>\n",
       "      <td>0</td>\n",
       "      <td>0</td>\n",
       "      <td>0</td>\n",
       "      <td>1</td>\n",
       "      <td>0</td>\n",
       "      <td>0</td>\n",
       "      <td>0</td>\n",
       "      <td>0</td>\n",
       "      <td>0</td>\n",
       "      <td>0</td>\n",
       "      <td>0</td>\n",
       "      <td>0</td>\n",
       "      <td>0</td>\n",
       "      <td>0</td>\n",
       "      <td>0</td>\n",
       "      <td>0</td>\n",
       "      <td>0</td>\n",
       "      <td>0</td>\n",
       "      <td>0</td>\n",
       "      <td>0</td>\n",
       "      <td>0</td>\n",
       "    </tr>\n",
       "    <tr>\n",
       "      <th>3</th>\n",
       "      <td>1</td>\n",
       "      <td>1</td>\n",
       "      <td>2</td>\n",
       "      <td>1</td>\n",
       "      <td>0</td>\n",
       "      <td>0</td>\n",
       "      <td>0</td>\n",
       "      <td>0</td>\n",
       "      <td>0</td>\n",
       "      <td>1</td>\n",
       "      <td>0</td>\n",
       "      <td>0</td>\n",
       "      <td>0</td>\n",
       "      <td>0</td>\n",
       "      <td>0</td>\n",
       "      <td>0</td>\n",
       "      <td>0</td>\n",
       "      <td>0</td>\n",
       "      <td>1</td>\n",
       "      <td>0</td>\n",
       "      <td>0</td>\n",
       "      <td>0</td>\n",
       "      <td>0</td>\n",
       "      <td>1</td>\n",
       "      <td>0</td>\n",
       "      <td>0</td>\n",
       "      <td>0</td>\n",
       "      <td>0</td>\n",
       "      <td>0</td>\n",
       "      <td>0</td>\n",
       "      <td>0</td>\n",
       "      <td>0</td>\n",
       "      <td>0</td>\n",
       "      <td>0</td>\n",
       "      <td>0</td>\n",
       "      <td>0</td>\n",
       "      <td>0</td>\n",
       "      <td>0</td>\n",
       "      <td>0</td>\n",
       "      <td>0</td>\n",
       "      <td>0</td>\n",
       "    </tr>\n",
       "    <tr>\n",
       "      <th>4</th>\n",
       "      <td>1</td>\n",
       "      <td>2</td>\n",
       "      <td>1</td>\n",
       "      <td>1</td>\n",
       "      <td>0</td>\n",
       "      <td>0</td>\n",
       "      <td>0</td>\n",
       "      <td>0</td>\n",
       "      <td>0</td>\n",
       "      <td>1</td>\n",
       "      <td>0</td>\n",
       "      <td>0</td>\n",
       "      <td>0</td>\n",
       "      <td>0</td>\n",
       "      <td>0</td>\n",
       "      <td>0</td>\n",
       "      <td>0</td>\n",
       "      <td>1</td>\n",
       "      <td>0</td>\n",
       "      <td>0</td>\n",
       "      <td>0</td>\n",
       "      <td>0</td>\n",
       "      <td>0</td>\n",
       "      <td>1</td>\n",
       "      <td>0</td>\n",
       "      <td>0</td>\n",
       "      <td>0</td>\n",
       "      <td>0</td>\n",
       "      <td>0</td>\n",
       "      <td>0</td>\n",
       "      <td>0</td>\n",
       "      <td>0</td>\n",
       "      <td>0</td>\n",
       "      <td>0</td>\n",
       "      <td>0</td>\n",
       "      <td>0</td>\n",
       "      <td>0</td>\n",
       "      <td>0</td>\n",
       "      <td>0</td>\n",
       "      <td>0</td>\n",
       "      <td>0</td>\n",
       "    </tr>\n",
       "  </tbody>\n",
       "</table>\n",
       "</div>"
      ],
      "text/plain": [
       "   wkr  wrr  bkr  wkc_a  ...  opt_three  opt_twelve  opt_two  opt_zero\n",
       "0    1    3    2      1  ...          0           0        0         0\n",
       "1    1    1    2      1  ...          0           0        0         0\n",
       "2    1    1    1      1  ...          0           0        0         0\n",
       "3    1    1    2      1  ...          0           0        0         0\n",
       "4    1    2    1      1  ...          0           0        0         0\n",
       "\n",
       "[5 rows x 41 columns]"
      ]
     },
     "execution_count": 6,
     "metadata": {},
     "output_type": "execute_result"
    }
   ],
   "source": [
    "# Convirtamos todas las varibales a no numericas a numéricas:\n",
    "df_dum = pd.get_dummies(df)\n",
    "df_dum.head()"
   ]
  },
  {
   "cell_type": "markdown",
   "metadata": {
    "id": "z0t7x4UbfnEi"
   },
   "source": [
    "## 4. Aplica el método Filter de selección de características SelectKBest para conseguir un ranking de importancia de características según los estadísticos pertinentes al tipo de variable de entrada y tipo de problema.\n",
    "## 5. Realiza un gráfico de barras con la importancia de cada característica para cada uno de los estadísticos utilizados. ¿Coinciden las tres características más importantes en todos los casos?"
   ]
  },
  {
   "cell_type": "code",
   "execution_count": 7,
   "metadata": {
    "executionInfo": {
     "elapsed": 16,
     "status": "ok",
     "timestamp": 1637269564158,
     "user": {
      "displayName": "Elidas",
      "photoUrl": "https://lh3.googleusercontent.com/a-/AOh14GgvwyAwvyyiSiNu9xAmORDkt05v5mZ0V7WqaUDL=s64",
      "userId": "11715294582494023791"
     },
     "user_tz": -60
    },
    "id": "fppVpiGwf7Y4"
   },
   "outputs": [],
   "source": [
    "# Importemos la librería:\n",
    "from sklearn.feature_selection import SelectKBest as SKB\n",
    "from sklearn.feature_selection import chi2 \n",
    "from sklearn.feature_selection import mutual_info_classif \n",
    "from sklearn.feature_selection import mutual_info_regression"
   ]
  },
  {
   "cell_type": "code",
   "execution_count": 8,
   "metadata": {
    "colab": {
     "base_uri": "https://localhost:8080/"
    },
    "executionInfo": {
     "elapsed": 267,
     "status": "ok",
     "timestamp": 1637269564410,
     "user": {
      "displayName": "Elidas",
      "photoUrl": "https://lh3.googleusercontent.com/a-/AOh14GgvwyAwvyyiSiNu9xAmORDkt05v5mZ0V7WqaUDL=s64",
      "userId": "11715294582494023791"
     },
     "user_tz": -60
    },
    "id": "VTKy_ZDTfqsq",
    "outputId": "8369350f-7bab-4dce-d47a-d00f42d838fa"
   },
   "outputs": [
    {
     "data": {
      "text/plain": [
       "(28056, 41)"
      ]
     },
     "execution_count": 8,
     "metadata": {},
     "output_type": "execute_result"
    }
   ],
   "source": [
    "# Antes de nada, vemos cierta infromación relevante:\n",
    "df_dum.shape"
   ]
  },
  {
   "cell_type": "code",
   "execution_count": 9,
   "metadata": {
    "executionInfo": {
     "elapsed": 8,
     "status": "ok",
     "timestamp": 1637269564411,
     "user": {
      "displayName": "Elidas",
      "photoUrl": "https://lh3.googleusercontent.com/a-/AOh14GgvwyAwvyyiSiNu9xAmORDkt05v5mZ0V7WqaUDL=s64",
      "userId": "11715294582494023791"
     },
     "user_tz": -60
    },
    "id": "KXvQG7k7yQkS"
   },
   "outputs": [],
   "source": [
    "# Preparemos las variables...\n",
    "X = pd.get_dummies(df.drop('opt', axis=1))\n",
    "col_X = (X.columns)\n",
    "y = df['opt']"
   ]
  },
  {
   "cell_type": "code",
   "execution_count": 22,
   "metadata": {
    "colab": {
     "base_uri": "https://localhost:8080/",
     "height": 605
    },
    "executionInfo": {
     "elapsed": 820,
     "status": "ok",
     "timestamp": 1637270303796,
     "user": {
      "displayName": "Elidas",
      "photoUrl": "https://lh3.googleusercontent.com/a-/AOh14GgvwyAwvyyiSiNu9xAmORDkt05v5mZ0V7WqaUDL=s64",
      "userId": "11715294582494023791"
     },
     "user_tz": -60
    },
    "id": "2l5oh02dgO8T",
    "outputId": "807d0aee-5c67-42f8-81fa-dd32f936979a"
   },
   "outputs": [
    {
     "data": {
      "text/plain": [
       "<matplotlib.axes._subplots.AxesSubplot at 0x7fd4d041eb90>"
      ]
     },
     "execution_count": 22,
     "metadata": {},
     "output_type": "execute_result"
    },
    {
     "data": {
      "image/png": "[encoded data removed]",
      "text/plain": [
       "<Figure size 720x720 with 1 Axes>"
      ]
     },
     "metadata": {
      "needs_background": "light"
     },
     "output_type": "display_data"
    }
   ],
   "source": [
    "chi_2 = SKB(score_func=chi2, k='all').fit(X, y)\n",
    "df_chi = pd.DataFrame(chi_2.scores_.reshape((1, 23)), columns=col_X)\n",
    "df_chi.plot(kind='bar', figsize=(10, 10))"
   ]
  },
  {
   "cell_type": "code",
   "execution_count": 21,
   "metadata": {
    "colab": {
     "base_uri": "https://localhost:8080/",
     "height": 605
    },
    "executionInfo": {
     "elapsed": 5184,
     "status": "ok",
     "timestamp": 1637270302610,
     "user": {
      "displayName": "Elidas",
      "photoUrl": "https://lh3.googleusercontent.com/a-/AOh14GgvwyAwvyyiSiNu9xAmORDkt05v5mZ0V7WqaUDL=s64",
      "userId": "11715294582494023791"
     },
     "user_tz": -60
    },
    "id": "dm41bTTKyeUR",
    "outputId": "5a5468f6-a3a6-407e-e252-b35ebc75ba91"
   },
   "outputs": [
    {
     "data": {
      "text/plain": [
       "<matplotlib.axes._subplots.AxesSubplot at 0x7fd4d0445410>"
      ]
     },
     "execution_count": 21,
     "metadata": {},
     "output_type": "execute_result"
    },
    {
     "data": {
      "image/png": "[encoded data removed]",
      "text/plain": [
       "<Figure size 720x720 with 1 Axes>"
      ]
     },
     "metadata": {
      "needs_background": "light"
     },
     "output_type": "display_data"
    }
   ],
   "source": [
    "mic = SKB(score_func=mutual_info_classif, k='all').fit(X, y)\n",
    "df_mic = pd.DataFrame(mic.scores_.reshape((1, 23)), columns=col_X)\n",
    "df_mic.plot(kind='bar', figsize=(10, 10))"
   ]
  },
  {
   "cell_type": "markdown",
   "metadata": {
    "id": "JcQ4PrEx147g"
   },
   "source": [
    "Dado que el dataset empleado es mas complejo, en vez de fijarnos en las tres caracteristicas principales nos fijaremos en dosm mas.<br/>\n",
    "Es apreciable que entre la cuatro principales se encuentran la verde, la azul y la rosa sin embargo, esta ultima queda relevada a cuarto lugar al emplear chi2 ya que la columna roja ocupa el tercer puesto en orden de importancia"
   ]
  }
 ],
 "metadata": {
  "colab": {
   "authorship_tag": "ABX9TyMwahFavqn/++yIQPKjDsaW",
   "collapsed_sections": [],
   "name": "Actividad_4.ipynb",
   "provenance": []
  },
  "kernelspec": {
   "display_name": "Python 3",
   "language": "python",
   "name": "python3"
  },
  "language_info": {
   "codemirror_mode": {
    "name": "ipython",
    "version": 3
   },
   "file_extension": ".py",
   "mimetype": "text/x-python",
   "name": "python",
   "nbconvert_exporter": "python",
   "pygments_lexer": "ipython3",
   "version": "3.6.9"
  }
 },
 "nbformat": 4,
 "nbformat_minor": 1
}
