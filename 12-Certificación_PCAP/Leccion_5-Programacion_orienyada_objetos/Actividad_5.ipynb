{
 "cells": [
  {
   "cell_type": "markdown",
   "metadata": {},
   "source": [
    "# Practica"
   ]
  },
  {
   "cell_type": "code",
   "execution_count": 55,
   "metadata": {},
   "outputs": [],
   "source": [
    "class Biblioteca:\n",
    "    num_ejemplares = 0\n",
    "    prestados = []\n",
    "    \n",
    "    def prestar(self):\n",
    "        Biblioteca.prestados.append(self.cod)\n",
    "        self.status = 'PRESTADO'\n",
    "        self.num_prestados = len(Biblioteca.prestados)\n",
    "        print(f'{self.cod} Prestado')\n",
    "    \n",
    "    def devolver(self):\n",
    "        try:                \n",
    "            ind = Biblioteca.prestados.index(self.cod)\n",
    "            Biblioteca.prestados.pop(ind)\n",
    "            self.status = 'NO PRESTADO'\n",
    "            self.num_prestados = len(Biblioteca.prestados)\n",
    "            print(f'{self.cod} Devuelto')\n",
    "        except:\n",
    "            pass"
   ]
  },
  {
   "cell_type": "code",
   "execution_count": 56,
   "metadata": {},
   "outputs": [],
   "source": [
    "class libro(Biblioteca):\n",
    "    num_libros = 0\n",
    "    num_totales = 0\n",
    "    num_prestados = list()\n",
    "    def __init__(self, cod, title, isbn):\n",
    "        libro.num_libros += 1\n",
    "        Biblioteca.num_ejemplares += 1\n",
    "        libro.num_totales = Biblioteca.num_ejemplares\n",
    "        libro.num_prestados = len(Biblioteca.prestados)\n",
    "        self.cod = cod.upper()\n",
    "        self.title = title\n",
    "        self.isbn = isbn\n",
    "        self.status = 'NO PRESTADO'\n",
    "    \n",
    "    def return_info(self):\n",
    "        return f'{self.cod} - {self.title} - {self.status} ({self.isbn})'"
   ]
  },
  {
   "cell_type": "code",
   "execution_count": 57,
   "metadata": {},
   "outputs": [],
   "source": [
    "class revista(Biblioteca):\n",
    "    num_revistas = 0\n",
    "    num_totales = 0\n",
    "    num_prestados = 0\n",
    "    def __init__(self, cod, title, num):\n",
    "        revista.num_revistas += 1\n",
    "        Biblioteca.num_ejemplares += 1\n",
    "        revista.num_totales = Biblioteca.num_ejemplares\n",
    "        revista.num_prestados = len(Biblioteca.prestados)\n",
    "        self.cod = cod.upper()\n",
    "        self.title = title\n",
    "        self.num = num\n",
    "        self.status = 'NO PRESTADO'\n",
    "    \n",
    "    def return_info(self):\n",
    "        return f'{self.cod} - {self.title} - {self.status} ({self.num})'"
   ]
  },
  {
   "cell_type": "code",
   "execution_count": 58,
   "metadata": {},
   "outputs": [
    {
     "name": "stdout",
     "output_type": "stream",
     "text": [
      "Mi primer libro es: LB-0001 - Los Pilares de la tierra - NO PRESTADO (978-84-9759-290-1)\n",
      "El numero total de ejemplares es: 1\n",
      "El numero de libros es de: 1\n",
      "El numero de ejemplares prestados es de: 0\n",
      "\n",
      "Mi segundo libro es: LB-0002 - El libro de los Sith - NO PRESTADO (978-84-450-0579-8)\n",
      "El numero total de ejemplares es: 2\n",
      "El numero de libros es de: 2\n",
      "El numero de ejemplares prestados es de: 0\n",
      "\n",
      "Mi primera revista es: RB-AAAA - Made in abyss - NO PRESTADO (01)\n",
      "El numero total de ejemplares es: 3\n",
      "El numero de libros es de: 1\n",
      "El numero de ejemplares prestados es de: 0\n",
      "\n",
      "Mi segunda revista es: RB-AABC - Yagate kimi-ni naru - NO PRESTADO (03)\n",
      "El numero total de ejemplares es: 4\n",
      "El numero de libros es de: 2\n",
      "El numero de ejemplares prestados es de: 0\n",
      "\n",
      "Mi tercera revista es: RB-AACE - National Geographic - NO PRESTADO (05)\n",
      "El numero total de ejemplares es: 5\n",
      "El numero de libros es de: 3\n",
      "El numero de ejemplares prestados es de: 0\n",
      "\n",
      "RB-AAAA Prestado\n",
      "LB-0001 Prestado\n",
      "El numero de ejemplares prestados es de: 2\n",
      "LB-0001 Devuelto\n",
      "El numero de ejemplares prestados es de: 1\n"
     ]
    }
   ],
   "source": [
    "libro1 = libro('lb-0001', 'Los Pilares de la tierra', '978-84-9759-290-1')\n",
    "print(f'Mi primer libro es: {libro1.return_info()}')\n",
    "print(f'El numero total de ejemplares es: {libro1.num_totales}')\n",
    "print(f'El numero de libros es de: {libro1.num_libros}')\n",
    "print(f'El numero de ejemplares prestados es de: {libro1.num_prestados}\\n')\n",
    "\n",
    "libro2 = libro('lb-0002', 'El libro de los Sith', '978-84-450-0579-8')\n",
    "print(f'Mi segundo libro es: {libro2.return_info()}')\n",
    "print(f'El numero total de ejemplares es: {libro1.num_totales}')\n",
    "print(f'El numero de libros es de: {libro1.num_libros}')\n",
    "print(f'El numero de ejemplares prestados es de: {libro1.num_prestados}\\n')\n",
    "\n",
    "revista1 = revista('rb-aaaa', 'Made in abyss', '01')\n",
    "print(f'Mi primera revista es: {revista1.return_info()}')\n",
    "print(f'El numero total de ejemplares es: {revista1.num_totales}')\n",
    "print(f'El numero de libros es de: {revista1.num_revistas}')\n",
    "print(f'El numero de ejemplares prestados es de: {revista1.num_prestados}\\n')\n",
    "\n",
    "revista2 = revista('rb-aabc', 'Yagate kimi-ni naru', '03')\n",
    "print(f'Mi segunda revista es: {revista2.return_info()}')\n",
    "print(f'El numero total de ejemplares es: {revista1.num_totales}')\n",
    "print(f'El numero de libros es de: {revista1.num_revistas}')\n",
    "print(f'El numero de ejemplares prestados es de: {revista1.num_prestados}\\n')\n",
    "\n",
    "revista3 = revista('rb-aace', 'National Geographic', '05')\n",
    "print(f'Mi tercera revista es: {revista3.return_info()}')\n",
    "print(f'El numero total de ejemplares es: {revista1.num_totales}')\n",
    "print(f'El numero de libros es de: {revista1.num_revistas}')\n",
    "print(f'El numero de ejemplares prestados es de: {revista1.num_prestados}\\n')\n",
    "\n",
    "revista1.prestar()\n",
    "libro1.prestar()\n",
    "print(f'El numero de ejemplares prestados es de: {libro1.num_prestados}')\n",
    "\n",
    "libro1.devolver()\n",
    "print(f'El numero de ejemplares prestados es de: {libro1.num_prestados}')\n"
   ]
  },
  {
   "cell_type": "markdown",
   "metadata": {},
   "source": [
    "## Salida:\n",
    "Mi primer libro es: LB-0001 - Los Pilares de la tierra - NO PRESTADO (978-84-9759-290-1)<br/>\n",
    "El numero total de ejemplares es: 1<br/>\n",
    "El numero de libros es de: 1<br/>\n",
    "El numero de ejemplares prestados es de: 0<br/>\n",
    "<br/>\n",
    "Mi segundo libro es: LB-0002 - El libro de los Sith - NO PRESTADO (978-84-450-0579-8)<br/>\n",
    "El numero total de ejemplares es: 2<br/>\n",
    "El numero de libros es de: 2<br/>\n",
    "El numero de ejemplares prestados es de: 0<br/>\n",
    "<br/>\n",
    "Mi primera revista es: RB-AAAA - Made in abyss - NO PRESTADO (01)<br/>\n",
    "El numero total de ejemplares es: 3<br/>\n",
    "El numero de libros es de: 1<br/>\n",
    "El numero de ejemplares prestados es de: 0<br/>\n",
    "<br/>\n",
    "Mi segunda revista es: RB-AABC - Yagate kimi-ni naru - NO PRESTADO (03)<br/>\n",
    "El numero total de ejemplares es: 4<br/>\n",
    "El numero de libros es de: 2<br/>\n",
    "El numero de ejemplares prestados es de: 0<br/>\n",
    "<br/>\n",
    "Mi tercera revista es: RB-AACE - National Geographic - NO PRESTADO (05)<br/>\n",
    "El numero total de ejemplares es: 5<br/>\n",
    "El numero de libros es de: 3<br/>\n",
    "El numero de ejemplares prestados es de: 0<br/>\n",
    "<br/>\n",
    "RB-AAAA Prestado<br/>\n",
    "LB-0001 Prestado<br/>\n",
    "El numero de ejemplares prestados es de: 2<br/>\n",
    "LB-0001 Devuelto<br/>\n",
    "El numero de ejemplares prestados es de: 1<br/>\n"
   ]
  },
  {
   "cell_type": "markdown",
   "metadata": {},
   "source": [
    "# Teoria"
   ]
  },
  {
   "cell_type": "markdown",
   "metadata": {},
   "source": [
    "## Pregunta 1\n",
    "\n",
    "LA clase ClaseB hereda los métodos y atributos de clase de la clase ClaseA, por lo que al:\n",
    "   - o1 = ClaseA(3) esta estableciendo o1.a = 3\n",
    "   - o2 = ClaseB(2, 4) esta estableciendo el atributo de clase de ClaseA A en 2 y el atributo de clase de ClaseB B en 4\n",
    "   - Por otra parte, no se ha lanzado el constructor de ClaseA dentro de ClaseB por lo que ClaseB no tiene el atributo self.a\n",
    "\n",
    "Teniendo todo ello en cuenta, la respuesta es **D)**"
   ]
  },
  {
   "cell_type": "markdown",
   "metadata": {},
   "source": [
    "## Pregunta 2\n",
    "\n",
    "En est caso se están empleando tres métodos de definición de variables o atributos de clase: mediante el constructor, externo y mediante método de clase por tanto:\n",
    "\n",
    "  - Al crear o1 = A() y o2 = A(), se están creando mediante constructor o1.a y o2.a\n",
    "  - Con o1.c = 30 se está creando el atributo de forma externa.\n",
    "  - Con o2.a = 15 se está cambiando el valor del atributo.\n",
    "  - con o2.metodo1() se está creando el atributo o2.b con su valor por defecto.\n",
    "\n",
    "Por los motivos mecionados, las respuestas son **C)** y **F)** ya que o1.b no se ha llegado a crear, **H)** ya que no se ha creado o2.c e **I)**."
   ]
  },
  {
   "cell_type": "markdown",
   "metadata": {},
   "source": [
    "## Pregunta 3\n",
    "\n",
    "Para que la subclase B tenga acceso al atributo A.a es necesario lanzar el constructor de la super clase A dentro de B, para ello serviría tanto **B)** como **D)**."
   ]
  },
  {
   "cell_type": "markdown",
   "metadata": {},
   "source": [
    "# Pregunta 4\n",
    "\n",
    "En este caso, D es subclase tanto de C como de A por lo que issubclass(D,C) devolverá True pero, para saber que imprimirá por pantalla o.metodo() hay que recurrir al orden jerárquico, ya que python cuando se llama a un método, primero busca en la clase desde la que se está intentando llamar al método y después busca en las super clases de derecha a izquierda por lo que la respuesta es **C)**"
   ]
  }
 ],
 "metadata": {
  "interpreter": {
   "hash": "13658577ba1339797d5654e7a8605ee45f76ca212a53cf3c0406796abc2b15b7"
  },
  "kernelspec": {
   "display_name": "Python 3.9.9 ('EIP')",
   "language": "python",
   "name": "python3"
  },
  "language_info": {
   "codemirror_mode": {
    "name": "ipython",
    "version": 3
   },
   "file_extension": ".py",
   "mimetype": "text/x-python",
   "name": "python",
   "nbconvert_exporter": "python",
   "pygments_lexer": "ipython3",
   "version": "3.9.9"
  },
  "orig_nbformat": 4
 },
 "nbformat": 4,
 "nbformat_minor": 2
}
