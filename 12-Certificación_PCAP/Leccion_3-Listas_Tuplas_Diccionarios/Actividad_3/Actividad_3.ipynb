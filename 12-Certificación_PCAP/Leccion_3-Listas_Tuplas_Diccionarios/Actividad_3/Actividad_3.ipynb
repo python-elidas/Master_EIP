{
 "cells": [
  {
   "cell_type": "code",
   "execution_count": 7,
   "metadata": {},
   "outputs": [],
   "source": [
    "clientes = {\n",
    "    '16077560P' : {\n",
    "        'nombre' : 'Oscar',\n",
    "        'puntos' : 0,\n",
    "        'compras' : str()\n",
    "    },\n",
    "    '16056095D' : {\n",
    "        'nombre' : 'Joana',\n",
    "        'puntos' : 0,\n",
    "        'compras' : str()\n",
    "    }\n",
    "}"
   ]
  },
  {
   "cell_type": "code",
   "execution_count": 9,
   "metadata": {},
   "outputs": [
    {
     "name": "stdout",
     "output_type": "stream",
     "text": [
      "[*] El cliente Oscar (16077560P) acumula un total de 80 puntos\n",
      "[*] El cliente ha realizado las siguientes compras: 85.5 - 12.0 - \n",
      "---------------------------\n"
     ]
    }
   ],
   "source": [
    "dni = input('[+] Introduce el DNI del cliente:\\n>>> ')\n",
    "while dni != '0':\n",
    "    cliente = clientes.get(\n",
    "        dni,\n",
    "        {'nombre' : None}\n",
    "    )\n",
    "    if cliente['nombre'] is None:\n",
    "        cliente['nombre'] = input(f'[+] Introduce el nombre del cliente con DNI {dni}:\\n>>> ')\n",
    "    cliente['nombre'].upper()\n",
    "    compra = float(input('[+] Introduce el total de la compra:\\n>>> '))\n",
    "    cliente['puntos'] += int((compra // 6) * 5)\n",
    "    cliente['compras'] += f'{str(compra)} - ' \n",
    "    print(f\"[*] El cliente {cliente['nombre']} ({dni}) acumula un total de {cliente['puntos']} puntos\")\n",
    "    print(f\"[*] El cliente ha realizado las siguientes compras: {cliente['compras']}\")\n",
    "    print('---------------------------')\n",
    "    dni = input('[+] Introduce el DNI del cliente:\\n>>> ')"
   ]
  },
  {
   "cell_type": "markdown",
   "metadata": {},
   "source": [
    "## Pregunta 1"
   ]
  },
  {
   "cell_type": "code",
   "execution_count": 14,
   "metadata": {},
   "outputs": [],
   "source": [
    "mi_lista = [1, 2, 3, 4]\n",
    "mi_lista2 = mi_lista[:]\n",
    "mi_lista2.append(5)\n"
   ]
  },
  {
   "cell_type": "markdown",
   "metadata": {},
   "source": [
    "En primera instancia, mi_lista y mi_lista2 son iguales pero no apuntan a la misma sección de memoria ya que hemos realizado una copia de mi_lista. Una vez agregado un elemento a mi_lista2, esta pasa a ser mas larga que mi_lista.<br/>\n",
    "Teniendo en cuenta el razonamiento anterior las respuestas correctas serán **B)** y **F)**."
   ]
  },
  {
   "cell_type": "markdown",
   "metadata": {},
   "source": [
    "## Pregunta 2"
   ]
  },
  {
   "cell_type": "code",
   "execution_count": 16,
   "metadata": {},
   "outputs": [],
   "source": [
    "mi_lista = [1, 2, 3, 4, -1, -2]\n",
    "mi_lista = mi_lista[-1:3:-1]\n",
    "x = 6\n",
    "for elemento in mi_lista:\n",
    "    x /= mi_lista[mi_lista[elemento]]"
   ]
  },
  {
   "cell_type": "markdown",
   "metadata": {},
   "source": [
    "Analicemos paso a paso el código:<br/>\n",
    "   * mi_lista = mi_lista[-1:3:-1]: se toman elementos desde el ultimo al tercero con indexación negativa, es decir, leyendo la lista de atrás adelante, esto nos otorgará la siguiente lista [-2, -1]\n",
    "   * mi_lista[mi_lista[elemento]]:\n",
    "      * elemento = -2: mi_lista[-2] = -1 ==> mi_lista[-1] = -2 ==> 6 / -2 = -3.0\n",
    "      * elemento = -1: mi_lista[-1] = -2 ==> mi_lista[-2] = -1 ==> -3.0 / -1 = 3.0\n",
    "      \n",
    "Por lo tanto, la respuesta sería **C) 3.0**.\n"
   ]
  },
  {
   "cell_type": "markdown",
   "metadata": {},
   "source": [
    "## Pregunta 3"
   ]
  },
  {
   "cell_type": "code",
   "execution_count": 19,
   "metadata": {},
   "outputs": [
    {
     "name": "stdout",
     "output_type": "stream",
     "text": [
      "(2,)\n"
     ]
    }
   ],
   "source": [
    "mi_estruct = (1,2,4,8)\n",
    "id1 = id(mi_estruct)\n",
    "mi_estruct = mi_estruct[1:-2]\n",
    "id2 = id(mi_estruct)"
   ]
  },
  {
   "cell_type": "markdown",
   "metadata": {},
   "source": [
    "Dado que estamos trabajando con tuplas y estas son inmutables por mucho que igualaremos la variable mi_estructura a si misma, se crearía un objeto diferente por lo que id1 e id2 serian diferentes desde el principio. Por otra parte, dado que estamos trabajando con tuplas, la asignación mi_estruct = mi_estruct[1:-2] creará una tupla de un único elemento por lo que las respuestas correctas son **B) (2,)**, **D)** y **G)**"
   ]
  },
  {
   "cell_type": "markdown",
   "metadata": {},
   "source": [
    "## Pregunta 4"
   ]
  },
  {
   "cell_type": "code",
   "execution_count": null,
   "metadata": {},
   "outputs": [],
   "source": [
    "mi_diccionario = {1:[1,3], 2:[2,1], 3:[3,2]}\n",
    "for item in mi_diccionario:\n",
    "    mi_diccionario[item][0] = mi_diccionario[item][1]"
   ]
  },
  {
   "cell_type": "markdown",
   "metadata": {},
   "source": [
    "Al iterar sobre un diccionario (no sobre una clave de este), se esta iterando sobre las claves que hay en el diccionario por lo que lo que se esta haciendo en el bucle for sería asignar al elemento en primera posición de cada clave el valor del segundo elemento por lo que la respuesta es **C)**"
   ]
  }
 ],
 "metadata": {
  "interpreter": {
   "hash": "13658577ba1339797d5654e7a8605ee45f76ca212a53cf3c0406796abc2b15b7"
  },
  "kernelspec": {
   "display_name": "Python 3.9.9 ('EIP')",
   "language": "python",
   "name": "python3"
  },
  "language_info": {
   "codemirror_mode": {
    "name": "ipython",
    "version": 3
   },
   "file_extension": ".py",
   "mimetype": "text/x-python",
   "name": "python",
   "nbconvert_exporter": "python",
   "pygments_lexer": "ipython3",
   "version": "3.9.9"
  },
  "orig_nbformat": 4
 },
 "nbformat": 4,
 "nbformat_minor": 2
}
