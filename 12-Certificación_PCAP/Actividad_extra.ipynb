{
 "cells": [
  {
   "cell_type": "markdown",
   "metadata": {},
   "source": [
    "## Pregunta 1\n",
    "\n",
    "la función __funcion definida en la clase por llevar los dos guiones delante, esta definida como privada, es por ello que para poder llamarla hay que recurrir al formato que se muestra en el código, teniendo esto en cuenta, y dado que se llama a la función dos veces, la respuesta será **C)2**"
   ]
  },
  {
   "cell_type": "markdown",
   "metadata": {},
   "source": [
    "## Pregunta 2\n",
    "\n",
    "Al llamar a MiClase var == 1 > self.prop == 1, por tanto, analizando las opciones, la mas coherentes serían:\n",
    "  * **B)** self.put(self.get() + val): self.get() == 1 + val (=2) == 3; self.put(3) > self.prop == 3\n",
    "  * **D)** self.put(self.prop + val): self.prop == 1 + val (=2) == 3; self.put(3) > self.prop == 3 "
   ]
  },
  {
   "cell_type": "markdown",
   "metadata": {},
   "source": [
    "## Pregunta 3\n",
    "\n",
    "**A)** ya que 'T' esta en 'Toledo'.</br>\n",
    "**C)** pues 'A' != 'a'.</br>\n",
    "**E)** Los valores True y False, dado que son booleanos internamente se les asocia los valores 1 y 0 respectivamente.</br>\n",
    "**F)** Ya que 46 y 46.0 son el mismo valor a diferencia del decimal que en este caso se puede tomar por irrelevante.\n"
   ]
  },
  {
   "cell_type": "markdown",
   "metadata": {},
   "source": [
    "## Pregunta 4\n",
    "\n",
    "Analicemos la función:\n",
    "mi_funcion(2) > x != 1 > return 2 + mi_funcion(2 - 1);</br>\n",
    "mi_funcion(1) > x == 1 > return 1;</br> \n",
    "mi funcion(2 - 1) == 1 > return 2 + mi_funcion(2 - 1) > return 3\n",
    "\n",
    "**D) 3**"
   ]
  },
  {
   "cell_type": "markdown",
   "metadata": {},
   "source": [
    "## Pregunta 5 \n",
    "\n",
    "La función mi_funcion es un iterador que recorre todos los valores impares entre 1 y n+1 por lo que el fragmento de código devolverá por pantalla 1 y3 siendo la respuesta **B)**."
   ]
  },
  {
   "cell_type": "markdown",
   "metadata": {},
   "source": [
    "## Pregunta 6\n",
    "\n",
    "Cuando se pretende recoger varias excepciones en una misma rama se han de recoger como una tupla por lo que la respuesta correcta es **B)**."
   ]
  },
  {
   "cell_type": "markdown",
   "metadata": {},
   "source": [
    "## Pregunta 7\n",
    "Analicemos línea por linea:</br>\n",
    "-5 // 2 == -3; -2 % 3 == 0 > i==-3 > i -= 4 == -7 >**B)**</br>\n",
    "Esto se debe a que la división entera toma el siguiente valor entero mas pequeño."
   ]
  },
  {
   "cell_type": "markdown",
   "metadata": {},
   "source": [
    "## Pregunta 8\n",
    "Los slices no incluyen el ultimo valor indicado, es decir al realizar lst2 = lst1[-3:-1], el ultimo valor de la lista no se incluirá el elemento en la posición -1 por lo que el resultado por pantalla será: **B)**"
   ]
  },
  {
   "cell_type": "markdown",
   "metadata": {},
   "source": [
    "## Pregunta 9\n",
    "\n",
    "Al emplear la herencia, la clase hijo heredará los métodos de la clase padre sin embargo para acceder a los atributos de la superclase, será necesario inicializar el constructor de esta por lo que la respuesta correcta es la **C)**"
   ]
  },
  {
   "cell_type": "markdown",
   "metadata": {},
   "source": [
    "## Pregunta 10\n",
    "\n",
    "En python existen dos métodos para pasar argumentos; nominal, en el que se indica el nombre del parámetro y su valor *a=0* (en este caso el orden de los parámetros es indiferente) e implícito, empleando este método se han de pasar los parámetros en el orden en el que aparecen en la definición de la función, también se puede emplear un método híbrido pero los parámetros indicados de forma implícita han de ir primero. Teniendo todo esto en cuenta, las respuestas correctas son: **C), D), G) y H)**"
   ]
  },
  {
   "cell_type": "markdown",
   "metadata": {},
   "source": [
    "## Pregunta 11\n",
    "\n",
    "Al leer un archivo de texto, se puede emplear la función read() que acepta un único parámetro, la cantidad de caracteres a leer cada vez que se llama a esta, por lo que la respuesta correcta es **D)**"
   ]
  },
  {
   "cell_type": "markdown",
   "metadata": {},
   "source": [
    "## Pregunta 12\n",
    "\n",
    "Cuando se emplea la herencia es necesario poner especial cuidado con el nombre de las variables ya que se pueden sobre escribir las funciones de las Super Clases, dicho esto, la respuesta correcta seá **D)** "
   ]
  },
  {
   "cell_type": "markdown",
   "metadata": {},
   "source": [
    "## Pregunta 13\n",
    "\n",
    "Las cadenas de caracteres en python las únicas operaciones que soportan son la suma y la multiplicación por lo que la respuesta correcta será **B)**"
   ]
  },
  {
   "cell_type": "markdown",
   "metadata": {},
   "source": [
    "## Pregunta 14\n",
    "\n",
    "Tal y como se ha declarado la variable, representa una tupla y estas son inmutables por lo que las respuestas correctas serán **A)** ya que son indexables, **C)** y **E)**"
   ]
  },
  {
   "cell_type": "markdown",
   "metadata": {},
   "source": [
    "## Pregunta 15\n",
    "\n",
    "LAs respuestas correctas son **A)** ya que para emplear un paquete primero hay que importarlo, y **B)** ya que con ese formato lo que se esta indicando es que f() pertenece a una sucesión de sub paquetes."
   ]
  },
  {
   "cell_type": "markdown",
   "metadata": {},
   "source": [
    "## Pregunta 16\n",
    "\n",
    "la primera linea dará como resultado [1, 2, 3] ya que la fucion range(n) devuelve los números de 0 a n-1 y la segunda linea devolverá [1, 2, 3] ya que siguiendo el orden de operaciones se elevarán todos los números a la primera potencia, por lo que la respuesta será **C)**"
   ]
  },
  {
   "cell_type": "markdown",
   "metadata": {},
   "source": [
    "## Pregunta 17\n",
    "\n",
    "Tal y como esta configurada la función range, mi_funcion recibirá los valores 1, 2 y 3 por lo que siguiendo la definición de la función la respuesta será **B)** "
   ]
  },
  {
   "cell_type": "markdown",
   "metadata": {},
   "source": [
    "## Pregunta 18\n",
    "\n",
    "Al hacer este tipo de operaciones python trabaja con los códigos ASCII y como el código ASCII de las minúsculas es mayor que el de las mayúsculas, el resultado será **A)**"
   ]
  },
  {
   "cell_type": "markdown",
   "metadata": {},
   "source": [
    "## Pregunta 19\n",
    "\n",
    "Las funciones definidas dentro de otra función pueden acceder a los atributos de las funciones principales, además en los ciclos try/except, si se establece una clausula else, esta se ejecutará siempre y cuando no se haya ejecutado ninguna excepción por lo que la respuesta será **C)**"
   ]
  },
  {
   "cell_type": "markdown",
   "metadata": {},
   "source": [
    "## Pregunta 20\n",
    "\n",
    "Een este caso se ha creado un iterador que itera por la cadena 'abc' devolviendo cada uno de los caracteres en ella por lo que la respuesta será **D)** "
   ]
  }
 ],
 "metadata": {
  "interpreter": {
   "hash": "13658577ba1339797d5654e7a8605ee45f76ca212a53cf3c0406796abc2b15b7"
  },
  "kernelspec": {
   "display_name": "Python 3.9.9 ('EIP')",
   "language": "python",
   "name": "python3"
  },
  "language_info": {
   "name": "python",
   "version": "3.9.9"
  },
  "orig_nbformat": 4
 },
 "nbformat": 4,
 "nbformat_minor": 2
}
