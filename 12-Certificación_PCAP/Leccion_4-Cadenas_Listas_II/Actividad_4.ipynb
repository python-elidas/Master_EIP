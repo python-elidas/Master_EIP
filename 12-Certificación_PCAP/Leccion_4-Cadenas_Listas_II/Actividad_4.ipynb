{
 "cells": [
  {
   "cell_type": "markdown",
   "metadata": {},
   "source": [
    "# Actividad 4"
   ]
  },
  {
   "cell_type": "markdown",
   "metadata": {},
   "source": [
    "## Practica"
   ]
  },
  {
   "cell_type": "code",
   "execution_count": 19,
   "metadata": {},
   "outputs": [
    {
     "name": "stdout",
     "output_type": "stream",
     "text": [
      "[-] La suma de los valores introducidos es la siguiente: 49.9\n",
      "[-] La lista ordenada es: [4.0, 5.4, 8.5, 9.0, 23.0]\n"
     ]
    }
   ],
   "source": [
    "cadena = input('[+] Introduce loa números a sumar separados por un espacio:\\n>>> ')\n",
    "lista, suma = [float(i)  if not i.upper() == 'STOP' else 'STOP' for i in cadena.split()], float()\n",
    "# Quitamos lo que sobra\n",
    "if 'STOP' in lista:\n",
    "    lista = lista[:lista.index('STOP')]\n",
    "lista.sort()  # Ordenamos la lista\n",
    "for i in lista:\n",
    "    suma += i\n",
    "    \n",
    "print(f'[-] La suma de los valores introducidos es la siguiente: {suma}')\n",
    "print(f'[-] La lista ordenada es: {lista}')"
   ]
  },
  {
   "cell_type": "markdown",
   "metadata": {},
   "source": [
    "**Run 1**<br/>\n",
    "[+] Introduce loa números a sumar separados por un espacio: 23 4 5.4 8.5 9.0<br/>\n",
    "[-] La suma de los valores introducidos es la siguiente: 49.9 <br/>\n",
    "[-] La lista ordenada es: [4.0, 5.4, 8.5, 9.0, 23.0]<br/>\n",
    "**Run 2**<br/>\n",
    "[+] Introduce loa números a sumar separados por un espacio: 23 4 5.4 8.5 stop 9.0<br/>\n",
    "[-] La suma de los valores introducidos es la siguiente: 40.9<br/>\n",
    "[-] La lista ordenada es: [4.0, 5.4, 8.5, 23.0]"
   ]
  },
  {
   "cell_type": "markdown",
   "metadata": {},
   "source": [
    "************************************"
   ]
  },
  {
   "cell_type": "markdown",
   "metadata": {},
   "source": [
    "## Pregunta 1\n",
    "\n",
    "Analicemos el contenido por partes:<br/>\n",
    "   * 'abc' quedará tal cual se muestra ya que no tiene operadores adicionales.\n",
    "   * 'xy' * 2 = 'xyxy'\n",
    "   * 'a' * 3 = 'aaa'\n",
    "   * Además ya que python respeta el orden de las operaciones primero se realizarán las multiplicaciones y tras ello realizará la suma de todo, por lo que el resultado será **'abcxyxyaaa'**<br/>\n",
    "   \n",
    "Teniendo lo anterior en cuenta, la respuesta es **C)**"
   ]
  },
  {
   "cell_type": "markdown",
   "metadata": {},
   "source": [
    "## Pregunta 2\n",
    "Nuevamente, analizaremos el contenido por pasos tomando cada uno de los caracteres:\n",
    "   * ch = 'Z':<br/>\n",
    "   '-' + chr(ord('Z') - 1) * 2 --> chr(ord('Z')-1) = Y --> salida = '-' + 'Y' * 2 = '-YY'\n",
    "   * ch = ch = 'Y':<br/>\n",
    "   '-YY' + chr(ord('Y') - 1) * 2 --> chr(ord('Y')-1) = X --> salida = '-YY' + 'X' * 2 = '-YYXX'\n",
    "   * ch = 'X':<br/>\n",
    "   '-YYXX' + chr(ord('X') - 1) * 2 --> chr(ord('X')-1) = W --> salida = '-YYXX' + 'W' * 2 = '-YYXXWW'\n",
    "   * Al igual que en la pregunta anterior, hay que tener en cuenta que python respeta el orden de los operandos por lo que primero resolverá los paréntesis, después las multiplicaciones y por último las sumas.\n",
    "\n",
    "   Por tanto, la respuesta será **B)**\n"
   ]
  },
  {
   "cell_type": "markdown",
   "metadata": {},
   "source": [
    "## Pregunta 3\n",
    "Analicemos cada una de las líneas:\n",
    "   * float('2.1'): Esto es una conversion de string a float y dado que el formato de a ('2.1') es adecuado para la conversión se realizará sin problemas por lo que b = 2.1\n",
    "   * int(2.1): En este caso estamos realizando la conversión de float a int, operación perfectamente valida por lo que c = 2 ya que al hacer esta conversión python se queda con la parte entera.\n",
    "   * int('2.4'): En esta ocasión se está tratando de hacer una conversión de string a int pero el string no tiene un formato adecuado por lo que el programa devolverá un error.\n",
    "   * Las otras dos opciones no tiene sentido analizarlas ya que d no llegara a tener ningún valor pues el programa ha dado un error.\n",
    "\n",
    "Por lo tanto, la respuesta es **D)**"
   ]
  },
  {
   "cell_type": "markdown",
   "metadata": {},
   "source": [
    "## Pregunta 4\n",
    "En esta ocasión hay varias cosas a tener en cuenta:\n",
    "   * Al hacer mi_lista1 = mi_lista[:] estamos realizando una copia de la lista por lo que id(mi_lista) e id(mi_lista1) no son el mismo y los cambios realizados en una de las listas no afectan a la otra.\n",
    "   * Al ordenar mi_lista obtendremos lo siguiente: ['AA', 'a', 'aa']. Esto es debido a que los valores en la tabla ASCII de las letras mayúsculas son menores por lo que 'AA' es menor que 'a'.<br/>\n",
    "\n",
    "Teniendo todo los expuesto en cuenta, hay dor respuestas correctas, **B)** y **D)**."
   ]
  },
  {
   "cell_type": "markdown",
   "metadata": {},
   "source": [
    "## Pregunta 5\n",
    "Analicemos paso por paso y siguiendo el orden de ejecución:\n",
    "  * Primero, for j in range(0, 4) if j % 2 == 0, esta linea hará que se ejecute dos veces, es decir, generará dos listas.\n",
    "  * Segundo, for i in range(4), esta linea generará una lista con cuatro elementos, en total tendremos una lista de dos listas con cuatro elementos cada una.\n",
    "  * Por último, i if j > 1 else -1, con esta linea se establece el valor de i, concretamente, se establece que para todo j (derivado del primer for) menor o igual a 1 i == -1 y para todo j > 1 i == 0, 1, 2, 3, en función del for.\n",
    "\n",
    "Teniendo todo ello en cuenta tenemos que mi_lista tendrá la siguiente pinta: [[-1, -1, -1, -1], [0, 1, 2, 3]] por lo que la respuesta será **B)**\n"
   ]
  }
 ],
 "metadata": {
  "interpreter": {
   "hash": "13658577ba1339797d5654e7a8605ee45f76ca212a53cf3c0406796abc2b15b7"
  },
  "kernelspec": {
   "display_name": "Python 3.9.9 ('EIP')",
   "language": "python",
   "name": "python3"
  },
  "language_info": {
   "codemirror_mode": {
    "name": "ipython",
    "version": 3
   },
   "file_extension": ".py",
   "mimetype": "text/x-python",
   "name": "python",
   "nbconvert_exporter": "python",
   "pygments_lexer": "ipython3",
   "version": "3.9.9"
  },
  "orig_nbformat": 4
 },
 "nbformat": 4,
 "nbformat_minor": 2
}
