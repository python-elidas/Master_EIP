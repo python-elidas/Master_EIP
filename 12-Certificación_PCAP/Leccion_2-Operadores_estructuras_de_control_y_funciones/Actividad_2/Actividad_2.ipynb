{
 "cells": [
  {
   "cell_type": "markdown",
   "metadata": {},
   "source": [
    "# Actividad 1"
   ]
  },
  {
   "cell_type": "code",
   "execution_count": 3,
   "metadata": {},
   "outputs": [
    {
     "name": "stdout",
     "output_type": "stream",
     "text": [
      "[*] El salario Bruto de la pareja es de 176000.0\n",
      "[*] El salario Neto de la pareja es de 110528.0\n"
     ]
    }
   ],
   "source": [
    "def my_input(n, ind='+', text='Introduzca el salario del usuario'):\n",
    "    brut = float(input(f'[{ind}] {text} {n}:\\n>>>'))\n",
    "    if brut < 0:\n",
    "        #! Faltaba el return\n",
    "        return my_input(n, '!', 'El valor deber un valor de tipo float y mayor de 0. Salario numero')\n",
    "    else:\n",
    "        if 0 <= brut and brut < 12450.00:\n",
    "            return brut, brut * 0.19\n",
    "        elif 12450.00 <= brut and brut < 20200.00:\n",
    "            return brut, brut * 0.24\n",
    "        elif 20200.00 <= brut and brut < 28000.00:\n",
    "            return brut, brut * 0.30\n",
    "        elif 28000.00 <= brut and brut < 35200.00:\n",
    "            return brut, brut * 0.303\n",
    "        elif 35200.00 <= brut and brut < 50000.00:\n",
    "            return brut, brut * 0.371\n",
    "        elif 50000.00 <= brut:\n",
    "            return brut, brut * 0.372\n",
    "\n",
    "b1, n1 = my_input(1)\n",
    "b2, n2 = my_input(2)\n",
    "\n",
    "print(f'[*] El salario Bruto de la pareja es de {b1+b2}\\n[*] El salario Neto de la pareja es de {(b1-n1)+(b2-n2)}')\n"
   ]
  },
  {
   "cell_type": "markdown",
   "metadata": {},
   "source": [
    "Estoy devolviendo la retencion del irpf no el sueldo neto"
   ]
  },
  {
   "cell_type": "markdown",
   "metadata": {},
   "source": [
    "# Actividad 2"
   ]
  },
  {
   "cell_type": "markdown",
   "metadata": {},
   "source": [
    "## Pregunta 1\n",
    "Dado que dentro de la función no se ha declarado x como global tras ejecutarse la función el valor de x no cambiará.<br/>\n",
    "fun(x + 3) es lo mismo que fun(6), pues x es un valor constante = 3, por lo tanto el resultado de la función será 12: (x + 3) + 3 * 2.<br/>\n",
    "Teniendo todo esto presente, el resultado del fragmento de código será **C)123**."
   ]
  },
  {
   "cell_type": "markdown",
   "metadata": {},
   "source": [
    "## Pregunta 2\n",
    "Dado que la función pide dos parámetros y se le está pasando únicamente uno, el resultado será **D) El programa dará un error**"
   ]
  },
  {
   "cell_type": "markdown",
   "metadata": {},
   "source": [
    "## Pregunta 3\n",
    "Dentro de la función 1 se emplea x como variable Global por lo que se modificará su valor una vez se ejecute fun1, ademas de eso, fun1 devolverá 0 ya que es el resultado de 2 % 2.<br/>\n",
    "fun2 establece el valor de x como 3 y lo devuelve, no tiene misterio.<br/>\n",
    "Por ultimo, como se ha comentado en la primera línea, fun1 modifica el valor global de x por lo que una vez ejecutada fun1 el valor de x cambiará pasando a ser 0 por lo que el resultado será **A) 030**."
   ]
  },
  {
   "cell_type": "markdown",
   "metadata": {},
   "source": [
    "## Pregunta 4\n",
    "Al definir la función se establece que los valores por defecto de \"y\" y \"z\" son 4 y 6 respectivamente y a la hora de ejecutar fun, se le pasa el valor de \"x\" y se establece un valor para \"z\" dejando \"y\" con el valor por defecto y además todos los valores son enteros por lo que la función devolverá un valor entero, en este caso **D)22**<br/>\n",
    "*Todas las divisiones devuelven un float independientemetne de los valores de entrada.*"
   ]
  },
  {
   "cell_type": "markdown",
   "metadata": {},
   "source": []
  }
 ],
 "metadata": {
  "interpreter": {
   "hash": "4f1aa549a38b913171d869832e1f45fcb9dd45c74d9393fa5dfa7c51b67b0207"
  },
  "kernelspec": {
   "display_name": "Python 3.9.9 64-bit",
   "language": "python",
   "name": "python3"
  },
  "language_info": {
   "codemirror_mode": {
    "name": "ipython",
    "version": 3
   },
   "file_extension": ".py",
   "mimetype": "text/x-python",
   "name": "python",
   "nbconvert_exporter": "python",
   "pygments_lexer": "ipython3",
   "version": "3.9.9"
  },
  "orig_nbformat": 4
 },
 "nbformat": 4,
 "nbformat_minor": 2
}
