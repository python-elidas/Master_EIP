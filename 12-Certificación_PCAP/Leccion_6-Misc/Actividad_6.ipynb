{
 "cells": [
  {
   "cell_type": "markdown",
   "metadata": {},
   "source": [
    "# Practica"
   ]
  },
  {
   "cell_type": "code",
   "execution_count": 6,
   "metadata": {},
   "outputs": [
    {
     "name": "stdout",
     "output_type": "stream",
     "text": [
      "Las notas leídas son: [4.0, 6.4, 8.0, 9.0, 9.5, 9.5, 10.0]\n",
      "Los sobresalientes son: [9.0, 9.5, 9.5, 10.0]\n",
      "Se han excluido 3 lineas.\n"
     ]
    }
   ],
   "source": [
    "fr = open('notas.txt', 'r')\n",
    "notas = list()\n",
    "ex = 0\n",
    "for nota in fr.readlines():\n",
    "    try:\n",
    "        notas.append(float(nota))\n",
    "    except Exception:\n",
    "        ex += 1\n",
    "        \n",
    "sobre = [i for i in notas if i >= 9.0]\n",
    "sobre.sort()\n",
    "notas.sort()\n",
    "\n",
    "print(f'Las notas leídas son: {notas}')\n",
    "print(f'Los sobresalientes son: {sobre}')\n",
    "print(f'Se han excluido {ex} lineas.')\n",
    "    "
   ]
  },
  {
   "cell_type": "markdown",
   "metadata": {},
   "source": [
    "# Teorica"
   ]
  },
  {
   "cell_type": "markdown",
   "metadata": {},
   "source": [
    "## Pregunta 1\n",
    "\n",
    "Dada la naturaleza de los módulos, con cada llamada a cualquiera de ellos se muestra por pantalla su nombre, además ambos modifican el valor de la variable MODULO y dado que el ultimo módulo en importarse es el módulo 2 el valor de la variable será de 2 por lo tanto, la respuesta es **F)**.\n",
    "\n",
    "## Pregunta 2 \n",
    "\n",
    "Al ejecutar excepciones python maneja un sistema jerárquico por el cual organiza las excepciones en clases según lo concretas que sean sin embargo a la hora de ejecutar, ejecuta la primera excepción que se ajuste al error producido por lo que en este caso la respuesta será **B)**\n",
    "\n",
    "## Pregunta 3\n",
    "\n",
    "Cuando tratamos con la estructura Try, Ecept, else, Finally, hay que tener en cuenta que el else solo se ejecutará en caso de no haberse producido ningún error y que finally se ejecutará una vez finalizada la secuencia Try-Except por lo que las respuestas serán **B)** y **E)**\n",
    "\n",
    "## Pregunta 4\n",
    "\n",
    "Lo que se está haciendo en este fragmento de código es definir una función dentro de otra y devolviendo el objeto de la subfunción al finalizar la función principal por lo que al crear un objeto de la función principal y llamar al dicho objeto, se esta llamando a la subfuncion, lo que nos deja con que la respuesta es **B)**\n",
    "\n",
    "## Pregunta 5\n",
    "\n",
    "Analicemos el código por pasos:\n",
    "\n",
    "   * Al ejecutar I(), por como esta definida tendremos siempre como resultado la lista [2, 4, 6, 8] por lo que mi_lista guardará esta lista.\n",
    "   * map() aplicará a todos los elementos de la lista la función lambda que en est caso consiste en aplicar una potencia.\n",
    "\n",
    "la respuesta por tanto, será **E)**"
   ]
  }
 ],
 "metadata": {
  "interpreter": {
   "hash": "ba8f063f3a2fa53cf5755d74a4b73985f1e62a37bc44258fe3ebdf8012c5bf3f"
  },
  "kernelspec": {
   "display_name": "Python 3.9.9 64-bit",
   "language": "python",
   "name": "python3"
  },
  "language_info": {
   "codemirror_mode": {
    "name": "ipython",
    "version": 3
   },
   "file_extension": ".py",
   "mimetype": "text/x-python",
   "name": "python",
   "nbconvert_exporter": "python",
   "pygments_lexer": "ipython3",
   "version": "3.9.9"
  },
  "orig_nbformat": 4
 },
 "nbformat": 4,
 "nbformat_minor": 2
}
