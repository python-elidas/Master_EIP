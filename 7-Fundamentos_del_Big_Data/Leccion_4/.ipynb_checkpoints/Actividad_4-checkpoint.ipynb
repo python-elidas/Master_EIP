{
 "cells": [
  {
   "cell_type": "markdown",
   "id": "35968e65",
   "metadata": {},
   "source": [
    "### _Librerias_"
   ]
  },
  {
   "cell_type": "code",
   "execution_count": 1,
   "id": "1e05fb19",
   "metadata": {},
   "outputs": [],
   "source": [
    "# Principales dependencias\n",
    "import pandas as pd\n",
    "import numpy as np\n",
    "import matplotlib.pyplot as plt \n",
    "import seaborn as sns"
   ]
  },
  {
   "cell_type": "code",
   "execution_count": 2,
   "id": "616042fd",
   "metadata": {},
   "outputs": [],
   "source": [
    "# Algoritmos de clasificación\n",
    "from sklearn.neighbors import KNeighborsClassifier as KNC\n",
    "from sklearn.tree import DecisionTreeClassifier as DTC\n",
    "from sklearn.ensemble import RandomForestClassifier as RFC\n",
    "from sklearn.naive_bayes import GaussianNB as GNB\n",
    "from sklearn.svm import SVC"
   ]
  },
  {
   "cell_type": "code",
   "execution_count": 3,
   "id": "83520ebf",
   "metadata": {},
   "outputs": [],
   "source": [
    "# Una opción para evaluar el modelo\n",
    "from sklearn.metrics import accuracy_score as acc_s"
   ]
  },
  {
   "cell_type": "markdown",
   "id": "0fac5707",
   "metadata": {},
   "source": [
    "# _Primera parte de la actividad 4_"
   ]
  },
  {
   "cell_type": "markdown",
   "id": "b7735f24",
   "metadata": {},
   "source": [
    "## _Limpieza y primer vistazo del Data Set_"
   ]
  },
  {
   "cell_type": "code",
   "execution_count": 4,
   "id": "97ffa860",
   "metadata": {},
   "outputs": [
    {
     "ename": "FileNotFoundError",
     "evalue": "[Errno 2] No such file or directory: 'train.csv'",
     "output_type": "error",
     "traceback": [
      "\u001b[0;31m---------------------------------------------------------------------------\u001b[0m",
      "\u001b[0;31mFileNotFoundError\u001b[0m                         Traceback (most recent call last)",
      "\u001b[0;32m<ipython-input-4-1dc21e5df746>\u001b[0m in \u001b[0;36m<module>\u001b[0;34m\u001b[0m\n\u001b[0;32m----> 1\u001b[0;31m \u001b[0mdf\u001b[0m \u001b[0;34m=\u001b[0m \u001b[0mpd\u001b[0m\u001b[0;34m.\u001b[0m\u001b[0mread_csv\u001b[0m\u001b[0;34m(\u001b[0m\u001b[0;34m'train.csv'\u001b[0m\u001b[0;34m)\u001b[0m  \u001b[0;31m# Creamos el DataFrame\u001b[0m\u001b[0;34m\u001b[0m\u001b[0;34m\u001b[0m\u001b[0m\n\u001b[0m\u001b[1;32m      2\u001b[0m \u001b[0mcol\u001b[0m \u001b[0;34m=\u001b[0m \u001b[0mlist\u001b[0m\u001b[0;34m(\u001b[0m\u001b[0mdf\u001b[0m\u001b[0;34m.\u001b[0m\u001b[0mcolumns\u001b[0m\u001b[0;34m)\u001b[0m  \u001b[0;31m# obtenemos los nombres de las columnas\u001b[0m\u001b[0;34m\u001b[0m\u001b[0;34m\u001b[0m\u001b[0m\n\u001b[1;32m      3\u001b[0m \u001b[0mdf\u001b[0m  \u001b[0;31m# visualizacion del dataset\u001b[0m\u001b[0;34m\u001b[0m\u001b[0;34m\u001b[0m\u001b[0m\n",
      "\u001b[0;32m~/virtual_envs/BigData/lib/python3.6/site-packages/pandas/io/parsers.py\u001b[0m in \u001b[0;36mread_csv\u001b[0;34m(filepath_or_buffer, sep, delimiter, header, names, index_col, usecols, squeeze, prefix, mangle_dupe_cols, dtype, engine, converters, true_values, false_values, skipinitialspace, skiprows, skipfooter, nrows, na_values, keep_default_na, na_filter, verbose, skip_blank_lines, parse_dates, infer_datetime_format, keep_date_col, date_parser, dayfirst, cache_dates, iterator, chunksize, compression, thousands, decimal, lineterminator, quotechar, quoting, doublequote, escapechar, comment, encoding, dialect, error_bad_lines, warn_bad_lines, delim_whitespace, low_memory, memory_map, float_precision)\u001b[0m\n\u001b[1;32m    686\u001b[0m     )\n\u001b[1;32m    687\u001b[0m \u001b[0;34m\u001b[0m\u001b[0m\n\u001b[0;32m--> 688\u001b[0;31m     \u001b[0;32mreturn\u001b[0m \u001b[0m_read\u001b[0m\u001b[0;34m(\u001b[0m\u001b[0mfilepath_or_buffer\u001b[0m\u001b[0;34m,\u001b[0m \u001b[0mkwds\u001b[0m\u001b[0;34m)\u001b[0m\u001b[0;34m\u001b[0m\u001b[0;34m\u001b[0m\u001b[0m\n\u001b[0m\u001b[1;32m    689\u001b[0m \u001b[0;34m\u001b[0m\u001b[0m\n\u001b[1;32m    690\u001b[0m \u001b[0;34m\u001b[0m\u001b[0m\n",
      "\u001b[0;32m~/virtual_envs/BigData/lib/python3.6/site-packages/pandas/io/parsers.py\u001b[0m in \u001b[0;36m_read\u001b[0;34m(filepath_or_buffer, kwds)\u001b[0m\n\u001b[1;32m    452\u001b[0m \u001b[0;34m\u001b[0m\u001b[0m\n\u001b[1;32m    453\u001b[0m     \u001b[0;31m# Create the parser.\u001b[0m\u001b[0;34m\u001b[0m\u001b[0;34m\u001b[0m\u001b[0;34m\u001b[0m\u001b[0m\n\u001b[0;32m--> 454\u001b[0;31m     \u001b[0mparser\u001b[0m \u001b[0;34m=\u001b[0m \u001b[0mTextFileReader\u001b[0m\u001b[0;34m(\u001b[0m\u001b[0mfp_or_buf\u001b[0m\u001b[0;34m,\u001b[0m \u001b[0;34m**\u001b[0m\u001b[0mkwds\u001b[0m\u001b[0;34m)\u001b[0m\u001b[0;34m\u001b[0m\u001b[0;34m\u001b[0m\u001b[0m\n\u001b[0m\u001b[1;32m    455\u001b[0m \u001b[0;34m\u001b[0m\u001b[0m\n\u001b[1;32m    456\u001b[0m     \u001b[0;32mif\u001b[0m \u001b[0mchunksize\u001b[0m \u001b[0;32mor\u001b[0m \u001b[0miterator\u001b[0m\u001b[0;34m:\u001b[0m\u001b[0;34m\u001b[0m\u001b[0;34m\u001b[0m\u001b[0m\n",
      "\u001b[0;32m~/virtual_envs/BigData/lib/python3.6/site-packages/pandas/io/parsers.py\u001b[0m in \u001b[0;36m__init__\u001b[0;34m(self, f, engine, **kwds)\u001b[0m\n\u001b[1;32m    946\u001b[0m             \u001b[0mself\u001b[0m\u001b[0;34m.\u001b[0m\u001b[0moptions\u001b[0m\u001b[0;34m[\u001b[0m\u001b[0;34m\"has_index_names\"\u001b[0m\u001b[0;34m]\u001b[0m \u001b[0;34m=\u001b[0m \u001b[0mkwds\u001b[0m\u001b[0;34m[\u001b[0m\u001b[0;34m\"has_index_names\"\u001b[0m\u001b[0;34m]\u001b[0m\u001b[0;34m\u001b[0m\u001b[0;34m\u001b[0m\u001b[0m\n\u001b[1;32m    947\u001b[0m \u001b[0;34m\u001b[0m\u001b[0m\n\u001b[0;32m--> 948\u001b[0;31m         \u001b[0mself\u001b[0m\u001b[0;34m.\u001b[0m\u001b[0m_make_engine\u001b[0m\u001b[0;34m(\u001b[0m\u001b[0mself\u001b[0m\u001b[0;34m.\u001b[0m\u001b[0mengine\u001b[0m\u001b[0;34m)\u001b[0m\u001b[0;34m\u001b[0m\u001b[0;34m\u001b[0m\u001b[0m\n\u001b[0m\u001b[1;32m    949\u001b[0m \u001b[0;34m\u001b[0m\u001b[0m\n\u001b[1;32m    950\u001b[0m     \u001b[0;32mdef\u001b[0m \u001b[0mclose\u001b[0m\u001b[0;34m(\u001b[0m\u001b[0mself\u001b[0m\u001b[0;34m)\u001b[0m\u001b[0;34m:\u001b[0m\u001b[0;34m\u001b[0m\u001b[0;34m\u001b[0m\u001b[0m\n",
      "\u001b[0;32m~/virtual_envs/BigData/lib/python3.6/site-packages/pandas/io/parsers.py\u001b[0m in \u001b[0;36m_make_engine\u001b[0;34m(self, engine)\u001b[0m\n\u001b[1;32m   1178\u001b[0m     \u001b[0;32mdef\u001b[0m \u001b[0m_make_engine\u001b[0m\u001b[0;34m(\u001b[0m\u001b[0mself\u001b[0m\u001b[0;34m,\u001b[0m \u001b[0mengine\u001b[0m\u001b[0;34m=\u001b[0m\u001b[0;34m\"c\"\u001b[0m\u001b[0;34m)\u001b[0m\u001b[0;34m:\u001b[0m\u001b[0;34m\u001b[0m\u001b[0;34m\u001b[0m\u001b[0m\n\u001b[1;32m   1179\u001b[0m         \u001b[0;32mif\u001b[0m \u001b[0mengine\u001b[0m \u001b[0;34m==\u001b[0m \u001b[0;34m\"c\"\u001b[0m\u001b[0;34m:\u001b[0m\u001b[0;34m\u001b[0m\u001b[0;34m\u001b[0m\u001b[0m\n\u001b[0;32m-> 1180\u001b[0;31m             \u001b[0mself\u001b[0m\u001b[0;34m.\u001b[0m\u001b[0m_engine\u001b[0m \u001b[0;34m=\u001b[0m \u001b[0mCParserWrapper\u001b[0m\u001b[0;34m(\u001b[0m\u001b[0mself\u001b[0m\u001b[0;34m.\u001b[0m\u001b[0mf\u001b[0m\u001b[0;34m,\u001b[0m \u001b[0;34m**\u001b[0m\u001b[0mself\u001b[0m\u001b[0;34m.\u001b[0m\u001b[0moptions\u001b[0m\u001b[0;34m)\u001b[0m\u001b[0;34m\u001b[0m\u001b[0;34m\u001b[0m\u001b[0m\n\u001b[0m\u001b[1;32m   1181\u001b[0m         \u001b[0;32melse\u001b[0m\u001b[0;34m:\u001b[0m\u001b[0;34m\u001b[0m\u001b[0;34m\u001b[0m\u001b[0m\n\u001b[1;32m   1182\u001b[0m             \u001b[0;32mif\u001b[0m \u001b[0mengine\u001b[0m \u001b[0;34m==\u001b[0m \u001b[0;34m\"python\"\u001b[0m\u001b[0;34m:\u001b[0m\u001b[0;34m\u001b[0m\u001b[0;34m\u001b[0m\u001b[0m\n",
      "\u001b[0;32m~/virtual_envs/BigData/lib/python3.6/site-packages/pandas/io/parsers.py\u001b[0m in \u001b[0;36m__init__\u001b[0;34m(self, src, **kwds)\u001b[0m\n\u001b[1;32m   2008\u001b[0m         \u001b[0mkwds\u001b[0m\u001b[0;34m[\u001b[0m\u001b[0;34m\"usecols\"\u001b[0m\u001b[0;34m]\u001b[0m \u001b[0;34m=\u001b[0m \u001b[0mself\u001b[0m\u001b[0;34m.\u001b[0m\u001b[0musecols\u001b[0m\u001b[0;34m\u001b[0m\u001b[0;34m\u001b[0m\u001b[0m\n\u001b[1;32m   2009\u001b[0m \u001b[0;34m\u001b[0m\u001b[0m\n\u001b[0;32m-> 2010\u001b[0;31m         \u001b[0mself\u001b[0m\u001b[0;34m.\u001b[0m\u001b[0m_reader\u001b[0m \u001b[0;34m=\u001b[0m \u001b[0mparsers\u001b[0m\u001b[0;34m.\u001b[0m\u001b[0mTextReader\u001b[0m\u001b[0;34m(\u001b[0m\u001b[0msrc\u001b[0m\u001b[0;34m,\u001b[0m \u001b[0;34m**\u001b[0m\u001b[0mkwds\u001b[0m\u001b[0;34m)\u001b[0m\u001b[0;34m\u001b[0m\u001b[0;34m\u001b[0m\u001b[0m\n\u001b[0m\u001b[1;32m   2011\u001b[0m         \u001b[0mself\u001b[0m\u001b[0;34m.\u001b[0m\u001b[0munnamed_cols\u001b[0m \u001b[0;34m=\u001b[0m \u001b[0mself\u001b[0m\u001b[0;34m.\u001b[0m\u001b[0m_reader\u001b[0m\u001b[0;34m.\u001b[0m\u001b[0munnamed_cols\u001b[0m\u001b[0;34m\u001b[0m\u001b[0;34m\u001b[0m\u001b[0m\n\u001b[1;32m   2012\u001b[0m \u001b[0;34m\u001b[0m\u001b[0m\n",
      "\u001b[0;32mpandas/_libs/parsers.pyx\u001b[0m in \u001b[0;36mpandas._libs.parsers.TextReader.__cinit__\u001b[0;34m()\u001b[0m\n",
      "\u001b[0;32mpandas/_libs/parsers.pyx\u001b[0m in \u001b[0;36mpandas._libs.parsers.TextReader._setup_parser_source\u001b[0;34m()\u001b[0m\n",
      "\u001b[0;31mFileNotFoundError\u001b[0m: [Errno 2] No such file or directory: 'train.csv'"
     ]
    }
   ],
   "source": [
    "df = pd.read_csv('train.csv')  # Creamos el DataFrame\n",
    "col = list(df.columns)  # obtenemos los nombres de las columnas\n",
    "df  # visualizacion del dataset"
   ]
  },
  {
   "cell_type": "code",
   "execution_count": null,
   "id": "33d10b52",
   "metadata": {},
   "outputs": [],
   "source": [
    "# Eliminamods las columnas que no nos dicen nada\n",
    "df = df.drop(col[0], axis=1)\n",
    "col = list(df.columns) # Actualizamos la lista de nombres de columnas\n",
    "df  # Visualizamos el resultado"
   ]
  },
  {
   "cell_type": "markdown",
   "id": "c41e9553",
   "metadata": {},
   "source": [
    "## _Exploratory Data Analysis (EDA)_"
   ]
  },
  {
   "cell_type": "code",
   "execution_count": null,
   "id": "76c6d2b9",
   "metadata": {},
   "outputs": [],
   "source": [
    "# Visualizamos la lungitud del data set\n",
    "len(df)"
   ]
  },
  {
   "cell_type": "code",
   "execution_count": null,
   "id": "88ec0819",
   "metadata": {},
   "outputs": [],
   "source": [
    "# Visualizamos la forma del dataset\n",
    "df.shape  # Nos da la forma de la matriz (row, col)"
   ]
  },
  {
   "cell_type": "code",
   "execution_count": null,
   "id": "eccd0197",
   "metadata": {},
   "outputs": [],
   "source": [
    "# Visualizamos la infromacion del dataset EN GENERAL\n",
    "df.describe()"
   ]
  },
  {
   "cell_type": "markdown",
   "id": "047a5253",
   "metadata": {},
   "source": [
    "__Conclusiones__<br/>\n",
    "&nbsp;&nbsp;&nbsp;&nbsp;- Existen columnas con \"missing values\""
   ]
  },
  {
   "cell_type": "code",
   "execution_count": null,
   "id": "19950cf3",
   "metadata": {},
   "outputs": [],
   "source": [
    "# Visualizamos cuantos valores faltan y en que columnas\n",
    "df.isnull().sum()"
   ]
  },
  {
   "cell_type": "code",
   "execution_count": null,
   "id": "a905e345",
   "metadata": {},
   "outputs": [],
   "source": [
    "# Vaemos, por ejemplo, los valores documentados de las cabinas de los pasajeros\n",
    "df.Cabin.value_counts()"
   ]
  },
  {
   "cell_type": "code",
   "execution_count": null,
   "id": "9f26bf17",
   "metadata": {},
   "outputs": [],
   "source": [
    "# Visualizemos ahora la columna Cabin al completo:\n",
    "for cabina in df.Cabin:\n",
    "    print(cabina)"
   ]
  },
  {
   "cell_type": "code",
   "execution_count": null,
   "id": "f358b360",
   "metadata": {},
   "outputs": [],
   "source": [
    "# Todo lo anterior se puede obtener de otro modo:\n",
    "df.info()"
   ]
  },
  {
   "cell_type": "code",
   "execution_count": null,
   "id": "e71382c3",
   "metadata": {},
   "outputs": [],
   "source": [
    "# Visualicemos la cantidad de supervivientes:\n",
    "df.Survived.value_counts()"
   ]
  },
  {
   "cell_type": "code",
   "execution_count": null,
   "id": "5f098d1c",
   "metadata": {},
   "outputs": [],
   "source": [
    "df.Survived.value_counts().plot(kind='bar')\n",
    "plt.show()"
   ]
  },
  {
   "cell_type": "markdown",
   "id": "fd0e243e",
   "metadata": {},
   "source": [
    "## _Seleccionando informacion_"
   ]
  },
  {
   "cell_type": "markdown",
   "id": "be24afc5",
   "metadata": {},
   "source": [
    "_La siguientes lineas devuelven la misma información_"
   ]
  },
  {
   "cell_type": "markdown",
   "id": "d5069fdb",
   "metadata": {},
   "source": [
    "___Fromato 1___"
   ]
  },
  {
   "cell_type": "code",
   "execution_count": null,
   "id": "d70b5ded",
   "metadata": {
    "scrolled": true
   },
   "outputs": [],
   "source": [
    "df['Age'].head()"
   ]
  },
  {
   "cell_type": "markdown",
   "id": "8e45afc4",
   "metadata": {},
   "source": [
    "___Formato 2___"
   ]
  },
  {
   "cell_type": "code",
   "execution_count": null,
   "id": "bb8fcafe",
   "metadata": {},
   "outputs": [],
   "source": [
    "df.Age.head()"
   ]
  },
  {
   "cell_type": "markdown",
   "id": "9134bc42",
   "metadata": {},
   "source": [
    "___Formato 3: Crosstab___ "
   ]
  },
  {
   "cell_type": "code",
   "execution_count": null,
   "id": "904d664b",
   "metadata": {},
   "outputs": [],
   "source": [
    "pd.crosstab(df.Sex, df.Survived)"
   ]
  },
  {
   "cell_type": "markdown",
   "id": "8042fc7e",
   "metadata": {},
   "source": [
    "### __Analizando la infromacion:__ "
   ]
  },
  {
   "cell_type": "markdown",
   "id": "6683a505",
   "metadata": {},
   "source": [
    "_Analicemos los superviventes según su sexo:_"
   ]
  },
  {
   "cell_type": "code",
   "execution_count": null,
   "id": "d7f46ef2",
   "metadata": {},
   "outputs": [],
   "source": [
    "pd.crosstab(df.Sex, df.Survived).plot(kind='bar')\n",
    "plt.show()"
   ]
  },
  {
   "cell_type": "markdown",
   "id": "3b2e8fb0",
   "metadata": {},
   "source": [
    "___Formato 4: Crosstab + Bar Plot Stacked___"
   ]
  },
  {
   "cell_type": "code",
   "execution_count": null,
   "id": "093d6b8b",
   "metadata": {},
   "outputs": [],
   "source": [
    "pd.crosstab(df.Sex, df.Survived).plot(kind='bar', stacked=True)\n",
    "plt.show()"
   ]
  },
  {
   "cell_type": "markdown",
   "id": "c88ee005",
   "metadata": {},
   "source": [
    "__Conclusiones:__ <br/>\n",
    "* La mayoria de las mujeres sobrevivieron.<br/>\n",
    "* La mayoria de los hombres NO sobrevivieron.<br/>\n",
    "* Habia casi del doble de hombres que mujeres."
   ]
  },
  {
   "cell_type": "markdown",
   "id": "1d2e6bc7",
   "metadata": {},
   "source": [
    "_Analicemos los supervivnetes según su clase:_"
   ]
  },
  {
   "cell_type": "code",
   "execution_count": null,
   "id": "3b610154",
   "metadata": {},
   "outputs": [],
   "source": [
    "pd.crosstab(df.Pclass, df.Survived).plot(kind='bar')\n",
    "plt.show()"
   ]
  },
  {
   "cell_type": "markdown",
   "id": "4fda3a4a",
   "metadata": {},
   "source": [
    "__Conclusiones:__ <br/>\n",
    "* La mayoria de los fallecidos pertenecian a la tercera clase."
   ]
  },
  {
   "cell_type": "markdown",
   "id": "15c904a9",
   "metadata": {},
   "source": [
    "___Formato 5: Groupby___ "
   ]
  },
  {
   "cell_type": "code",
   "execution_count": null,
   "id": "057f667d",
   "metadata": {},
   "outputs": [],
   "source": [
    "# en este formato se puede interpretar como sifgue: df.groupby('col_1').col_2\n",
    "df.groupby('Sex').Survived.value_counts()"
   ]
  },
  {
   "cell_type": "code",
   "execution_count": null,
   "id": "3a7155f7",
   "metadata": {},
   "outputs": [],
   "source": [
    "df.groupby('Sex').Survived.value_counts().plot(kind='bar')\n",
    "plt.show"
   ]
  },
  {
   "cell_type": "markdown",
   "id": "8b526466",
   "metadata": {},
   "source": [
    "___Formato 6: Seleccionar infromacion Concreta___ "
   ]
  },
  {
   "cell_type": "code",
   "execution_count": null,
   "id": "7672aab4",
   "metadata": {},
   "outputs": [],
   "source": [
    "# En este ejemplo seleccionaremos aquellas filas en las que Pclass == 1\n",
    "\n",
    "df_class_uno = df[df.Pclass==1]\n",
    "df_class_uno.head()"
   ]
  },
  {
   "cell_type": "code",
   "execution_count": null,
   "id": "e65bac9f",
   "metadata": {},
   "outputs": [],
   "source": [
    "# Ahora crearemos un crosstab con los pasajeros de primera calse y que contenga solo la columna survived\n",
    "df_class_uno_crosstab = df[df.Pclass==1]['Survived']\n",
    "df_class_uno_crosstab"
   ]
  },
  {
   "cell_type": "markdown",
   "id": "2ec4b3c7",
   "metadata": {},
   "source": [
    "##  _Creando 'Nuevos' DataFrames_"
   ]
  },
  {
   "cell_type": "code",
   "execution_count": null,
   "id": "5e5e8227",
   "metadata": {},
   "outputs": [],
   "source": [
    "# supervivencia a 1 --> Supervivientes\n",
    "df_supervivientes = df[df['Survived']==1]\n",
    "\n",
    "df_supervivientes.head(3)"
   ]
  },
  {
   "cell_type": "code",
   "execution_count": null,
   "id": "9f330e07",
   "metadata": {},
   "outputs": [],
   "source": [
    "# supervivencia a 0 --> Fallecidos\n",
    "df_fallecidos = df[df['Survived']==0]\n",
    "\n",
    "df_fallecidos.head(3)"
   ]
  },
  {
   "cell_type": "code",
   "execution_count": null,
   "id": "9b6ce2f2",
   "metadata": {},
   "outputs": [],
   "source": [
    "# Superviviencia a 1 + sex = Hombre --> Hombres Supervivientes\n",
    "df_supervivientes_h = df [ ( df['Survived']==1 ) & ( df['Sex']=='male' ) ]\n",
    "\n",
    "df_supervivientes_h.head(3)"
   ]
  },
  {
   "cell_type": "code",
   "execution_count": null,
   "id": "cc5787c2",
   "metadata": {},
   "outputs": [],
   "source": [
    "## Superviviencia a 1 + sex = Mujer --> Mujeres Supervivientes\n",
    "df_supervivientes_m = df [ ( df['Survived']==1 ) & ( df['Sex']=='female' ) ]\n",
    "\n",
    "df_supervivientes_m.head(3)"
   ]
  },
  {
   "cell_type": "code",
   "execution_count": null,
   "id": "00011c21",
   "metadata": {},
   "outputs": [],
   "source": [
    "# Superviviencia a 0 + sex = Hombre --> Hombres Fallecidos\n",
    "df_fallecidos_h = df [ ( df['Survived']==0 ) & ( df['Sex']=='male' ) ]\n",
    "\n",
    "df_fallecidos_h.head(3)"
   ]
  },
  {
   "cell_type": "code",
   "execution_count": null,
   "id": "01b23942",
   "metadata": {},
   "outputs": [],
   "source": [
    "# Superviviencia a 0 + sex = Mujer --> Mujeres Fallecidas\n",
    "df_fallecidos_m = df [ ( df['Survived']==0 ) & ( df['Sex']=='female' ) ]\n",
    "\n",
    "df_fallecidos_m.head(3)"
   ]
  },
  {
   "cell_type": "markdown",
   "id": "36e9080c",
   "metadata": {},
   "source": [
    "## _Analisis de los Gráficos_"
   ]
  },
  {
   "cell_type": "markdown",
   "id": "5801d341",
   "metadata": {},
   "source": [
    "__Creación de graficos de froma automática__"
   ]
  },
  {
   "cell_type": "code",
   "execution_count": null,
   "id": "e97b62df",
   "metadata": {},
   "outputs": [],
   "source": [
    "# Crearemos con un bucle for tres crosstab: pd.crosstab(df[opcion], df.survived)\n",
    "\n",
    "opciones = ['Pclass', 'Sex', 'Embarked']\n",
    "\n",
    "for opcion in opciones:\n",
    "    pd.crosstab(df[opcion], df.Survived).plot(kind='bar')\n",
    "    plt.show()"
   ]
  },
  {
   "cell_type": "markdown",
   "id": "11f94e04",
   "metadata": {},
   "source": [
    "__Gráficos de Seaborn__"
   ]
  },
  {
   "cell_type": "code",
   "execution_count": null,
   "id": "39c6ed2f",
   "metadata": {},
   "outputs": [],
   "source": [
    "# EL abiso obtenido indica que la funcion que emplearemos ha cambiado de nombre\n",
    "sns.factorplot('Sex', 'Survived', hue='Pclass', size=4, aspect=2, legend=True, data=df)\n",
    "plt.show()"
   ]
  },
  {
   "cell_type": "code",
   "execution_count": null,
   "id": "25966a98",
   "metadata": {},
   "outputs": [],
   "source": [
    "# Otro formato para la misma infromación\n",
    "sns.catplot(x='Sex', y='Survived', hue='Pclass', kind='strip', data=df)\n",
    "plt.show()"
   ]
  },
  {
   "cell_type": "code",
   "execution_count": null,
   "id": "2b897176",
   "metadata": {},
   "outputs": [],
   "source": [
    "# Adecuamos los graficos a la nueva infromacion de la web\n",
    "sns.catplot(x='Sex', y='Survived', hue='Pclass', kind='point', height=4, aspect=2, data=df)\n",
    "plt.show()"
   ]
  },
  {
   "cell_type": "code",
   "execution_count": null,
   "id": "92e7013c",
   "metadata": {},
   "outputs": [],
   "source": [
    "sns.catplot(x='Pclass', y='Survived', hue='Sex', col='Embarked', kind='point', data=df)\n",
    "plt.show()"
   ]
  },
  {
   "cell_type": "markdown",
   "id": "ed6e3b2f",
   "metadata": {},
   "source": [
    "__Conclusiones varias:__ <br/>\n",
    "* La mayoria de mujeres de 3ª clase embarcadas en __S__ no sobreviveron.<br/>\n",
    "* La tasa de supervivencia de los hombres embarcados en __C__ es mayor que la del resto de puertos.<br/>\n",
    "* La tasa de mortalidad de los hombres embarcados en __Q__ es mayor que en el resto de puertos."
   ]
  },
  {
   "cell_type": "markdown",
   "id": "df104c1f",
   "metadata": {},
   "source": [
    "__Edad y Supervivencia__"
   ]
  },
  {
   "cell_type": "code",
   "execution_count": null,
   "id": "1ceb44e3",
   "metadata": {},
   "outputs": [],
   "source": [
    "# Creamos la figura que contendra los Plot\n",
    "fig = plt.figure(figsize=(16,6))\n",
    "# 3 Subplots\n",
    "# 1.- 1 fila, 3 columnas, posicion 1\n",
    "ax1 = fig.add_subplot(131)\n",
    "\n",
    "# 2.- 1 fila, 3 columnas, posicion 2\n",
    "ax2 = fig.add_subplot(132)\n",
    "\n",
    "# 3.- 1 fila, 3 columnas, posicion 3\n",
    "ax3 = fig.add_subplot(133)\n",
    "\n",
    "# creamos los plot\n",
    "sns.violinplot(x='Embarked', y='Age', hue='Survived', data=df, split=True, ax=ax1)\n",
    "sns.violinplot(x='Pclass', y='Age', hue='Survived', data=df, split=True, ax=ax2)\n",
    "sns.violinplot(x='Sex', y='Age', hue='Survived', data=df, split=True, ax=ax3)\n",
    "\n",
    "# mostramos las Gráficas\n",
    "plt.show()"
   ]
  },
  {
   "cell_type": "markdown",
   "id": "bc67c831",
   "metadata": {},
   "source": [
    "__Conclusiones varias:__  \n",
    "* Embarqued & Age \n",
    "    * La mayoria de los pasajeros embarcados en __S__ estaban entre los 40 y los 20 años.\n",
    "    * Los pasajeros embarcados en no presentan datos significativos __C__.\n",
    "    * Los pasajeros embarcados en __Q__ menores de 45 sobrevivieron en su mayoría.\n",
    "* Pcalss & Age\n",
    "    * En __primera__ clase no se aprecian grandes diferencias en la tasa de supervivencia.\n",
    "    * Los Niños de __segunda__ clase sobrebivieron prácticamente todos.\n",
    "    * La  mayor tasa de superviviencia de __tercera__ clase se encuentra en los menores de 20.\n",
    "* Sex & Age\n",
    "    * La mayoria de __varones__ entre 20 y 40 años no sobrevivieron, en cambio aquellos menores de 20 años sobrevivieron en su mayoría.\n",
    "    * Entre las __mujeres__ no se aprecian diferencias significativas."
   ]
  },
  {
   "cell_type": "code",
   "execution_count": null,
   "id": "241ca2d0",
   "metadata": {},
   "outputs": [],
   "source": [
    "df.corr() # Muestra la correlacion entre columnas"
   ]
  },
  {
   "cell_type": "markdown",
   "id": "a49dc404",
   "metadata": {},
   "source": [
    "__Heat Map__ "
   ]
  },
  {
   "cell_type": "code",
   "execution_count": null,
   "id": "df22d6ec",
   "metadata": {},
   "outputs": [],
   "source": [
    "# Creamos una figura con un cierto tamaño\n",
    "plt.figure(figsize=(8,8))\n",
    "# Creamos el mapa de calor utilizando la correnlación entre las columnas\n",
    "sns.heatmap(df.corr(), annot=True)\n",
    "# Imprimimos el gráfico\n",
    "plt.show()"
   ]
  },
  {
   "cell_type": "markdown",
   "id": "d9a9d6a3",
   "metadata": {},
   "source": [
    "__Bar Plot__ "
   ]
  },
  {
   "cell_type": "code",
   "execution_count": null,
   "id": "0b5f3beb",
   "metadata": {},
   "outputs": [],
   "source": [
    "# En este caso no es necesario crear la figura\n",
    "sns.barplot(x='Pclass', y='Survived', data=df)\n",
    "# Imprimimos el grafico\n",
    "plt.show()"
   ]
  },
  {
   "cell_type": "markdown",
   "id": "7cae9609",
   "metadata": {},
   "source": [
    "__Mediante Funciones__"
   ]
  },
  {
   "cell_type": "code",
   "execution_count": null,
   "id": "69b06393",
   "metadata": {},
   "outputs": [],
   "source": [
    "def survived_plot(feat, width=12, height=10):\n",
    "    # creamos el lienzo en que se mostrarán los gráficos.\n",
    "    plt.figure(figsize=(width,height))  # ancho, alto\n",
    "    # creamos el lienzo en que se mostrará el primer gráfico.\n",
    "    plt.subplot(2,1,1)  # 2 filas, 1 columna y posición nº 1.\n",
    "    # Creamos el primer grafico que consistirá en la tabla que crearemos.\n",
    "    df.groupby(feat).Survived.value_counts().plot(kind='bar')\n",
    "    # creamos el lienzo en que se mostrará el segundo gráfico.\n",
    "    plt.subplot(2,1,2)  # 2 filas, 1 columna y posición nº 2.\n",
    "    # creamos el segundo gráfico\n",
    "    sns.barplot(x=feat, y='Survived', data=df)\n",
    "    # Mostramos los graficos\n",
    "    plt.show()"
   ]
  },
  {
   "cell_type": "markdown",
   "id": "1a8c142a",
   "metadata": {},
   "source": [
    "__Hagamos uso de la función:__"
   ]
  },
  {
   "cell_type": "code",
   "execution_count": null,
   "id": "217222d7",
   "metadata": {},
   "outputs": [],
   "source": [
    "survived_plot('Pclass')"
   ]
  },
  {
   "cell_type": "code",
   "execution_count": null,
   "id": "7d689df0",
   "metadata": {},
   "outputs": [],
   "source": [
    "survived_plot('Sex', 12, 18)"
   ]
  },
  {
   "cell_type": "code",
   "execution_count": null,
   "id": "f78b18e1",
   "metadata": {},
   "outputs": [],
   "source": [
    "survived_plot('Age', 50, 18)"
   ]
  },
  {
   "cell_type": "code",
   "execution_count": null,
   "id": "a2d22c71",
   "metadata": {},
   "outputs": [],
   "source": [
    "survived_plot('SibSp')"
   ]
  },
  {
   "cell_type": "code",
   "execution_count": null,
   "id": "3e9bb892",
   "metadata": {},
   "outputs": [],
   "source": [
    "survived_plot('Parch')"
   ]
  },
  {
   "cell_type": "code",
   "execution_count": null,
   "id": "cc0a3c79",
   "metadata": {},
   "outputs": [],
   "source": [
    "survived_plot('Embarked')"
   ]
  },
  {
   "cell_type": "markdown",
   "id": "604b06b0",
   "metadata": {},
   "source": [
    "# _Segunda parte de la actividad 4_"
   ]
  },
  {
   "cell_type": "markdown",
   "id": "fb17e018",
   "metadata": {},
   "source": [
    "### Pregunta -1- <br/>\n",
    "__Si estás trabajando con un set de datos, y necesitas ver rápidamente la información de una columna con un gráfico.<br/>¿Qué librería usarías? ¿Por qué?<br/> Si quieres puedes añadir un ejemplo. No es necesario, no obstante.__"
   ]
  },
  {
   "cell_type": "markdown",
   "id": "c53d5762",
   "metadata": {},
   "source": [
    "Si fuera simplemente para ver la información almacenada en una columna de forma puntual utilizaría la librería matplotlib.pyplot, ya que es la que mas he empleado y la que mejor conozco, por el contrario, si necesito ver infromacion mas concreta, o hacer un grafico en 3D emplearía otras librerias como plotly o seaborn.<br/>\n",
    "Seaborn en concreto me resultaría útil para ver la infromacion de diferentes fromas por todas las opciones que hemos visto que ofrece.<br/>Por ejemplo:"
   ]
  },
  {
   "cell_type": "code",
   "execution_count": null,
   "id": "2c1b0c96",
   "metadata": {},
   "outputs": [],
   "source": [
    "import plotly.express as px"
   ]
  },
  {
   "cell_type": "code",
   "execution_count": null,
   "id": "998b971d",
   "metadata": {},
   "outputs": [],
   "source": [
    "df_i = pd.read_csv('Iris_DataSheet.csv')\n",
    "df_i.head(3)"
   ]
  }
 ],
 "metadata": {
  "kernelspec": {
   "display_name": "Python 3",
   "language": "python",
   "name": "python3"
  },
  "language_info": {
   "codemirror_mode": {
    "name": "ipython",
    "version": 3
   },
   "file_extension": ".py",
   "mimetype": "text/x-python",
   "name": "python",
   "nbconvert_exporter": "python",
   "pygments_lexer": "ipython3",
   "version": "3.6.9"
  }
 },
 "nbformat": 4,
 "nbformat_minor": 5
}
