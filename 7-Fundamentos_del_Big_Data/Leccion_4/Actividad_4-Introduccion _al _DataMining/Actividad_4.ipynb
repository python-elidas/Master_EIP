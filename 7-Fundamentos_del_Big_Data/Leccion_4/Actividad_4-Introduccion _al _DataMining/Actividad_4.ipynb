{
 "cells": [
  {
   "cell_type": "markdown",
   "id": "35968e65",
   "metadata": {},
   "source": [
    "### _Librerias_"
   ]
  },
  {
   "cell_type": "code",
   "execution_count": 1,
   "id": "1e05fb19",
   "metadata": {},
   "outputs": [
    {
     "ename": "ModuleNotFoundError",
     "evalue": "No module named 'matplotlib'",
     "output_type": "error",
     "traceback": [
      "\u001b[0;31m---------------------------------------------------------------------------\u001b[0m",
      "\u001b[0;31mModuleNotFoundError\u001b[0m                       Traceback (most recent call last)",
      "\u001b[0;32m<ipython-input-1-c1504be09baf>\u001b[0m in \u001b[0;36m<module>\u001b[0;34m\u001b[0m\n\u001b[1;32m      2\u001b[0m \u001b[0;32mimport\u001b[0m \u001b[0mpandas\u001b[0m \u001b[0;32mas\u001b[0m \u001b[0mpd\u001b[0m\u001b[0;34m\u001b[0m\u001b[0;34m\u001b[0m\u001b[0m\n\u001b[1;32m      3\u001b[0m \u001b[0;32mimport\u001b[0m \u001b[0mnumpy\u001b[0m \u001b[0;32mas\u001b[0m \u001b[0mnp\u001b[0m\u001b[0;34m\u001b[0m\u001b[0;34m\u001b[0m\u001b[0m\n\u001b[0;32m----> 4\u001b[0;31m \u001b[0;32mimport\u001b[0m \u001b[0mmatplotlib\u001b[0m\u001b[0;34m.\u001b[0m\u001b[0mpyplot\u001b[0m \u001b[0;32mas\u001b[0m \u001b[0mplt\u001b[0m\u001b[0;34m\u001b[0m\u001b[0;34m\u001b[0m\u001b[0m\n\u001b[0m\u001b[1;32m      5\u001b[0m \u001b[0;32mimport\u001b[0m \u001b[0mseaborn\u001b[0m \u001b[0;32mas\u001b[0m \u001b[0msns\u001b[0m\u001b[0;34m\u001b[0m\u001b[0;34m\u001b[0m\u001b[0m\n",
      "\u001b[0;31mModuleNotFoundError\u001b[0m: No module named 'matplotlib'"
     ]
    }
   ],
   "source": [
    "# Principales dependencias\n",
    "import pandas as pd\n",
    "import numpy as np\n",
    "import matplotlib.pyplot as plt \n",
    "import seaborn as sns"
   ]
  },
  {
   "cell_type": "code",
   "execution_count": null,
   "id": "616042fd",
   "metadata": {},
   "outputs": [],
   "source": [
    "# Algoritmos de clasificación\n",
    "from sklearn.neighbors import KNeighborsClassifier as KNC\n",
    "from sklearn.tree import DecisionTreeClassifier as DTC\n",
    "from sklearn.ensemble import RandomForestClassifier as RFC\n",
    "from sklearn.naive_bayes import GaussianNB as GNB\n",
    "from sklearn.svm import SVC"
   ]
  },
  {
   "cell_type": "code",
   "execution_count": null,
   "id": "83520ebf",
   "metadata": {},
   "outputs": [],
   "source": [
    "# Una opción para evaluar el modelo\n",
    "from sklearn.metrics import accuracy_score as acc_s"
   ]
  },
  {
   "cell_type": "markdown",
   "id": "0fac5707",
   "metadata": {},
   "source": [
    "# _Primera parte de la actividad 4_"
   ]
  },
  {
   "cell_type": "markdown",
   "id": "b7735f24",
   "metadata": {},
   "source": [
    "## _Limpieza y primer vistazo del Data Set_"
   ]
  },
  {
   "cell_type": "code",
   "execution_count": null,
   "id": "97ffa860",
   "metadata": {},
   "outputs": [],
   "source": [
    "df = pd.read_csv('Titanic.csv')  # Creamos el DataFrame\n",
    "col = list(df.columns)  # obtenemos los nombres de las columnas\n",
    "df  # visualizacion del dataset"
   ]
  },
  {
   "cell_type": "code",
   "execution_count": null,
   "id": "33d10b52",
   "metadata": {},
   "outputs": [],
   "source": [
    "# Eliminamods las columnas que no nos dicen nada\n",
    "df = df.drop(col[0], axis=1)\n",
    "col = list(df.columns) # Actualizamos la lista de nombres de columnas\n",
    "df  # Visualizamos el resultado"
   ]
  },
  {
   "cell_type": "markdown",
   "id": "c41e9553",
   "metadata": {},
   "source": [
    "## _Exploratory Data Analysis (EDA)_"
   ]
  },
  {
   "cell_type": "code",
   "execution_count": null,
   "id": "76c6d2b9",
   "metadata": {},
   "outputs": [],
   "source": [
    "# Visualizamos la lungitud del data set\n",
    "len(df)"
   ]
  },
  {
   "cell_type": "code",
   "execution_count": null,
   "id": "88ec0819",
   "metadata": {},
   "outputs": [],
   "source": [
    "# Visualizamos la forma del dataset\n",
    "df.shape  # Nos da la forma de la matriz (row, col)"
   ]
  },
  {
   "cell_type": "code",
   "execution_count": null,
   "id": "eccd0197",
   "metadata": {
    "scrolled": true
   },
   "outputs": [],
   "source": [
    "# Visualizamos la infromacion del dataset EN GENERAL\n",
    "df.describe()"
   ]
  },
  {
   "cell_type": "markdown",
   "id": "047a5253",
   "metadata": {},
   "source": [
    "__Conclusiones__<br/>\n",
    "&nbsp;&nbsp;&nbsp;&nbsp;- Existen columnas con \"missing values\""
   ]
  },
  {
   "cell_type": "code",
   "execution_count": null,
   "id": "19950cf3",
   "metadata": {},
   "outputs": [],
   "source": [
    "# Visualizamos cuantos valores faltan y en que columnas\n",
    "df.isnull().sum()"
   ]
  },
  {
   "cell_type": "code",
   "execution_count": null,
   "id": "a905e345",
   "metadata": {},
   "outputs": [],
   "source": [
    "# Vaemos, por ejemplo, los valores documentados de las cabinas de los pasajeros\n",
    "df.Cabin.value_counts()"
   ]
  },
  {
   "cell_type": "code",
   "execution_count": null,
   "id": "9f26bf17",
   "metadata": {},
   "outputs": [],
   "source": [
    "# Visualizemos ahora la columna Cabin al completo:\n",
    "for cabina in df.Cabin:\n",
    "    print(cabina)"
   ]
  },
  {
   "cell_type": "code",
   "execution_count": null,
   "id": "f358b360",
   "metadata": {},
   "outputs": [],
   "source": [
    "# Todo lo anterior se puede obtener de otro modo:\n",
    "df.info()"
   ]
  },
  {
   "cell_type": "code",
   "execution_count": null,
   "id": "e71382c3",
   "metadata": {},
   "outputs": [],
   "source": [
    "# Visualicemos la cantidad de supervivientes:\n",
    "df.Survived.value_counts()"
   ]
  },
  {
   "cell_type": "code",
   "execution_count": null,
   "id": "5f098d1c",
   "metadata": {},
   "outputs": [],
   "source": [
    "df.Survived.value_counts().plot(kind='bar')\n",
    "plt.show()"
   ]
  },
  {
   "cell_type": "markdown",
   "id": "fd0e243e",
   "metadata": {},
   "source": [
    "## _Seleccionando informacion_"
   ]
  },
  {
   "cell_type": "markdown",
   "id": "be24afc5",
   "metadata": {},
   "source": [
    "_La siguientes lineas devuelven la misma información_"
   ]
  },
  {
   "cell_type": "markdown",
   "id": "d5069fdb",
   "metadata": {},
   "source": [
    "___Fromato 1___"
   ]
  },
  {
   "cell_type": "code",
   "execution_count": null,
   "id": "d70b5ded",
   "metadata": {
    "scrolled": true
   },
   "outputs": [],
   "source": [
    "df['Age'].head()"
   ]
  },
  {
   "cell_type": "markdown",
   "id": "8e45afc4",
   "metadata": {},
   "source": [
    "___Formato 2___"
   ]
  },
  {
   "cell_type": "code",
   "execution_count": null,
   "id": "bb8fcafe",
   "metadata": {},
   "outputs": [],
   "source": [
    "df.Age.head()"
   ]
  },
  {
   "cell_type": "markdown",
   "id": "9134bc42",
   "metadata": {},
   "source": [
    "___Formato 3: Crosstab___ "
   ]
  },
  {
   "cell_type": "code",
   "execution_count": null,
   "id": "904d664b",
   "metadata": {},
   "outputs": [],
   "source": [
    "pd.crosstab(df.Sex, df.Survived)"
   ]
  },
  {
   "cell_type": "markdown",
   "id": "8042fc7e",
   "metadata": {},
   "source": [
    "### __Analizando la infromacion:__ "
   ]
  },
  {
   "cell_type": "markdown",
   "id": "6683a505",
   "metadata": {},
   "source": [
    "_Analicemos los superviventes según su sexo:_"
   ]
  },
  {
   "cell_type": "code",
   "execution_count": null,
   "id": "d7f46ef2",
   "metadata": {},
   "outputs": [],
   "source": [
    "pd.crosstab(df.Sex, df.Survived).plot(kind='bar')\n",
    "plt.show()"
   ]
  },
  {
   "cell_type": "markdown",
   "id": "3b2e8fb0",
   "metadata": {},
   "source": [
    "___Formato 4: Crosstab + Bar Plot Stacked___"
   ]
  },
  {
   "cell_type": "code",
   "execution_count": null,
   "id": "093d6b8b",
   "metadata": {},
   "outputs": [],
   "source": [
    "pd.crosstab(df.Sex, df.Survived).plot(kind='bar', stacked=True)\n",
    "plt.show()"
   ]
  },
  {
   "cell_type": "markdown",
   "id": "c88ee005",
   "metadata": {},
   "source": [
    "__Conclusiones:__ <br/>\n",
    "* La mayoria de las mujeres sobrevivieron.<br/>\n",
    "* La mayoria de los hombres NO sobrevivieron.<br/>\n",
    "* Habia casi del doble de hombres que mujeres."
   ]
  },
  {
   "cell_type": "markdown",
   "id": "1d2e6bc7",
   "metadata": {},
   "source": [
    "_Analicemos los supervivnetes según su clase:_"
   ]
  },
  {
   "cell_type": "code",
   "execution_count": null,
   "id": "3b610154",
   "metadata": {},
   "outputs": [],
   "source": [
    "pd.crosstab(df.Pclass, df.Survived).plot(kind='bar')\n",
    "plt.show()"
   ]
  },
  {
   "cell_type": "markdown",
   "id": "4fda3a4a",
   "metadata": {},
   "source": [
    "__Conclusiones:__ <br/>\n",
    "* La mayoria de los fallecidos pertenecian a la tercera clase."
   ]
  },
  {
   "cell_type": "markdown",
   "id": "15c904a9",
   "metadata": {},
   "source": [
    "___Formato 5: Groupby___ "
   ]
  },
  {
   "cell_type": "code",
   "execution_count": null,
   "id": "057f667d",
   "metadata": {},
   "outputs": [],
   "source": [
    "# en este formato se puede interpretar como sifgue: df.groupby('col_1').col_2\n",
    "df.groupby('Sex').Survived.value_counts()"
   ]
  },
  {
   "cell_type": "code",
   "execution_count": null,
   "id": "3a7155f7",
   "metadata": {},
   "outputs": [],
   "source": [
    "df.groupby('Sex').Survived.value_counts().plot(kind='bar')\n",
    "plt.show"
   ]
  },
  {
   "cell_type": "markdown",
   "id": "8b526466",
   "metadata": {},
   "source": [
    "___Formato 6: Seleccionar infromacion Concreta___ "
   ]
  },
  {
   "cell_type": "code",
   "execution_count": null,
   "id": "7672aab4",
   "metadata": {},
   "outputs": [],
   "source": [
    "# En este ejemplo seleccionaremos aquellas filas en las que Pclass == 1\n",
    "\n",
    "df_class_uno = df[df.Pclass==1]\n",
    "df_class_uno.head()"
   ]
  },
  {
   "cell_type": "code",
   "execution_count": null,
   "id": "e65bac9f",
   "metadata": {},
   "outputs": [],
   "source": [
    "# Ahora crearemos un crosstab con los pasajeros de primera calse y que contenga solo la columna survived\n",
    "df_class_uno_crosstab = df[df.Pclass==1]['Survived']\n",
    "df_class_uno_crosstab"
   ]
  },
  {
   "cell_type": "markdown",
   "id": "2ec4b3c7",
   "metadata": {},
   "source": [
    "##  _Creando 'Nuevos' DataFrames_"
   ]
  },
  {
   "cell_type": "code",
   "execution_count": null,
   "id": "5e5e8227",
   "metadata": {},
   "outputs": [],
   "source": [
    "# supervivencia a 1 --> Supervivientes\n",
    "df_supervivientes = df[df['Survived']==1]\n",
    "\n",
    "df_supervivientes.head(3)"
   ]
  },
  {
   "cell_type": "code",
   "execution_count": null,
   "id": "9f330e07",
   "metadata": {},
   "outputs": [],
   "source": [
    "# supervivencia a 0 --> Fallecidos\n",
    "df_fallecidos = df[df['Survived']==0]\n",
    "\n",
    "df_fallecidos.head(3)"
   ]
  },
  {
   "cell_type": "code",
   "execution_count": null,
   "id": "9b6ce2f2",
   "metadata": {},
   "outputs": [],
   "source": [
    "# Superviviencia a 1 + sex = Hombre --> Hombres Supervivientes\n",
    "df_supervivientes_h = df [ ( df['Survived']==1 ) & ( df['Sex']=='male' ) ]\n",
    "\n",
    "df_supervivientes_h.head(3)"
   ]
  },
  {
   "cell_type": "code",
   "execution_count": null,
   "id": "cc5787c2",
   "metadata": {},
   "outputs": [],
   "source": [
    "## Superviviencia a 1 + sex = Mujer --> Mujeres Supervivientes\n",
    "df_supervivientes_m = df [ ( df['Survived']==1 ) & ( df['Sex']=='female' ) ]\n",
    "\n",
    "df_supervivientes_m.head(3)"
   ]
  },
  {
   "cell_type": "code",
   "execution_count": null,
   "id": "00011c21",
   "metadata": {},
   "outputs": [],
   "source": [
    "# Superviviencia a 0 + sex = Hombre --> Hombres Fallecidos\n",
    "df_fallecidos_h = df [ ( df['Survived']==0 ) & ( df['Sex']=='male' ) ]\n",
    "\n",
    "df_fallecidos_h.head(3)"
   ]
  },
  {
   "cell_type": "code",
   "execution_count": null,
   "id": "01b23942",
   "metadata": {},
   "outputs": [],
   "source": [
    "# Superviviencia a 0 + sex = Mujer --> Mujeres Fallecidas\n",
    "df_fallecidos_m = df [ ( df['Survived']==0 ) & ( df['Sex']=='female' ) ]\n",
    "\n",
    "df_fallecidos_m.head(3)"
   ]
  },
  {
   "cell_type": "markdown",
   "id": "36e9080c",
   "metadata": {},
   "source": [
    "## _Analisis de los Gráficos_"
   ]
  },
  {
   "cell_type": "markdown",
   "id": "5801d341",
   "metadata": {},
   "source": [
    "__Creación de graficos de froma automática__"
   ]
  },
  {
   "cell_type": "code",
   "execution_count": null,
   "id": "e97b62df",
   "metadata": {},
   "outputs": [],
   "source": [
    "# Crearemos con un bucle for tres crosstab: pd.crosstab(df[opcion], df.survived)\n",
    "\n",
    "opciones = ['Pclass', 'Sex', 'Embarked']\n",
    "\n",
    "for opcion in opciones:\n",
    "    pd.crosstab(df[opcion], df.Survived).plot(kind='bar')\n",
    "    plt.show()"
   ]
  },
  {
   "cell_type": "markdown",
   "id": "11f94e04",
   "metadata": {},
   "source": [
    "__Gráficos de Seaborn__"
   ]
  },
  {
   "cell_type": "code",
   "execution_count": null,
   "id": "39c6ed2f",
   "metadata": {},
   "outputs": [],
   "source": [
    "# EL abiso obtenido indica que la funcion que emplearemos ha cambiado de nombre\n",
    "sns.factorplot('Sex', 'Survived', hue='Pclass', size=4, aspect=2, legend=True, data=df)\n",
    "plt.show()"
   ]
  },
  {
   "cell_type": "code",
   "execution_count": null,
   "id": "25966a98",
   "metadata": {},
   "outputs": [],
   "source": [
    "# Otro formato para la misma infromación\n",
    "sns.catplot(x='Sex', y='Survived', hue='Pclass', kind='strip', data=df)\n",
    "plt.show()"
   ]
  },
  {
   "cell_type": "code",
   "execution_count": null,
   "id": "2b897176",
   "metadata": {},
   "outputs": [],
   "source": [
    "# Adecuamos los graficos a la nueva infromacion de la web\n",
    "sns.catplot(x='Sex', y='Survived', hue='Pclass', kind='point', height=4, aspect=2, data=df)\n",
    "plt.show()"
   ]
  },
  {
   "cell_type": "code",
   "execution_count": null,
   "id": "92e7013c",
   "metadata": {},
   "outputs": [],
   "source": [
    "sns.catplot(x='Pclass', y='Survived', hue='Sex', col='Embarked', kind='point', data=df)\n",
    "plt.show()"
   ]
  },
  {
   "cell_type": "markdown",
   "id": "ed6e3b2f",
   "metadata": {},
   "source": [
    "__Conclusiones varias:__ <br/>\n",
    "* La mayoria de mujeres de 3ª clase embarcadas en __S__ no sobreviveron.<br/>\n",
    "* La tasa de supervivencia de los hombres embarcados en __C__ es mayor que la del resto de puertos.<br/>\n",
    "* La tasa de mortalidad de los hombres embarcados en __Q__ es mayor que en el resto de puertos."
   ]
  },
  {
   "cell_type": "markdown",
   "id": "df104c1f",
   "metadata": {},
   "source": [
    "__Edad y Supervivencia__"
   ]
  },
  {
   "cell_type": "code",
   "execution_count": null,
   "id": "1ceb44e3",
   "metadata": {},
   "outputs": [],
   "source": [
    "# Creamos la figura que contendra los Plot\n",
    "fig = plt.figure(figsize=(16,6))\n",
    "# 3 Subplots\n",
    "# 1.- 1 fila, 3 columnas, posicion 1\n",
    "ax1 = fig.add_subplot(131)\n",
    "\n",
    "# 2.- 1 fila, 3 columnas, posicion 2\n",
    "ax2 = fig.add_subplot(132)\n",
    "\n",
    "# 3.- 1 fila, 3 columnas, posicion 3\n",
    "ax3 = fig.add_subplot(133)\n",
    "\n",
    "# creamos los plot\n",
    "sns.violinplot(x='Embarked', y='Age', hue='Survived', data=df, split=True, ax=ax1)\n",
    "sns.violinplot(x='Pclass', y='Age', hue='Survived', data=df, split=True, ax=ax2)\n",
    "sns.violinplot(x='Sex', y='Age', hue='Survived', data=df, split=True, ax=ax3)\n",
    "\n",
    "# mostramos las Gráficas\n",
    "plt.show()"
   ]
  },
  {
   "cell_type": "markdown",
   "id": "bc67c831",
   "metadata": {},
   "source": [
    "__Conclusiones varias:__  \n",
    "* Embarqued & Age \n",
    "    * La mayoria de los pasajeros embarcados en __S__ estaban entre los 40 y los 20 años.\n",
    "    * Los pasajeros embarcados en no presentan datos significativos __C__.\n",
    "    * Los pasajeros embarcados en __Q__ menores de 45 sobrevivieron en su mayoría.\n",
    "* Pcalss & Age\n",
    "    * En __primera__ clase no se aprecian grandes diferencias en la tasa de supervivencia.\n",
    "    * Los Niños de __segunda__ clase sobrebivieron prácticamente todos.\n",
    "    * La  mayor tasa de superviviencia de __tercera__ clase se encuentra en los menores de 20.\n",
    "* Sex & Age\n",
    "    * La mayoria de __varones__ entre 20 y 40 años no sobrevivieron, en cambio aquellos menores de 20 años sobrevivieron en su mayoría.\n",
    "    * Entre las __mujeres__ no se aprecian diferencias significativas."
   ]
  },
  {
   "cell_type": "code",
   "execution_count": null,
   "id": "241ca2d0",
   "metadata": {},
   "outputs": [],
   "source": [
    "df.corr() # Muestra la correlacion entre columnas"
   ]
  },
  {
   "cell_type": "markdown",
   "id": "a49dc404",
   "metadata": {},
   "source": [
    "__Heat Map__ "
   ]
  },
  {
   "cell_type": "code",
   "execution_count": null,
   "id": "df22d6ec",
   "metadata": {},
   "outputs": [],
   "source": [
    "# Creamos una figura con un cierto tamaño\n",
    "plt.figure(figsize=(8,8))\n",
    "# Creamos el mapa de calor utilizando la correnlación entre las columnas\n",
    "sns.heatmap(df.corr(), annot=True)\n",
    "# Imprimimos el gráfico\n",
    "plt.show()"
   ]
  },
  {
   "cell_type": "markdown",
   "id": "d9a9d6a3",
   "metadata": {},
   "source": [
    "__Bar Plot__ "
   ]
  },
  {
   "cell_type": "code",
   "execution_count": null,
   "id": "0b5f3beb",
   "metadata": {},
   "outputs": [],
   "source": [
    "# En este caso no es necesario crear la figura\n",
    "sns.barplot(x='Pclass', y='Survived', data=df)\n",
    "# Imprimimos el grafico\n",
    "plt.show()"
   ]
  },
  {
   "cell_type": "markdown",
   "id": "7cae9609",
   "metadata": {},
   "source": [
    "__Mediante Funciones__"
   ]
  },
  {
   "cell_type": "code",
   "execution_count": null,
   "id": "69b06393",
   "metadata": {},
   "outputs": [],
   "source": [
    "def survived_plot(feat, width=12, height=10):\n",
    "    # creamos el lienzo en que se mostrarán los gráficos.\n",
    "    plt.figure(figsize=(width,height))  # ancho, alto\n",
    "    # creamos el lienzo en que se mostrará el primer gráfico.\n",
    "    plt.subplot(2,1,1)  # 2 filas, 1 columna y posición nº 1.\n",
    "    # Creamos el primer grafico que consistirá en la tabla que crearemos.\n",
    "    df.groupby(feat).Survived.value_counts().plot(kind='bar')\n",
    "    # creamos el lienzo en que se mostrará el segundo gráfico.\n",
    "    plt.subplot(2,1,2)  # 2 filas, 1 columna y posición nº 2.\n",
    "    # creamos el segundo gráfico\n",
    "    sns.barplot(x=feat, y='Survived', data=df)\n",
    "    # Mostramos los graficos\n",
    "    plt.show()"
   ]
  },
  {
   "cell_type": "markdown",
   "id": "1a8c142a",
   "metadata": {},
   "source": [
    "__Hagamos uso de la función:__"
   ]
  },
  {
   "cell_type": "code",
   "execution_count": null,
   "id": "217222d7",
   "metadata": {},
   "outputs": [],
   "source": [
    "survived_plot('Pclass')"
   ]
  },
  {
   "cell_type": "code",
   "execution_count": null,
   "id": "7d689df0",
   "metadata": {},
   "outputs": [],
   "source": [
    "survived_plot('Sex', 12, 18)"
   ]
  },
  {
   "cell_type": "code",
   "execution_count": null,
   "id": "f78b18e1",
   "metadata": {},
   "outputs": [],
   "source": [
    "survived_plot('Age', 50, 18)"
   ]
  },
  {
   "cell_type": "code",
   "execution_count": null,
   "id": "a2d22c71",
   "metadata": {},
   "outputs": [],
   "source": [
    "survived_plot('SibSp')"
   ]
  },
  {
   "cell_type": "code",
   "execution_count": null,
   "id": "3e9bb892",
   "metadata": {},
   "outputs": [],
   "source": [
    "survived_plot('Parch')"
   ]
  },
  {
   "cell_type": "code",
   "execution_count": null,
   "id": "cc0a3c79",
   "metadata": {},
   "outputs": [],
   "source": [
    "survived_plot('Embarked')"
   ]
  },
  {
   "cell_type": "markdown",
   "id": "604b06b0",
   "metadata": {},
   "source": [
    "# _Segunda parte de la actividad 4_"
   ]
  },
  {
   "cell_type": "markdown",
   "id": "fb17e018",
   "metadata": {},
   "source": [
    "### Pregunta -1- <br/>\n",
    "__Si estás trabajando con un set de datos, y necesitas ver rápidamente la información de una columna con un gráfico.<br/>¿Qué librería usarías? ¿Por qué?<br/> Si quieres puedes añadir un ejemplo. No es necesario, no obstante.__"
   ]
  },
  {
   "cell_type": "markdown",
   "id": "c53d5762",
   "metadata": {},
   "source": [
    "Si fuera simplemente para ver la información almacenada en una columna de forma puntual utilizaría la librería pandas, ya que permite visualizar de forma rápida la información de una columna por el contrario, si necesito ver información más concreta, o hacer un gráfico en 3D emplearía otras librerías como plotly o seaborn.<br/>\n",
    "Seaborn en concreto me resultaría útil para ver la información de diferentes formas por todas las opciones que hemos visto que ofrece.<br/>Por ejemplo:"
   ]
  },
  {
   "cell_type": "code",
   "execution_count": null,
   "id": "2c1b0c96",
   "metadata": {},
   "outputs": [],
   "source": [
    "import plotly.express as px"
   ]
  },
  {
   "cell_type": "code",
   "execution_count": null,
   "id": "998b971d",
   "metadata": {},
   "outputs": [],
   "source": [
    "df_i = pd.read_csv('Iris.csv')\n",
    "df_i.head(3)"
   ]
  },
  {
   "cell_type": "markdown",
   "id": "2a004615",
   "metadata": {},
   "source": [
    "__Un vistazo rápido:__"
   ]
  },
  {
   "cell_type": "code",
   "execution_count": null,
   "id": "24a14eff",
   "metadata": {
    "scrolled": true
   },
   "outputs": [],
   "source": [
    "df_i.Species.value_counts().plot(kind='bar')\n",
    "plt.show()"
   ]
  },
  {
   "cell_type": "markdown",
   "id": "322a8b5c",
   "metadata": {},
   "source": [
    "__Comparativa:__"
   ]
  },
  {
   "cell_type": "code",
   "execution_count": null,
   "id": "b9a662e2",
   "metadata": {},
   "outputs": [],
   "source": [
    "# Creamos la figura que contendra los Plot\n",
    "fig = plt.figure(figsize=(20,8))\n",
    "# 3 Subplots\n",
    "# 1.- 1 fila, 3 columnas, posicion 1\n",
    "ax1 = fig.add_subplot(141)\n",
    "\n",
    "# 2.- 1 fila, 3 columnas, posicion 2\n",
    "ax2 = fig.add_subplot(142)\n",
    "\n",
    "# 3.- 1 fila, 3 columnas, posicion 3\n",
    "ax3 = fig.add_subplot(143)\n",
    "\n",
    "# 4.- 1 fila, 3 columnas, posicion 4\n",
    "ax4 = fig.add_subplot(144)\n",
    "\n",
    "# creamos los plot\n",
    "sns.violinplot(x='Species', y='SepalLengthCm', data=df_i, split=True, ax=ax1)\n",
    "sns.violinplot(x='Species', y='SepalWidthCm', data=df_i, split=True, ax=ax2)\n",
    "sns.violinplot(x='Species', y='PetalLengthCm', data=df_i, split=True, ax=ax3)\n",
    "sns.violinplot(x='Species', y='PetalWidthCm', data=df_i, split=True, ax=ax4)\n",
    "\n",
    "# mostramos las Gráficas\n",
    "plt.show()"
   ]
  },
  {
   "cell_type": "markdown",
   "id": "ec703e66",
   "metadata": {},
   "source": [
    "__Visualización global de la infromación:__"
   ]
  },
  {
   "cell_type": "code",
   "execution_count": null,
   "id": "d82de7d1",
   "metadata": {},
   "outputs": [],
   "source": [
    "fig = px.scatter_3d(\n",
    "        df_i, \n",
    "        x=df_i.SepalLengthCm, \n",
    "        y=df_i.SepalWidthCm, \n",
    "        z=df_i.PetalWidthCm, \n",
    "        color=df_i.PetalLengthCm, \n",
    "        symbol=df_i.Species,\n",
    "        size=df_i.PetalLengthCm,\n",
    "        size_max=10)\n",
    "\n",
    "fig.show()"
   ]
  },
  {
   "cell_type": "markdown",
   "id": "11207dd9",
   "metadata": {},
   "source": [
    "### Pregunta -2-<br/>\n",
    "__¿Te parece difícil la forma en que creamos “nuevos DataFrames”?<br/>\n",
    "(seleccionando solo ciertas filas o columnas, bajo ciertas condiciones o\n",
    "premisas).__"
   ]
  },
  {
   "cell_type": "markdown",
   "id": "951feccb",
   "metadata": {},
   "source": [
    "Realmente, me resulta útil, cómodo y sencillo, ya que la regla nemotécnica para recordar la forma de crear los nuevos data frame es relativamente sencilla:<br/>\n",
    "\n",
    "* **df[ (df[col] condición) & (df[col] condición) ]<br/>**\n",
    "    * ___df___ &nbsp;&nbsp;&nbsp;&nbsp;&nbsp;&nbsp;&nbsp;&nbsp;&nbsp;&nbsp;&nbsp;&nbsp;&nbsp;&nbsp; Es el dataframe de \"origen\".<br/>\n",
    "    * ___df[col]___&nbsp;&nbsp;&nbsp;&nbsp;&nbsp;&nbsp;&nbsp;&nbsp; Es la columna del data frame de origen de donde se sacara la información.<br/>\n",
    "    * ___condición___ &nbsp;&nbsp; Es la condición mediante la cual se filtrara la información que pasará al nuevo data frame.<br/>\n",
    "\n",
    "En conclusión, ese formato para seleccionar la información resulta ser bastante cómodo."
   ]
  },
  {
   "cell_type": "markdown",
   "id": "6c50f1f7",
   "metadata": {},
   "source": [
    "### Pregunta -3-\n",
    "__Busca algo de información acerca de “Heatmap” y explica con tus palabras lo que consideres oportuno<br/>\n",
    "Puedes añadir ejemplos o lo que quieras.__"
   ]
  },
  {
   "cell_type": "markdown",
   "id": "4a950ed8",
   "metadata": {},
   "source": [
    "Los mapas de calor o HeatMaps son gráficos útiles para ver de un solo vistazo la relación entre ciertas variables o ciertas columnas de un dataframe como se muestra a continuación:"
   ]
  },
  {
   "cell_type": "code",
   "execution_count": null,
   "id": "a9cc8d4e",
   "metadata": {},
   "outputs": [],
   "source": [
    "df_i.head(5)"
   ]
  },
  {
   "cell_type": "code",
   "execution_count": null,
   "id": "73d6ec5a",
   "metadata": {},
   "outputs": [],
   "source": [
    "plt.figure(figsize=(5,30))\n",
    "sns.heatmap(df_i.drop(['Id', 'Species'], axis=1), annot=True)\n",
    "plt.show()"
   ]
  },
  {
   "cell_type": "markdown",
   "id": "ff4ef5bd",
   "metadata": {},
   "source": [
    "Puede no ser el mejor ejemplo, pero se aprecia bastante bien la diferencia de tamaño entre los pétalos y sépalos y entre especies."
   ]
  },
  {
   "cell_type": "markdown",
   "id": "37645492",
   "metadata": {},
   "source": [
    "### Pregunta -4-\n",
    "__Hemos usado diferentes tipos de gráficos.<br/>\n",
    "¿Se entiende bien cuando usar un “violinplot” o un “factorplot” por ejemplo?<br/>\n",
    "¿Serías capaz de emplearlo en otro set de datos?__"
   ]
  },
  {
   "cell_type": "markdown",
   "id": "859945ca",
   "metadata": {},
   "source": [
    "El violinplot lo emplearia cuando fuera necesario visualizar varias distribuciones gausianas en el mismo grafico para entender mejor la información con la que trato y el factor plot lo emplearía cuando quisiera comparar varios factores de un solo vistazo.<br/>\n",
    "Un par de ejemplos (como ya he empleado el violin plot anteriormente, pondré un par de ejemplos del factorplot):"
   ]
  },
  {
   "cell_type": "code",
   "execution_count": null,
   "id": "dc015862",
   "metadata": {},
   "outputs": [],
   "source": [
    "df_i.head()"
   ]
  },
  {
   "cell_type": "code",
   "execution_count": null,
   "id": "75f02d98",
   "metadata": {},
   "outputs": [],
   "source": [
    "plt.figure(figsize=(90,15))\n",
    "sns.catplot(x='SepalLengthCm', y='PetalLengthCm', hue='Species', kind='point', data=df_i)\n",
    "plt.show()"
   ]
  },
  {
   "cell_type": "markdown",
   "id": "2507c340",
   "metadata": {},
   "source": [
    "De nuevo, puede no ser el mejor ejemplo pero se aprecia con bastente claridad la diferencia en la relacion entre las longitudes del petalo y sepalo y entre especies."
   ]
  }
 ],
 "metadata": {
  "kernelspec": {
   "display_name": "Python 3",
   "language": "python",
   "name": "python3"
  },
  "language_info": {
   "codemirror_mode": {
    "name": "ipython",
    "version": 3
   },
   "file_extension": ".py",
   "mimetype": "text/x-python",
   "name": "python",
   "nbconvert_exporter": "python",
   "pygments_lexer": "ipython3",
   "version": "3.6.9"
  }
 },
 "nbformat": 4,
 "nbformat_minor": 5
}
