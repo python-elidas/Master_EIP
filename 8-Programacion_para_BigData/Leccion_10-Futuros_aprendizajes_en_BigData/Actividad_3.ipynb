{
 "cells": [
  {
   "cell_type": "markdown",
   "id": "ebea3ee8",
   "metadata": {},
   "source": [
    "# Primera parte de la Actividad"
   ]
  },
  {
   "cell_type": "code",
   "execution_count": 1,
   "id": "976613a1",
   "metadata": {},
   "outputs": [
    {
     "name": "stderr",
     "output_type": "stream",
     "text": [
      "/home/elidas/virtual_envs/BigData/lib/python3.6/site-packages/sympy/printing/ccode.py:12: SymPyDeprecationWarning: \n",
      "\n",
      "importing from sympy.printing.ccode has been deprecated since SymPy\n",
      "1.7. Use Import from sympy.printing.c instead. See\n",
      "https://github.com/sympy/sympy/issues/20256 for more info.\n",
      "\n",
      "  deprecated_since_version=\"1.7\").warn()\n"
     ]
    }
   ],
   "source": [
    "#Importamos las dependecias pertinentes\n",
    "from qiskit import *"
   ]
  },
  {
   "cell_type": "code",
   "execution_count": 3,
   "id": "a590d697",
   "metadata": {},
   "outputs": [
    {
     "ename": "AttributeError",
     "evalue": "module 'qiskit' has no attribute '__qiskit_version__'",
     "output_type": "error",
     "traceback": [
      "\u001b[0;31m---------------------------------------------------------------------------\u001b[0m",
      "\u001b[0;31mAttributeError\u001b[0m                            Traceback (most recent call last)",
      "\u001b[0;32m<ipython-input-3-137fe506df9f>\u001b[0m in \u001b[0;36m<module>\u001b[0;34m\u001b[0m\n\u001b[1;32m      1\u001b[0m \u001b[0;31m#comprobemos la version:\u001b[0m\u001b[0;34m\u001b[0m\u001b[0;34m\u001b[0m\u001b[0;34m\u001b[0m\u001b[0m\n\u001b[0;32m----> 2\u001b[0;31m \u001b[0mqiskit\u001b[0m\u001b[0;34m.\u001b[0m\u001b[0m__qiskit_version__\u001b[0m\u001b[0;34m\u001b[0m\u001b[0;34m\u001b[0m\u001b[0m\n\u001b[0m",
      "\u001b[0;31mAttributeError\u001b[0m: module 'qiskit' has no attribute '__qiskit_version__'"
     ]
    }
   ],
   "source": [
    "#comprobemos la version:\n",
    "qiskit.__qiskit_version__"
   ]
  }
 ],
 "metadata": {
  "kernelspec": {
   "display_name": "Python 3",
   "language": "python",
   "name": "python3"
  },
  "language_info": {
   "codemirror_mode": {
    "name": "ipython",
    "version": 3
   },
   "file_extension": ".py",
   "mimetype": "text/x-python",
   "name": "python",
   "nbconvert_exporter": "python",
   "pygments_lexer": "ipython3",
   "version": "3.6.9"
  }
 },
 "nbformat": 4,
 "nbformat_minor": 5
}
