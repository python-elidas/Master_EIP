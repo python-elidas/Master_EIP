{
 "cells": [
  {
   "cell_type": "markdown",
   "id": "039a2f80",
   "metadata": {},
   "source": [
    "# Infromation Generator\n",
    "fuente original: https://pgirish.github.io/spark-project/index.html"
   ]
  },
  {
   "cell_type": "code",
   "execution_count": null,
   "id": "662ab7f4",
   "metadata": {},
   "outputs": [],
   "source": [
    "#importemos la dependecias necesarias:\n",
    "import socket, sys, requests\n",
    "try:\n",
    "    import requests_oauthlib\n",
    "except:\n",
    "    !pip install requests-oauthlib\n",
    "    import requests_oauthlib\n",
    "import json\n",
    "import bleach\n",
    "from bs4 import BeautifulSoup"
   ]
  },
  {
   "cell_type": "code",
   "execution_count": null,
   "id": "eb5f5641",
   "metadata": {},
   "outputs": [],
   "source": [
    "# a la aplicación se le ha dado el nombre de Spark Streaming & tweepy\n",
    "# creemos las credenciales:\n",
    "access_token = '#'\n",
    "access_secret = '#'\n",
    "consumer_key = '#' # api Key\n",
    "consumer_secret = '#' # api secret"
   ]
  },
  {
   "cell_type": "code",
   "execution_count": null,
   "id": "dbce0d83",
   "metadata": {},
   "outputs": [],
   "source": [
    "# Creemos la variable de autenticación:\n",
    "my_auth = requests_oauthlib.OAuth1(consumer_key, consumer_secret, access_token, access_secret)"
   ]
  },
  {
   "cell_type": "code",
   "execution_count": null,
   "id": "44db1c10",
   "metadata": {},
   "outputs": [],
   "source": [
    "# creemos la funcion que obtendrá los twits:\n",
    "def get_tweets():\n",
    "    url = 'https://stream.twitter.com/1.1/statuses/filter.json'\n",
    "    query_data = [('language', 'en'), ('locations', '-130,-20,100,50'),('track','#')]\n",
    "    query_url = url + '?' + '&'.join([str(t[0]) + '=' + str(t[1]) for t in query_data])\n",
    "    response = requests.get(query_url, auth=my_auth, stream=True) # obtiene los twits con los datos de autenticacion\n",
    "    print(query_url, response)\n",
    "    return response"
   ]
  },
  {
   "cell_type": "code",
   "execution_count": null,
   "id": "e921d48e",
   "metadata": {},
   "outputs": [],
   "source": [
    "# ahora será necesaria una funcion que envie la infromación a spark\n",
    "def send_tweets_to_spark(http_resp, tcp_connection):\n",
    "    for line in http_resp.iter_lines():\n",
    "        try:\n",
    "            full_tweet = json.loads(line)\n",
    "            tweet_text = full_tweet['text']# separa el texto del tweet del resto\n",
    "            print(\"Tweet Text: \" + tweet_text)\n",
    "            #print (\"------------------------------------------\")\n",
    "            tweet_screen_name = \"SN:\"+full_tweet['user']['screen_name']\n",
    "            print(\"SCREEN NAME IS : \" + tweet_screen_name)\n",
    "            #print (\"------------------------------------------\")\n",
    "            source = full_tweet['source']\n",
    "            soup = BeautifulSoup(source)\n",
    "            for anchor in soup.find_all('a'):         \n",
    "               print(\"Tweet Source: \" + anchor.text)        \n",
    "            tweet_source = anchor.text\n",
    "            source_device = tweet_source.replace(\" \", \"\")\n",
    "            device = \"TS\"+source_device.replace(\"Twitter\", \"\") \n",
    "            print(\"SOURCE IS : \" + device)\n",
    "            #print (\"------------------------------------------\")\n",
    "            tweet_country_code = \"CC\"+full_tweet['place']['country_code']\n",
    "            print(\"COUNTRY CODE IS : \" + tweet_country_code)#obtenemos el pais desde el que se ha creado\n",
    "            print (\"------------------------------------------\")\n",
    "            tcp_connection.send(\n",
    "                tweet_text +' '+ tweet_country_code + ' '+ tweet_screen_name +' '+ device +'\\n'\n",
    "            )# envia la infromacion mediante protoclolo tcp\n",
    "        except:\n",
    "            continue\n"
   ]
  },
  {
   "cell_type": "code",
   "execution_count": null,
   "id": "60f2957f",
   "metadata": {
    "scrolled": true
   },
   "outputs": [],
   "source": [
    "# creemos ahora la configuración del generador de infromación:\n",
    "TCP_IP = \"localhost\" # establecemos la IP\n",
    "TCP_PORT = 9009 # establecemos el puerto de comunicación\n",
    "conn = None\n",
    "s = socket.socket(socket.AF_INET, socket.SOCK_STREAM)\n",
    "s.bind((TCP_IP, TCP_PORT))\n",
    "s.listen(1)\n",
    "print(\"Waiting for TCP connection...\")\n",
    "conn, addr = s.accept()\n",
    "print(\"Connected... Starting getting tweets.\")\n",
    "resp = get_tweets() # obtenemos los tweets\n",
    "send_tweets_to_spark(resp, conn) #los enviamos a spark mdiante el host y la IP seleccionados"
   ]
  }
 ],
 "metadata": {
  "kernelspec": {
   "display_name": "Python 3 (ipykernel)",
   "language": "python",
   "name": "python3"
  },
  "language_info": {
   "codemirror_mode": {
    "name": "ipython",
    "version": 3
   },
   "file_extension": ".py",
   "mimetype": "text/x-python",
   "name": "python",
   "nbconvert_exporter": "python",
   "pygments_lexer": "ipython3",
   "version": "3.9.6"
  }
 },
 "nbformat": 4,
 "nbformat_minor": 5
}
