{
 "cells": [
  {
   "cell_type": "markdown",
   "id": "aa127aee",
   "metadata": {},
   "source": [
    "# Information Consumer"
   ]
  },
  {
   "cell_type": "code",
   "execution_count": null,
   "id": "612fd5a3",
   "metadata": {},
   "outputs": [],
   "source": [
    "# empecemos importando las instancias\n",
    "from pyspark import SparkConf,SparkContext\n",
    "from pyspark.streaming import StreamingContext\n",
    "from pyspark.sql import Row,SQLContext\n",
    "import sys\n",
    "import requests"
   ]
  },
  {
   "cell_type": "code",
   "execution_count": null,
   "id": "5ae82224",
   "metadata": {},
   "outputs": [],
   "source": [
    "# cuenta cuantas veces aparece un hashtag o lo agrega a la lista\n",
    "def aggregate_tags_count(new_values, total_sum):\n",
    "    return sum(new_values) + (total_sum or 0)"
   ]
  },
  {
   "cell_type": "code",
   "execution_count": null,
   "id": "08b1dc0c",
   "metadata": {},
   "outputs": [],
   "source": [
    "def get_sql_context_instance(spark_context):\n",
    "    if 'sqlContextSingletonInstance' not in globals():\n",
    "        globals()['sqlContextSingletonInstance'] = SQLContext(spark_context)\n",
    "    return globals()['sqlContextSingletonInstance']"
   ]
  },
  {
   "cell_type": "code",
   "execution_count": null,
   "id": "58d862ca",
   "metadata": {},
   "outputs": [],
   "source": [
    "def process_rdd(time, rdd):\n",
    "    print(\"----------- %s -----------\" % str(time))\n",
    "    #try:\n",
    "    # obtén el contexto spark sql singleton desde el contexto actual\n",
    "    sql_context = get_sql_context_instance(rdd.context)\n",
    "    print(\"Get spark sql singleton context from the current context ----------- %s -----------\" % str(time))\n",
    "\n",
    "    # convierte el RDD a Row RDD\n",
    "    row_rdd = rdd.map(lambda w: Row(hashtag=w[0], hashtag_count=w[1]))\n",
    "\n",
    "    # crea un DF desde el Row RDD\n",
    "    hashtags_df = sql_context.createDataFrame(row_rdd)\n",
    "    print(hashtag_df)\n",
    "\n",
    "    # Registra el DF como tabla\n",
    "    hashtags_df.registerTempTable(\"hashtags\")\n",
    "\n",
    "    # obtenemos la información\n",
    "    hashtag_counts_df = sql_context.sql(\n",
    "        '''SELECT hashtag, hashtag_count FROM hashtags ORDER BY hashtag_count DESC LIMIT 10'''\n",
    "    )# obtén los 10 mejores hashtags de la tabla utilizando SQL e imprímelos\n",
    "    hashtag_counts_df.show()\n",
    "    hashtag_counts_df.coalesce(1)\\\n",
    "        .write.format('com.databricks.spark.csv')\\\n",
    "        .mode('overwrite')\\\n",
    "        .option(\"header\", \"true\")\\\n",
    "        .csv(\"hashtag_file.csv\") \n",
    "\n",
    "    country_counts_df = sql_context.sql(\n",
    "        '''select word as country_code, \n",
    "        word_count as tweet_count from hashtags where word like 'CC%'order by word_count desc limit 10'''\n",
    "    )# obtén los 10 mejores paises de la tabla utilizando SQL e imprímelos\n",
    "    country_counts_df.show()\n",
    "    country_counts_df.coalesce(1)\\\n",
    "        .write.format('com.databricks.spark.csv')\\\n",
    "        .mode('overwrite')\\\n",
    "        .option(\"header\", \"true\")\\\n",
    "        .csv(\"country_file.csv\")\n",
    "    #except:\n",
    "    #    pass"
   ]
  },
  {
   "cell_type": "code",
   "execution_count": null,
   "id": "7e415fad",
   "metadata": {},
   "outputs": [],
   "source": [
    "# A continuación creemos la configuración de spark:\n",
    "conf = SparkConf()\n",
    "conf.setAppName(\"Actividad_7\")"
   ]
  },
  {
   "cell_type": "code",
   "execution_count": null,
   "id": "f79a75ac",
   "metadata": {},
   "outputs": [],
   "source": [
    "# creemos el Spark Context\n",
    "sc = SparkContext(conf=conf)\n",
    "sc.setLogLevel(\"ERROR\")"
   ]
  },
  {
   "cell_type": "code",
   "execution_count": null,
   "id": "9ef45714",
   "metadata": {},
   "outputs": [],
   "source": [
    "# Creamos el Streming Context con intervalo de refresco de 5 segundos\n",
    "ssc = StreamingContext(sc, 2)"
   ]
  },
  {
   "cell_type": "code",
   "execution_count": null,
   "id": "9195108f",
   "metadata": {},
   "outputs": [],
   "source": [
    "# establecemos un punto de control para la recuperacion de RDD\n",
    "ssc.checkpoint(\"checkpoint_TwitterApp\")"
   ]
  },
  {
   "cell_type": "code",
   "execution_count": null,
   "id": "078fd9d2",
   "metadata": {},
   "outputs": [],
   "source": [
    "#por ultimo, leemos los datos:\n",
    "dataStream = ssc.socketTextStream(\"localhost\",9009)"
   ]
  },
  {
   "cell_type": "markdown",
   "id": "50553ada",
   "metadata": {},
   "source": [
    "***"
   ]
  },
  {
   "cell_type": "code",
   "execution_count": null,
   "id": "bf892430",
   "metadata": {
    "scrolled": true
   },
   "outputs": [],
   "source": [
    "# divide cada Tweet en palabras\n",
    "words = dataStream.flatMap(lambda line: line.split(\" \"))\n",
    "\n",
    "# filtra las palabras para obtener solo hashtags, luego mapea cada hashtag para que sea un par de (hashtag,1)\n",
    "hashtags = words.filter(lambda w: '#' in w).map(lambda x: (x, 1))\n",
    "\n",
    "# agrega la cuenta de cada hashtag a su última cuenta\n",
    "tags_totals = hashtags.updateStateByKey(aggregate_tags_count)\n",
    "\n",
    "# procesa cada RDD generado en cada intervalo\n",
    "tags_totals.foreachRDD(process_rdd)\n",
    "\n",
    "# comienza la computación de streaming\n",
    "ssc.start()\n",
    "\n",
    "# espera que la transmisión termine\n",
    "ssc.awaitTermination()"
   ]
  },
  {
   "cell_type": "code",
   "execution_count": null,
   "id": "1d7c10c6",
   "metadata": {},
   "outputs": [],
   "source": []
  }
 ],
 "metadata": {
  "kernelspec": {
   "display_name": "Python 3 (ipykernel)",
   "language": "python",
   "name": "python3"
  },
  "language_info": {
   "codemirror_mode": {
    "name": "ipython",
    "version": 3
   },
   "file_extension": ".py",
   "mimetype": "text/x-python",
   "name": "python",
   "nbconvert_exporter": "python",
   "pygments_lexer": "ipython3",
   "version": "3.9.6"
  }
 },
 "nbformat": 4,
 "nbformat_minor": 5
}
