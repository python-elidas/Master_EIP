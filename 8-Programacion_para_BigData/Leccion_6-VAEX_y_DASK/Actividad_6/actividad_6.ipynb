{
 "cells": [
  {
   "cell_type": "markdown",
   "id": "38454203",
   "metadata": {},
   "source": [
    "# Primera parte de la actividad"
   ]
  },
  {
   "cell_type": "markdown",
   "id": "e8fb5307",
   "metadata": {},
   "source": [
    "## Caracteristicas:\n",
    "   * **Maquina virtual:**\n",
    "       * SO: Linux\n",
    "       * RAM: 8192MB (8 GB)\n",
    "       * Procesadores: 4\n",
    "       * Chipset: PIIX3\n",
    "       * Aceleracion:\n",
    "           * VT-x/AMD-V\n",
    "           * Páginación Anidada\n",
    "           * Paravitrualización KMV\n",
    "       * Disco Duro: SSD 256 GB (emulado) / 233.3GB libres\n",
    "   * **Equipo Principal (Host)**\n",
    "       * SO: Windows\n",
    "       * RAM: 16 GB DDR4 SDRAM\n",
    "       * Procesador: Core i7-9750 HF @ 2.60 GHz\n",
    "       * Discos Duros:\n",
    "           * HDD 1TB\n",
    "           * SSD 512 GB M.2 2280 PCIe 3.0 x4 - NVM Express (NVMe) (Virtual Box esta instalado aquí)\n",
    "</br>\n",
    "\n",
    "**La maquina virtual se ejecuta desde una memoria USB conectado a un hub USB-C con tasa de transmision de hasta 5120Mbps  (según el fabricante), y el USB es una memoria de 256 GB Kingston con tasa de transferencia de hasta 150 MBps**\n",
    "       "
   ]
  },
  {
   "cell_type": "markdown",
   "id": "b9a1b8d8",
   "metadata": {},
   "source": [
    "# Importamos las principales dependencias:"
   ]
  },
  {
   "cell_type": "code",
   "execution_count": 2,
   "id": "ce54fd2e",
   "metadata": {},
   "outputs": [],
   "source": [
    "import pandas as pd\n",
    "#! pip install dask instalamos dask\n",
    "import dask.dataframe as ddf \n",
    "#! pip install vaex instalamos vaex\n",
    "import vaex"
   ]
  },
  {
   "cell_type": "markdown",
   "id": "f56132a6",
   "metadata": {},
   "source": [
    "## Pandas"
   ]
  },
  {
   "cell_type": "code",
   "execution_count": 3,
   "id": "7d6da38e",
   "metadata": {
    "scrolled": true
   },
   "outputs": [
    {
     "name": "stdout",
     "output_type": "stream",
     "text": [
      "CPU times: user 9.51 s, sys: 1.64 s, total: 11.2 s\n",
      "Wall time: 17.5 s\n"
     ]
    },
    {
     "data": {
      "text/html": [
       "<div>\n",
       "<style scoped>\n",
       "    .dataframe tbody tr th:only-of-type {\n",
       "        vertical-align: middle;\n",
       "    }\n",
       "\n",
       "    .dataframe tbody tr th {\n",
       "        vertical-align: top;\n",
       "    }\n",
       "\n",
       "    .dataframe thead th {\n",
       "        text-align: right;\n",
       "    }\n",
       "</style>\n",
       "<table border=\"1\" class=\"dataframe\">\n",
       "  <thead>\n",
       "    <tr style=\"text-align: right;\">\n",
       "      <th></th>\n",
       "      <th>VendorID</th>\n",
       "      <th>tpep_pickup_datetime</th>\n",
       "      <th>tpep_dropoff_datetime</th>\n",
       "      <th>passenger_count</th>\n",
       "      <th>trip_distance</th>\n",
       "      <th>RatecodeID</th>\n",
       "      <th>store_and_fwd_flag</th>\n",
       "      <th>PULocationID</th>\n",
       "      <th>DOLocationID</th>\n",
       "      <th>payment_type</th>\n",
       "      <th>fare_amount</th>\n",
       "      <th>extra</th>\n",
       "      <th>mta_tax</th>\n",
       "      <th>tip_amount</th>\n",
       "      <th>tolls_amount</th>\n",
       "      <th>improvement_surcharge</th>\n",
       "      <th>total_amount</th>\n",
       "    </tr>\n",
       "  </thead>\n",
       "  <tbody>\n",
       "    <tr>\n",
       "      <th>0</th>\n",
       "      <td>1</td>\n",
       "      <td>2018-01-01 00:21:05</td>\n",
       "      <td>2018-01-01 00:24:23</td>\n",
       "      <td>1</td>\n",
       "      <td>0.5</td>\n",
       "      <td>1</td>\n",
       "      <td>N</td>\n",
       "      <td>41</td>\n",
       "      <td>24</td>\n",
       "      <td>2</td>\n",
       "      <td>4.5</td>\n",
       "      <td>0.5</td>\n",
       "      <td>0.5</td>\n",
       "      <td>0.00</td>\n",
       "      <td>0.0</td>\n",
       "      <td>0.3</td>\n",
       "      <td>5.80</td>\n",
       "    </tr>\n",
       "    <tr>\n",
       "      <th>1</th>\n",
       "      <td>1</td>\n",
       "      <td>2018-01-01 00:44:55</td>\n",
       "      <td>2018-01-01 01:03:05</td>\n",
       "      <td>1</td>\n",
       "      <td>2.7</td>\n",
       "      <td>1</td>\n",
       "      <td>N</td>\n",
       "      <td>239</td>\n",
       "      <td>140</td>\n",
       "      <td>2</td>\n",
       "      <td>14.0</td>\n",
       "      <td>0.5</td>\n",
       "      <td>0.5</td>\n",
       "      <td>0.00</td>\n",
       "      <td>0.0</td>\n",
       "      <td>0.3</td>\n",
       "      <td>15.30</td>\n",
       "    </tr>\n",
       "    <tr>\n",
       "      <th>2</th>\n",
       "      <td>1</td>\n",
       "      <td>2018-01-01 00:08:26</td>\n",
       "      <td>2018-01-01 00:14:21</td>\n",
       "      <td>2</td>\n",
       "      <td>0.8</td>\n",
       "      <td>1</td>\n",
       "      <td>N</td>\n",
       "      <td>262</td>\n",
       "      <td>141</td>\n",
       "      <td>1</td>\n",
       "      <td>6.0</td>\n",
       "      <td>0.5</td>\n",
       "      <td>0.5</td>\n",
       "      <td>1.00</td>\n",
       "      <td>0.0</td>\n",
       "      <td>0.3</td>\n",
       "      <td>8.30</td>\n",
       "    </tr>\n",
       "    <tr>\n",
       "      <th>3</th>\n",
       "      <td>1</td>\n",
       "      <td>2018-01-01 00:20:22</td>\n",
       "      <td>2018-01-01 00:52:51</td>\n",
       "      <td>1</td>\n",
       "      <td>10.2</td>\n",
       "      <td>1</td>\n",
       "      <td>N</td>\n",
       "      <td>140</td>\n",
       "      <td>257</td>\n",
       "      <td>2</td>\n",
       "      <td>33.5</td>\n",
       "      <td>0.5</td>\n",
       "      <td>0.5</td>\n",
       "      <td>0.00</td>\n",
       "      <td>0.0</td>\n",
       "      <td>0.3</td>\n",
       "      <td>34.80</td>\n",
       "    </tr>\n",
       "    <tr>\n",
       "      <th>4</th>\n",
       "      <td>1</td>\n",
       "      <td>2018-01-01 00:09:18</td>\n",
       "      <td>2018-01-01 00:27:06</td>\n",
       "      <td>2</td>\n",
       "      <td>2.5</td>\n",
       "      <td>1</td>\n",
       "      <td>N</td>\n",
       "      <td>246</td>\n",
       "      <td>239</td>\n",
       "      <td>1</td>\n",
       "      <td>12.5</td>\n",
       "      <td>0.5</td>\n",
       "      <td>0.5</td>\n",
       "      <td>2.75</td>\n",
       "      <td>0.0</td>\n",
       "      <td>0.3</td>\n",
       "      <td>16.55</td>\n",
       "    </tr>\n",
       "  </tbody>\n",
       "</table>\n",
       "</div>"
      ],
      "text/plain": [
       "   VendorID tpep_pickup_datetime tpep_dropoff_datetime  passenger_count  \\\n",
       "0         1  2018-01-01 00:21:05   2018-01-01 00:24:23                1   \n",
       "1         1  2018-01-01 00:44:55   2018-01-01 01:03:05                1   \n",
       "2         1  2018-01-01 00:08:26   2018-01-01 00:14:21                2   \n",
       "3         1  2018-01-01 00:20:22   2018-01-01 00:52:51                1   \n",
       "4         1  2018-01-01 00:09:18   2018-01-01 00:27:06                2   \n",
       "\n",
       "   trip_distance  RatecodeID store_and_fwd_flag  PULocationID  DOLocationID  \\\n",
       "0            0.5           1                  N            41            24   \n",
       "1            2.7           1                  N           239           140   \n",
       "2            0.8           1                  N           262           141   \n",
       "3           10.2           1                  N           140           257   \n",
       "4            2.5           1                  N           246           239   \n",
       "\n",
       "   payment_type  fare_amount  extra  mta_tax  tip_amount  tolls_amount  \\\n",
       "0             2          4.5    0.5      0.5        0.00           0.0   \n",
       "1             2         14.0    0.5      0.5        0.00           0.0   \n",
       "2             1          6.0    0.5      0.5        1.00           0.0   \n",
       "3             2         33.5    0.5      0.5        0.00           0.0   \n",
       "4             1         12.5    0.5      0.5        2.75           0.0   \n",
       "\n",
       "   improvement_surcharge  total_amount  \n",
       "0                    0.3          5.80  \n",
       "1                    0.3         15.30  \n",
       "2                    0.3          8.30  \n",
       "3                    0.3         34.80  \n",
       "4                    0.3         16.55  "
      ]
     },
     "execution_count": 3,
     "metadata": {},
     "output_type": "execute_result"
    }
   ],
   "source": [
    "%%time\n",
    "df_pandas = pd.read_csv('yellow_tripdata_2018-01.csv')\n",
    "df_pandas.head()"
   ]
  },
  {
   "cell_type": "markdown",
   "id": "fff13d51",
   "metadata": {},
   "source": [
    "**Tiempo de ejecución sin .head(): 13.2 s**</br>**Tiempo de ejecucion con .head(): 17.5 s**"
   ]
  },
  {
   "cell_type": "code",
   "execution_count": 4,
   "id": "3c2e65af",
   "metadata": {},
   "outputs": [
    {
     "name": "stdout",
     "output_type": "stream",
     "text": [
      "CPU times: user 2.32 s, sys: 81.5 ms, total: 2.4 s\n",
      "Wall time: 2.48 s\n"
     ]
    },
    {
     "data": {
      "text/html": [
       "<div>\n",
       "<style scoped>\n",
       "    .dataframe tbody tr th:only-of-type {\n",
       "        vertical-align: middle;\n",
       "    }\n",
       "\n",
       "    .dataframe tbody tr th {\n",
       "        vertical-align: top;\n",
       "    }\n",
       "\n",
       "    .dataframe thead th {\n",
       "        text-align: right;\n",
       "    }\n",
       "</style>\n",
       "<table border=\"1\" class=\"dataframe\">\n",
       "  <thead>\n",
       "    <tr style=\"text-align: right;\">\n",
       "      <th></th>\n",
       "      <th>VendorID</th>\n",
       "      <th>passenger_count</th>\n",
       "      <th>trip_distance</th>\n",
       "      <th>RatecodeID</th>\n",
       "      <th>PULocationID</th>\n",
       "      <th>DOLocationID</th>\n",
       "      <th>payment_type</th>\n",
       "      <th>fare_amount</th>\n",
       "      <th>extra</th>\n",
       "      <th>mta_tax</th>\n",
       "      <th>tip_amount</th>\n",
       "      <th>tolls_amount</th>\n",
       "      <th>improvement_surcharge</th>\n",
       "      <th>total_amount</th>\n",
       "    </tr>\n",
       "  </thead>\n",
       "  <tbody>\n",
       "    <tr>\n",
       "      <th>count</th>\n",
       "      <td>8.759874e+06</td>\n",
       "      <td>8.759874e+06</td>\n",
       "      <td>8.759874e+06</td>\n",
       "      <td>8.759874e+06</td>\n",
       "      <td>8.759874e+06</td>\n",
       "      <td>8.759874e+06</td>\n",
       "      <td>8.759874e+06</td>\n",
       "      <td>8.759874e+06</td>\n",
       "      <td>8.759874e+06</td>\n",
       "      <td>8.759874e+06</td>\n",
       "      <td>8.759874e+06</td>\n",
       "      <td>8.759874e+06</td>\n",
       "      <td>8.759874e+06</td>\n",
       "      <td>8.759874e+06</td>\n",
       "    </tr>\n",
       "    <tr>\n",
       "      <th>mean</th>\n",
       "      <td>1.560940e+00</td>\n",
       "      <td>1.606855e+00</td>\n",
       "      <td>2.804001e+00</td>\n",
       "      <td>1.039545e+00</td>\n",
       "      <td>1.644585e+02</td>\n",
       "      <td>1.627269e+02</td>\n",
       "      <td>1.310611e+00</td>\n",
       "      <td>1.224434e+01</td>\n",
       "      <td>3.246822e-01</td>\n",
       "      <td>4.975067e-01</td>\n",
       "      <td>1.818745e+00</td>\n",
       "      <td>3.026133e-01</td>\n",
       "      <td>2.996306e-01</td>\n",
       "      <td>1.549098e+01</td>\n",
       "    </tr>\n",
       "    <tr>\n",
       "      <th>std</th>\n",
       "      <td>4.962724e-01</td>\n",
       "      <td>1.258464e+00</td>\n",
       "      <td>6.412346e+01</td>\n",
       "      <td>4.450700e-01</td>\n",
       "      <td>6.636021e+01</td>\n",
       "      <td>7.031164e+01</td>\n",
       "      <td>4.817818e-01</td>\n",
       "      <td>1.168321e+01</td>\n",
       "      <td>4.502524e-01</td>\n",
       "      <td>4.333319e-02</td>\n",
       "      <td>2.486341e+00</td>\n",
       "      <td>1.738185e+00</td>\n",
       "      <td>1.442815e-02</td>\n",
       "      <td>1.419540e+01</td>\n",
       "    </tr>\n",
       "    <tr>\n",
       "      <th>min</th>\n",
       "      <td>1.000000e+00</td>\n",
       "      <td>0.000000e+00</td>\n",
       "      <td>0.000000e+00</td>\n",
       "      <td>1.000000e+00</td>\n",
       "      <td>1.000000e+00</td>\n",
       "      <td>1.000000e+00</td>\n",
       "      <td>1.000000e+00</td>\n",
       "      <td>-4.500000e+02</td>\n",
       "      <td>-4.469000e+01</td>\n",
       "      <td>-5.000000e-01</td>\n",
       "      <td>-8.880000e+01</td>\n",
       "      <td>-1.500000e+01</td>\n",
       "      <td>-3.000000e-01</td>\n",
       "      <td>-4.503000e+02</td>\n",
       "    </tr>\n",
       "    <tr>\n",
       "      <th>25%</th>\n",
       "      <td>1.000000e+00</td>\n",
       "      <td>1.000000e+00</td>\n",
       "      <td>9.100000e-01</td>\n",
       "      <td>1.000000e+00</td>\n",
       "      <td>1.160000e+02</td>\n",
       "      <td>1.130000e+02</td>\n",
       "      <td>1.000000e+00</td>\n",
       "      <td>6.000000e+00</td>\n",
       "      <td>0.000000e+00</td>\n",
       "      <td>5.000000e-01</td>\n",
       "      <td>0.000000e+00</td>\n",
       "      <td>0.000000e+00</td>\n",
       "      <td>3.000000e-01</td>\n",
       "      <td>8.300000e+00</td>\n",
       "    </tr>\n",
       "    <tr>\n",
       "      <th>50%</th>\n",
       "      <td>2.000000e+00</td>\n",
       "      <td>1.000000e+00</td>\n",
       "      <td>1.550000e+00</td>\n",
       "      <td>1.000000e+00</td>\n",
       "      <td>1.620000e+02</td>\n",
       "      <td>1.620000e+02</td>\n",
       "      <td>1.000000e+00</td>\n",
       "      <td>9.000000e+00</td>\n",
       "      <td>0.000000e+00</td>\n",
       "      <td>5.000000e-01</td>\n",
       "      <td>1.360000e+00</td>\n",
       "      <td>0.000000e+00</td>\n",
       "      <td>3.000000e-01</td>\n",
       "      <td>1.130000e+01</td>\n",
       "    </tr>\n",
       "    <tr>\n",
       "      <th>75%</th>\n",
       "      <td>2.000000e+00</td>\n",
       "      <td>2.000000e+00</td>\n",
       "      <td>2.840000e+00</td>\n",
       "      <td>1.000000e+00</td>\n",
       "      <td>2.340000e+02</td>\n",
       "      <td>2.340000e+02</td>\n",
       "      <td>2.000000e+00</td>\n",
       "      <td>1.350000e+01</td>\n",
       "      <td>5.000000e-01</td>\n",
       "      <td>5.000000e-01</td>\n",
       "      <td>2.350000e+00</td>\n",
       "      <td>0.000000e+00</td>\n",
       "      <td>3.000000e-01</td>\n",
       "      <td>1.662000e+01</td>\n",
       "    </tr>\n",
       "    <tr>\n",
       "      <th>max</th>\n",
       "      <td>2.000000e+00</td>\n",
       "      <td>9.000000e+00</td>\n",
       "      <td>1.894838e+05</td>\n",
       "      <td>9.900000e+01</td>\n",
       "      <td>2.650000e+02</td>\n",
       "      <td>2.650000e+02</td>\n",
       "      <td>4.000000e+00</td>\n",
       "      <td>8.016000e+03</td>\n",
       "      <td>6.000000e+01</td>\n",
       "      <td>4.549000e+01</td>\n",
       "      <td>4.417100e+02</td>\n",
       "      <td>9.507000e+02</td>\n",
       "      <td>1.000000e+00</td>\n",
       "      <td>8.016800e+03</td>\n",
       "    </tr>\n",
       "  </tbody>\n",
       "</table>\n",
       "</div>"
      ],
      "text/plain": [
       "           VendorID  passenger_count  trip_distance    RatecodeID  \\\n",
       "count  8.759874e+06     8.759874e+06   8.759874e+06  8.759874e+06   \n",
       "mean   1.560940e+00     1.606855e+00   2.804001e+00  1.039545e+00   \n",
       "std    4.962724e-01     1.258464e+00   6.412346e+01  4.450700e-01   \n",
       "min    1.000000e+00     0.000000e+00   0.000000e+00  1.000000e+00   \n",
       "25%    1.000000e+00     1.000000e+00   9.100000e-01  1.000000e+00   \n",
       "50%    2.000000e+00     1.000000e+00   1.550000e+00  1.000000e+00   \n",
       "75%    2.000000e+00     2.000000e+00   2.840000e+00  1.000000e+00   \n",
       "max    2.000000e+00     9.000000e+00   1.894838e+05  9.900000e+01   \n",
       "\n",
       "       PULocationID  DOLocationID  payment_type   fare_amount         extra  \\\n",
       "count  8.759874e+06  8.759874e+06  8.759874e+06  8.759874e+06  8.759874e+06   \n",
       "mean   1.644585e+02  1.627269e+02  1.310611e+00  1.224434e+01  3.246822e-01   \n",
       "std    6.636021e+01  7.031164e+01  4.817818e-01  1.168321e+01  4.502524e-01   \n",
       "min    1.000000e+00  1.000000e+00  1.000000e+00 -4.500000e+02 -4.469000e+01   \n",
       "25%    1.160000e+02  1.130000e+02  1.000000e+00  6.000000e+00  0.000000e+00   \n",
       "50%    1.620000e+02  1.620000e+02  1.000000e+00  9.000000e+00  0.000000e+00   \n",
       "75%    2.340000e+02  2.340000e+02  2.000000e+00  1.350000e+01  5.000000e-01   \n",
       "max    2.650000e+02  2.650000e+02  4.000000e+00  8.016000e+03  6.000000e+01   \n",
       "\n",
       "            mta_tax    tip_amount  tolls_amount  improvement_surcharge  \\\n",
       "count  8.759874e+06  8.759874e+06  8.759874e+06           8.759874e+06   \n",
       "mean   4.975067e-01  1.818745e+00  3.026133e-01           2.996306e-01   \n",
       "std    4.333319e-02  2.486341e+00  1.738185e+00           1.442815e-02   \n",
       "min   -5.000000e-01 -8.880000e+01 -1.500000e+01          -3.000000e-01   \n",
       "25%    5.000000e-01  0.000000e+00  0.000000e+00           3.000000e-01   \n",
       "50%    5.000000e-01  1.360000e+00  0.000000e+00           3.000000e-01   \n",
       "75%    5.000000e-01  2.350000e+00  0.000000e+00           3.000000e-01   \n",
       "max    4.549000e+01  4.417100e+02  9.507000e+02           1.000000e+00   \n",
       "\n",
       "       total_amount  \n",
       "count  8.759874e+06  \n",
       "mean   1.549098e+01  \n",
       "std    1.419540e+01  \n",
       "min   -4.503000e+02  \n",
       "25%    8.300000e+00  \n",
       "50%    1.130000e+01  \n",
       "75%    1.662000e+01  \n",
       "max    8.016800e+03  "
      ]
     },
     "execution_count": 4,
     "metadata": {},
     "output_type": "execute_result"
    }
   ],
   "source": [
    "%%time\n",
    "df_pandas.describe()"
   ]
  },
  {
   "cell_type": "markdown",
   "id": "c887be89",
   "metadata": {},
   "source": [
    "**Tiempo de ejecución: 2.48 s**"
   ]
  },
  {
   "cell_type": "code",
   "execution_count": 5,
   "id": "ab179533",
   "metadata": {},
   "outputs": [
    {
     "name": "stdout",
     "output_type": "stream",
     "text": [
      "CPU times: user 76.6 ms, sys: 477 µs, total: 77.1 ms\n",
      "Wall time: 84.2 ms\n"
     ]
    },
    {
     "data": {
      "text/plain": [
       "6.00      473234\n",
       "5.50      465176\n",
       "6.50      461927\n",
       "7.00      446376\n",
       "5.00      433249\n",
       "           ...  \n",
       "2.52           1\n",
       "27.28          1\n",
       "286.60         1\n",
       "980.06         1\n",
       "30.35          1\n",
       "Name: fare_amount, Length: 1714, dtype: int64"
      ]
     },
     "execution_count": 5,
     "metadata": {},
     "output_type": "execute_result"
    }
   ],
   "source": [
    "%%time\n",
    "df_pandas.fare_amount.value_counts()"
   ]
  },
  {
   "cell_type": "markdown",
   "id": "75483738",
   "metadata": {},
   "source": [
    "**Timepo de ejecucion: 84.2 ms**"
   ]
  },
  {
   "cell_type": "code",
   "execution_count": 6,
   "id": "3f060411",
   "metadata": {},
   "outputs": [
    {
     "name": "stdout",
     "output_type": "stream",
     "text": [
      "CPU times: user 17 µs, sys: 4 µs, total: 21 µs\n",
      "Wall time: 22.2 µs\n"
     ]
    },
    {
     "data": {
      "text/plain": [
       "(8759874, (8759874, 17))"
      ]
     },
     "execution_count": 6,
     "metadata": {},
     "output_type": "execute_result"
    }
   ],
   "source": [
    "%%time\n",
    "len(df_pandas), df_pandas.shape"
   ]
  },
  {
   "cell_type": "markdown",
   "id": "23752d91",
   "metadata": {},
   "source": [
    "**Timepo de ejecucion: 22.2 µs**"
   ]
  },
  {
   "cell_type": "code",
   "execution_count": 7,
   "id": "79ee315a",
   "metadata": {},
   "outputs": [
    {
     "name": "stdout",
     "output_type": "stream",
     "text": [
      "CPU times: user 116 µs, sys: 27 µs, total: 143 µs\n",
      "Wall time: 148 µs\n"
     ]
    },
    {
     "data": {
      "text/html": [
       "<div>\n",
       "<style scoped>\n",
       "    .dataframe tbody tr th:only-of-type {\n",
       "        vertical-align: middle;\n",
       "    }\n",
       "\n",
       "    .dataframe tbody tr th {\n",
       "        vertical-align: top;\n",
       "    }\n",
       "\n",
       "    .dataframe thead th {\n",
       "        text-align: right;\n",
       "    }\n",
       "</style>\n",
       "<table border=\"1\" class=\"dataframe\">\n",
       "  <thead>\n",
       "    <tr style=\"text-align: right;\">\n",
       "      <th></th>\n",
       "      <th>VendorID</th>\n",
       "      <th>tpep_pickup_datetime</th>\n",
       "      <th>tpep_dropoff_datetime</th>\n",
       "      <th>passenger_count</th>\n",
       "      <th>trip_distance</th>\n",
       "      <th>RatecodeID</th>\n",
       "      <th>store_and_fwd_flag</th>\n",
       "      <th>PULocationID</th>\n",
       "      <th>DOLocationID</th>\n",
       "      <th>payment_type</th>\n",
       "      <th>fare_amount</th>\n",
       "      <th>extra</th>\n",
       "      <th>mta_tax</th>\n",
       "      <th>tip_amount</th>\n",
       "      <th>tolls_amount</th>\n",
       "      <th>improvement_surcharge</th>\n",
       "      <th>total_amount</th>\n",
       "    </tr>\n",
       "  </thead>\n",
       "  <tbody>\n",
       "    <tr>\n",
       "      <th>8759869</th>\n",
       "      <td>1</td>\n",
       "      <td>2018-01-31 23:21:35</td>\n",
       "      <td>2018-01-31 23:34:20</td>\n",
       "      <td>2</td>\n",
       "      <td>2.80</td>\n",
       "      <td>1</td>\n",
       "      <td>N</td>\n",
       "      <td>158</td>\n",
       "      <td>163</td>\n",
       "      <td>1</td>\n",
       "      <td>12.0</td>\n",
       "      <td>0.5</td>\n",
       "      <td>0.5</td>\n",
       "      <td>2.65</td>\n",
       "      <td>0.0</td>\n",
       "      <td>0.3</td>\n",
       "      <td>15.95</td>\n",
       "    </tr>\n",
       "    <tr>\n",
       "      <th>8759870</th>\n",
       "      <td>1</td>\n",
       "      <td>2018-01-31 23:35:51</td>\n",
       "      <td>2018-01-31 23:38:57</td>\n",
       "      <td>1</td>\n",
       "      <td>0.60</td>\n",
       "      <td>1</td>\n",
       "      <td>N</td>\n",
       "      <td>163</td>\n",
       "      <td>162</td>\n",
       "      <td>1</td>\n",
       "      <td>4.5</td>\n",
       "      <td>0.5</td>\n",
       "      <td>0.5</td>\n",
       "      <td>1.15</td>\n",
       "      <td>0.0</td>\n",
       "      <td>0.3</td>\n",
       "      <td>6.95</td>\n",
       "    </tr>\n",
       "    <tr>\n",
       "      <th>8759871</th>\n",
       "      <td>2</td>\n",
       "      <td>2018-01-31 23:28:00</td>\n",
       "      <td>2018-01-31 23:37:09</td>\n",
       "      <td>1</td>\n",
       "      <td>2.95</td>\n",
       "      <td>1</td>\n",
       "      <td>N</td>\n",
       "      <td>74</td>\n",
       "      <td>69</td>\n",
       "      <td>2</td>\n",
       "      <td>10.5</td>\n",
       "      <td>0.5</td>\n",
       "      <td>0.5</td>\n",
       "      <td>0.00</td>\n",
       "      <td>0.0</td>\n",
       "      <td>0.3</td>\n",
       "      <td>11.80</td>\n",
       "    </tr>\n",
       "    <tr>\n",
       "      <th>8759872</th>\n",
       "      <td>2</td>\n",
       "      <td>2018-01-31 23:24:40</td>\n",
       "      <td>2018-01-31 23:25:28</td>\n",
       "      <td>1</td>\n",
       "      <td>0.00</td>\n",
       "      <td>1</td>\n",
       "      <td>N</td>\n",
       "      <td>7</td>\n",
       "      <td>193</td>\n",
       "      <td>2</td>\n",
       "      <td>0.0</td>\n",
       "      <td>0.0</td>\n",
       "      <td>0.0</td>\n",
       "      <td>0.00</td>\n",
       "      <td>0.0</td>\n",
       "      <td>0.0</td>\n",
       "      <td>0.00</td>\n",
       "    </tr>\n",
       "    <tr>\n",
       "      <th>8759873</th>\n",
       "      <td>2</td>\n",
       "      <td>2018-01-31 23:28:16</td>\n",
       "      <td>2018-01-31 23:28:38</td>\n",
       "      <td>1</td>\n",
       "      <td>0.00</td>\n",
       "      <td>1</td>\n",
       "      <td>N</td>\n",
       "      <td>7</td>\n",
       "      <td>193</td>\n",
       "      <td>2</td>\n",
       "      <td>0.0</td>\n",
       "      <td>0.0</td>\n",
       "      <td>0.0</td>\n",
       "      <td>0.00</td>\n",
       "      <td>0.0</td>\n",
       "      <td>0.0</td>\n",
       "      <td>0.00</td>\n",
       "    </tr>\n",
       "  </tbody>\n",
       "</table>\n",
       "</div>"
      ],
      "text/plain": [
       "         VendorID tpep_pickup_datetime tpep_dropoff_datetime  passenger_count  \\\n",
       "8759869         1  2018-01-31 23:21:35   2018-01-31 23:34:20                2   \n",
       "8759870         1  2018-01-31 23:35:51   2018-01-31 23:38:57                1   \n",
       "8759871         2  2018-01-31 23:28:00   2018-01-31 23:37:09                1   \n",
       "8759872         2  2018-01-31 23:24:40   2018-01-31 23:25:28                1   \n",
       "8759873         2  2018-01-31 23:28:16   2018-01-31 23:28:38                1   \n",
       "\n",
       "         trip_distance  RatecodeID store_and_fwd_flag  PULocationID  \\\n",
       "8759869           2.80           1                  N           158   \n",
       "8759870           0.60           1                  N           163   \n",
       "8759871           2.95           1                  N            74   \n",
       "8759872           0.00           1                  N             7   \n",
       "8759873           0.00           1                  N             7   \n",
       "\n",
       "         DOLocationID  payment_type  fare_amount  extra  mta_tax  tip_amount  \\\n",
       "8759869           163             1         12.0    0.5      0.5        2.65   \n",
       "8759870           162             1          4.5    0.5      0.5        1.15   \n",
       "8759871            69             2         10.5    0.5      0.5        0.00   \n",
       "8759872           193             2          0.0    0.0      0.0        0.00   \n",
       "8759873           193             2          0.0    0.0      0.0        0.00   \n",
       "\n",
       "         tolls_amount  improvement_surcharge  total_amount  \n",
       "8759869           0.0                    0.3         15.95  \n",
       "8759870           0.0                    0.3          6.95  \n",
       "8759871           0.0                    0.3         11.80  \n",
       "8759872           0.0                    0.0          0.00  \n",
       "8759873           0.0                    0.0          0.00  "
      ]
     },
     "execution_count": 7,
     "metadata": {},
     "output_type": "execute_result"
    }
   ],
   "source": [
    "%%time\n",
    "df_pandas.tail()"
   ]
  },
  {
   "cell_type": "markdown",
   "id": "86c7c430",
   "metadata": {},
   "source": [
    "**Timepo de ejecucion: 148 µs**"
   ]
  },
  {
   "cell_type": "markdown",
   "id": "35f561c6",
   "metadata": {},
   "source": [
    "## Dask"
   ]
  },
  {
   "cell_type": "code",
   "execution_count": 11,
   "id": "4365bcb7",
   "metadata": {},
   "outputs": [
    {
     "name": "stdout",
     "output_type": "stream",
     "text": [
      "CPU times: user 434 ms, sys: 71.4 ms, total: 505 ms\n",
      "Wall time: 858 ms\n"
     ]
    },
    {
     "data": {
      "text/html": [
       "<div>\n",
       "<style scoped>\n",
       "    .dataframe tbody tr th:only-of-type {\n",
       "        vertical-align: middle;\n",
       "    }\n",
       "\n",
       "    .dataframe tbody tr th {\n",
       "        vertical-align: top;\n",
       "    }\n",
       "\n",
       "    .dataframe thead th {\n",
       "        text-align: right;\n",
       "    }\n",
       "</style>\n",
       "<table border=\"1\" class=\"dataframe\">\n",
       "  <thead>\n",
       "    <tr style=\"text-align: right;\">\n",
       "      <th></th>\n",
       "      <th>VendorID</th>\n",
       "      <th>tpep_pickup_datetime</th>\n",
       "      <th>tpep_dropoff_datetime</th>\n",
       "      <th>passenger_count</th>\n",
       "      <th>trip_distance</th>\n",
       "      <th>RatecodeID</th>\n",
       "      <th>store_and_fwd_flag</th>\n",
       "      <th>PULocationID</th>\n",
       "      <th>DOLocationID</th>\n",
       "      <th>payment_type</th>\n",
       "      <th>fare_amount</th>\n",
       "      <th>extra</th>\n",
       "      <th>mta_tax</th>\n",
       "      <th>tip_amount</th>\n",
       "      <th>tolls_amount</th>\n",
       "      <th>improvement_surcharge</th>\n",
       "      <th>total_amount</th>\n",
       "    </tr>\n",
       "  </thead>\n",
       "  <tbody>\n",
       "    <tr>\n",
       "      <th>0</th>\n",
       "      <td>1.0</td>\n",
       "      <td>2018-01-01 00:21:05</td>\n",
       "      <td>2018-01-01 00:24:23</td>\n",
       "      <td>1.0</td>\n",
       "      <td>0.5</td>\n",
       "      <td>1.0</td>\n",
       "      <td>N</td>\n",
       "      <td>41.0</td>\n",
       "      <td>24.0</td>\n",
       "      <td>2.0</td>\n",
       "      <td>4.5</td>\n",
       "      <td>0.5</td>\n",
       "      <td>0.5</td>\n",
       "      <td>0.00</td>\n",
       "      <td>0.0</td>\n",
       "      <td>0.3</td>\n",
       "      <td>5.80</td>\n",
       "    </tr>\n",
       "    <tr>\n",
       "      <th>1</th>\n",
       "      <td>1.0</td>\n",
       "      <td>2018-01-01 00:44:55</td>\n",
       "      <td>2018-01-01 01:03:05</td>\n",
       "      <td>1.0</td>\n",
       "      <td>2.7</td>\n",
       "      <td>1.0</td>\n",
       "      <td>N</td>\n",
       "      <td>239.0</td>\n",
       "      <td>140.0</td>\n",
       "      <td>2.0</td>\n",
       "      <td>14.0</td>\n",
       "      <td>0.5</td>\n",
       "      <td>0.5</td>\n",
       "      <td>0.00</td>\n",
       "      <td>0.0</td>\n",
       "      <td>0.3</td>\n",
       "      <td>15.30</td>\n",
       "    </tr>\n",
       "    <tr>\n",
       "      <th>2</th>\n",
       "      <td>1.0</td>\n",
       "      <td>2018-01-01 00:08:26</td>\n",
       "      <td>2018-01-01 00:14:21</td>\n",
       "      <td>2.0</td>\n",
       "      <td>0.8</td>\n",
       "      <td>1.0</td>\n",
       "      <td>N</td>\n",
       "      <td>262.0</td>\n",
       "      <td>141.0</td>\n",
       "      <td>1.0</td>\n",
       "      <td>6.0</td>\n",
       "      <td>0.5</td>\n",
       "      <td>0.5</td>\n",
       "      <td>1.00</td>\n",
       "      <td>0.0</td>\n",
       "      <td>0.3</td>\n",
       "      <td>8.30</td>\n",
       "    </tr>\n",
       "    <tr>\n",
       "      <th>3</th>\n",
       "      <td>1.0</td>\n",
       "      <td>2018-01-01 00:20:22</td>\n",
       "      <td>2018-01-01 00:52:51</td>\n",
       "      <td>1.0</td>\n",
       "      <td>10.2</td>\n",
       "      <td>1.0</td>\n",
       "      <td>N</td>\n",
       "      <td>140.0</td>\n",
       "      <td>257.0</td>\n",
       "      <td>2.0</td>\n",
       "      <td>33.5</td>\n",
       "      <td>0.5</td>\n",
       "      <td>0.5</td>\n",
       "      <td>0.00</td>\n",
       "      <td>0.0</td>\n",
       "      <td>0.3</td>\n",
       "      <td>34.80</td>\n",
       "    </tr>\n",
       "    <tr>\n",
       "      <th>4</th>\n",
       "      <td>1.0</td>\n",
       "      <td>2018-01-01 00:09:18</td>\n",
       "      <td>2018-01-01 00:27:06</td>\n",
       "      <td>2.0</td>\n",
       "      <td>2.5</td>\n",
       "      <td>1.0</td>\n",
       "      <td>N</td>\n",
       "      <td>246.0</td>\n",
       "      <td>239.0</td>\n",
       "      <td>1.0</td>\n",
       "      <td>12.5</td>\n",
       "      <td>0.5</td>\n",
       "      <td>0.5</td>\n",
       "      <td>2.75</td>\n",
       "      <td>0.0</td>\n",
       "      <td>0.3</td>\n",
       "      <td>16.55</td>\n",
       "    </tr>\n",
       "  </tbody>\n",
       "</table>\n",
       "</div>"
      ],
      "text/plain": [
       "   VendorID tpep_pickup_datetime tpep_dropoff_datetime  passenger_count  \\\n",
       "0       1.0  2018-01-01 00:21:05   2018-01-01 00:24:23              1.0   \n",
       "1       1.0  2018-01-01 00:44:55   2018-01-01 01:03:05              1.0   \n",
       "2       1.0  2018-01-01 00:08:26   2018-01-01 00:14:21              2.0   \n",
       "3       1.0  2018-01-01 00:20:22   2018-01-01 00:52:51              1.0   \n",
       "4       1.0  2018-01-01 00:09:18   2018-01-01 00:27:06              2.0   \n",
       "\n",
       "   trip_distance  RatecodeID store_and_fwd_flag  PULocationID  DOLocationID  \\\n",
       "0            0.5         1.0                  N          41.0          24.0   \n",
       "1            2.7         1.0                  N         239.0         140.0   \n",
       "2            0.8         1.0                  N         262.0         141.0   \n",
       "3           10.2         1.0                  N         140.0         257.0   \n",
       "4            2.5         1.0                  N         246.0         239.0   \n",
       "\n",
       "   payment_type  fare_amount  extra  mta_tax  tip_amount  tolls_amount  \\\n",
       "0           2.0          4.5    0.5      0.5        0.00           0.0   \n",
       "1           2.0         14.0    0.5      0.5        0.00           0.0   \n",
       "2           1.0          6.0    0.5      0.5        1.00           0.0   \n",
       "3           2.0         33.5    0.5      0.5        0.00           0.0   \n",
       "4           1.0         12.5    0.5      0.5        2.75           0.0   \n",
       "\n",
       "   improvement_surcharge  total_amount  \n",
       "0                    0.3          5.80  \n",
       "1                    0.3         15.30  \n",
       "2                    0.3          8.30  \n",
       "3                    0.3         34.80  \n",
       "4                    0.3         16.55  "
      ]
     },
     "execution_count": 11,
     "metadata": {},
     "output_type": "execute_result"
    }
   ],
   "source": [
    "%%time\n",
    "df_dask = ddf.read_csv('yellow_tripdata_2018-01.csv', assume_missing=True)\n",
    "df_dask.head()"
   ]
  },
  {
   "cell_type": "markdown",
   "id": "5afb6b43",
   "metadata": {},
   "source": [
    "**Timepo de ejecución sin .head(): 12.7 ms** </br> **Timepo de ejecución con .head(): 858 ms**"
   ]
  },
  {
   "cell_type": "code",
   "execution_count": 12,
   "id": "d11992a5",
   "metadata": {},
   "outputs": [
    {
     "name": "stdout",
     "output_type": "stream",
     "text": [
      "CPU times: user 88.8 ms, sys: 7.08 ms, total: 95.9 ms\n",
      "Wall time: 165 ms\n"
     ]
    },
    {
     "data": {
      "text/html": [
       "<div><strong>Dask DataFrame Structure:</strong></div>\n",
       "<div>\n",
       "<style scoped>\n",
       "    .dataframe tbody tr th:only-of-type {\n",
       "        vertical-align: middle;\n",
       "    }\n",
       "\n",
       "    .dataframe tbody tr th {\n",
       "        vertical-align: top;\n",
       "    }\n",
       "\n",
       "    .dataframe thead th {\n",
       "        text-align: right;\n",
       "    }\n",
       "</style>\n",
       "<table border=\"1\" class=\"dataframe\">\n",
       "  <thead>\n",
       "    <tr style=\"text-align: right;\">\n",
       "      <th></th>\n",
       "      <th>VendorID</th>\n",
       "      <th>passenger_count</th>\n",
       "      <th>trip_distance</th>\n",
       "      <th>RatecodeID</th>\n",
       "      <th>PULocationID</th>\n",
       "      <th>DOLocationID</th>\n",
       "      <th>payment_type</th>\n",
       "      <th>fare_amount</th>\n",
       "      <th>extra</th>\n",
       "      <th>mta_tax</th>\n",
       "      <th>tip_amount</th>\n",
       "      <th>tolls_amount</th>\n",
       "      <th>improvement_surcharge</th>\n",
       "      <th>total_amount</th>\n",
       "    </tr>\n",
       "    <tr>\n",
       "      <th>npartitions=1</th>\n",
       "      <th></th>\n",
       "      <th></th>\n",
       "      <th></th>\n",
       "      <th></th>\n",
       "      <th></th>\n",
       "      <th></th>\n",
       "      <th></th>\n",
       "      <th></th>\n",
       "      <th></th>\n",
       "      <th></th>\n",
       "      <th></th>\n",
       "      <th></th>\n",
       "      <th></th>\n",
       "      <th></th>\n",
       "    </tr>\n",
       "  </thead>\n",
       "  <tbody>\n",
       "    <tr>\n",
       "      <th></th>\n",
       "      <td>float64</td>\n",
       "      <td>float64</td>\n",
       "      <td>float64</td>\n",
       "      <td>float64</td>\n",
       "      <td>float64</td>\n",
       "      <td>float64</td>\n",
       "      <td>float64</td>\n",
       "      <td>float64</td>\n",
       "      <td>float64</td>\n",
       "      <td>float64</td>\n",
       "      <td>float64</td>\n",
       "      <td>float64</td>\n",
       "      <td>float64</td>\n",
       "      <td>float64</td>\n",
       "    </tr>\n",
       "    <tr>\n",
       "      <th></th>\n",
       "      <td>...</td>\n",
       "      <td>...</td>\n",
       "      <td>...</td>\n",
       "      <td>...</td>\n",
       "      <td>...</td>\n",
       "      <td>...</td>\n",
       "      <td>...</td>\n",
       "      <td>...</td>\n",
       "      <td>...</td>\n",
       "      <td>...</td>\n",
       "      <td>...</td>\n",
       "      <td>...</td>\n",
       "      <td>...</td>\n",
       "      <td>...</td>\n",
       "    </tr>\n",
       "  </tbody>\n",
       "</table>\n",
       "</div>\n",
       "<div>Dask Name: describe-numeric, 1256 tasks</div>"
      ],
      "text/plain": [
       "Dask DataFrame Structure:\n",
       "              VendorID passenger_count trip_distance RatecodeID PULocationID DOLocationID payment_type fare_amount    extra  mta_tax tip_amount tolls_amount improvement_surcharge total_amount\n",
       "npartitions=1                                                                                                                                                                                  \n",
       "               float64         float64       float64    float64      float64      float64      float64     float64  float64  float64    float64      float64               float64      float64\n",
       "                   ...             ...           ...        ...          ...          ...          ...         ...      ...      ...        ...          ...                   ...          ...\n",
       "Dask Name: describe-numeric, 1256 tasks"
      ]
     },
     "execution_count": 12,
     "metadata": {},
     "output_type": "execute_result"
    }
   ],
   "source": [
    "%%time\n",
    "df_dask.describe()"
   ]
  },
  {
   "cell_type": "markdown",
   "id": "242c6140",
   "metadata": {},
   "source": [
    "**Tiempo de ejecucion: 165 ms**"
   ]
  },
  {
   "cell_type": "code",
   "execution_count": 13,
   "id": "2330413e",
   "metadata": {},
   "outputs": [
    {
     "name": "stdout",
     "output_type": "stream",
     "text": [
      "CPU times: user 19.4 s, sys: 1.7 s, total: 21.1 s\n",
      "Wall time: 13.3 s\n"
     ]
    },
    {
     "data": {
      "text/html": [
       "<div>\n",
       "<style scoped>\n",
       "    .dataframe tbody tr th:only-of-type {\n",
       "        vertical-align: middle;\n",
       "    }\n",
       "\n",
       "    .dataframe tbody tr th {\n",
       "        vertical-align: top;\n",
       "    }\n",
       "\n",
       "    .dataframe thead th {\n",
       "        text-align: right;\n",
       "    }\n",
       "</style>\n",
       "<table border=\"1\" class=\"dataframe\">\n",
       "  <thead>\n",
       "    <tr style=\"text-align: right;\">\n",
       "      <th></th>\n",
       "      <th>VendorID</th>\n",
       "      <th>passenger_count</th>\n",
       "      <th>trip_distance</th>\n",
       "      <th>RatecodeID</th>\n",
       "      <th>PULocationID</th>\n",
       "      <th>DOLocationID</th>\n",
       "      <th>payment_type</th>\n",
       "      <th>fare_amount</th>\n",
       "      <th>extra</th>\n",
       "      <th>mta_tax</th>\n",
       "      <th>tip_amount</th>\n",
       "      <th>tolls_amount</th>\n",
       "      <th>improvement_surcharge</th>\n",
       "      <th>total_amount</th>\n",
       "    </tr>\n",
       "  </thead>\n",
       "  <tbody>\n",
       "    <tr>\n",
       "      <th>count</th>\n",
       "      <td>8.759874e+06</td>\n",
       "      <td>8.759874e+06</td>\n",
       "      <td>8.759874e+06</td>\n",
       "      <td>8.759874e+06</td>\n",
       "      <td>8.759874e+06</td>\n",
       "      <td>8.759874e+06</td>\n",
       "      <td>8.759874e+06</td>\n",
       "      <td>8.759874e+06</td>\n",
       "      <td>8.759874e+06</td>\n",
       "      <td>8.759874e+06</td>\n",
       "      <td>8.759874e+06</td>\n",
       "      <td>8.759874e+06</td>\n",
       "      <td>8.759874e+06</td>\n",
       "      <td>8.759874e+06</td>\n",
       "    </tr>\n",
       "    <tr>\n",
       "      <th>mean</th>\n",
       "      <td>1.560940e+00</td>\n",
       "      <td>1.606855e+00</td>\n",
       "      <td>2.804001e+00</td>\n",
       "      <td>1.039545e+00</td>\n",
       "      <td>1.644585e+02</td>\n",
       "      <td>1.627269e+02</td>\n",
       "      <td>1.310611e+00</td>\n",
       "      <td>1.224434e+01</td>\n",
       "      <td>3.246822e-01</td>\n",
       "      <td>4.975067e-01</td>\n",
       "      <td>1.818745e+00</td>\n",
       "      <td>3.026133e-01</td>\n",
       "      <td>2.996306e-01</td>\n",
       "      <td>1.549098e+01</td>\n",
       "    </tr>\n",
       "    <tr>\n",
       "      <th>std</th>\n",
       "      <td>4.962724e-01</td>\n",
       "      <td>1.258464e+00</td>\n",
       "      <td>6.412346e+01</td>\n",
       "      <td>4.450700e-01</td>\n",
       "      <td>6.636021e+01</td>\n",
       "      <td>7.031164e+01</td>\n",
       "      <td>4.817818e-01</td>\n",
       "      <td>1.168321e+01</td>\n",
       "      <td>4.502524e-01</td>\n",
       "      <td>4.333319e-02</td>\n",
       "      <td>2.486341e+00</td>\n",
       "      <td>1.738185e+00</td>\n",
       "      <td>1.442815e-02</td>\n",
       "      <td>1.419540e+01</td>\n",
       "    </tr>\n",
       "    <tr>\n",
       "      <th>min</th>\n",
       "      <td>1.000000e+00</td>\n",
       "      <td>0.000000e+00</td>\n",
       "      <td>0.000000e+00</td>\n",
       "      <td>1.000000e+00</td>\n",
       "      <td>1.000000e+00</td>\n",
       "      <td>1.000000e+00</td>\n",
       "      <td>1.000000e+00</td>\n",
       "      <td>-4.500000e+02</td>\n",
       "      <td>-4.469000e+01</td>\n",
       "      <td>-5.000000e-01</td>\n",
       "      <td>-8.880000e+01</td>\n",
       "      <td>-1.500000e+01</td>\n",
       "      <td>-3.000000e-01</td>\n",
       "      <td>-4.503000e+02</td>\n",
       "    </tr>\n",
       "    <tr>\n",
       "      <th>25%</th>\n",
       "      <td>1.000000e+00</td>\n",
       "      <td>1.000000e+00</td>\n",
       "      <td>1.162500e+00</td>\n",
       "      <td>1.000000e+00</td>\n",
       "      <td>1.320000e+02</td>\n",
       "      <td>1.160000e+02</td>\n",
       "      <td>1.000000e+00</td>\n",
       "      <td>6.500000e+00</td>\n",
       "      <td>0.000000e+00</td>\n",
       "      <td>5.000000e-01</td>\n",
       "      <td>0.000000e+00</td>\n",
       "      <td>0.000000e+00</td>\n",
       "      <td>3.000000e-01</td>\n",
       "      <td>8.800000e+00</td>\n",
       "    </tr>\n",
       "    <tr>\n",
       "      <th>50%</th>\n",
       "      <td>2.000000e+00</td>\n",
       "      <td>1.000000e+00</td>\n",
       "      <td>2.100000e+00</td>\n",
       "      <td>1.000000e+00</td>\n",
       "      <td>1.620000e+02</td>\n",
       "      <td>1.630000e+02</td>\n",
       "      <td>1.000000e+00</td>\n",
       "      <td>1.000000e+01</td>\n",
       "      <td>5.000000e-01</td>\n",
       "      <td>5.000000e-01</td>\n",
       "      <td>1.700000e+00</td>\n",
       "      <td>0.000000e+00</td>\n",
       "      <td>3.000000e-01</td>\n",
       "      <td>1.280000e+01</td>\n",
       "    </tr>\n",
       "    <tr>\n",
       "      <th>75%</th>\n",
       "      <td>2.000000e+00</td>\n",
       "      <td>2.000000e+00</td>\n",
       "      <td>4.000000e+00</td>\n",
       "      <td>1.000000e+00</td>\n",
       "      <td>2.340000e+02</td>\n",
       "      <td>2.340000e+02</td>\n",
       "      <td>2.000000e+00</td>\n",
       "      <td>1.550000e+01</td>\n",
       "      <td>1.000000e+00</td>\n",
       "      <td>5.000000e-01</td>\n",
       "      <td>2.960000e+00</td>\n",
       "      <td>0.000000e+00</td>\n",
       "      <td>3.000000e-01</td>\n",
       "      <td>1.930000e+01</td>\n",
       "    </tr>\n",
       "    <tr>\n",
       "      <th>max</th>\n",
       "      <td>2.000000e+00</td>\n",
       "      <td>9.000000e+00</td>\n",
       "      <td>1.894838e+05</td>\n",
       "      <td>9.900000e+01</td>\n",
       "      <td>2.650000e+02</td>\n",
       "      <td>2.650000e+02</td>\n",
       "      <td>4.000000e+00</td>\n",
       "      <td>8.016000e+03</td>\n",
       "      <td>6.000000e+01</td>\n",
       "      <td>4.549000e+01</td>\n",
       "      <td>4.417100e+02</td>\n",
       "      <td>9.507000e+02</td>\n",
       "      <td>1.000000e+00</td>\n",
       "      <td>8.016800e+03</td>\n",
       "    </tr>\n",
       "  </tbody>\n",
       "</table>\n",
       "</div>"
      ],
      "text/plain": [
       "           VendorID  passenger_count  trip_distance    RatecodeID  \\\n",
       "count  8.759874e+06     8.759874e+06   8.759874e+06  8.759874e+06   \n",
       "mean   1.560940e+00     1.606855e+00   2.804001e+00  1.039545e+00   \n",
       "std    4.962724e-01     1.258464e+00   6.412346e+01  4.450700e-01   \n",
       "min    1.000000e+00     0.000000e+00   0.000000e+00  1.000000e+00   \n",
       "25%    1.000000e+00     1.000000e+00   1.162500e+00  1.000000e+00   \n",
       "50%    2.000000e+00     1.000000e+00   2.100000e+00  1.000000e+00   \n",
       "75%    2.000000e+00     2.000000e+00   4.000000e+00  1.000000e+00   \n",
       "max    2.000000e+00     9.000000e+00   1.894838e+05  9.900000e+01   \n",
       "\n",
       "       PULocationID  DOLocationID  payment_type   fare_amount         extra  \\\n",
       "count  8.759874e+06  8.759874e+06  8.759874e+06  8.759874e+06  8.759874e+06   \n",
       "mean   1.644585e+02  1.627269e+02  1.310611e+00  1.224434e+01  3.246822e-01   \n",
       "std    6.636021e+01  7.031164e+01  4.817818e-01  1.168321e+01  4.502524e-01   \n",
       "min    1.000000e+00  1.000000e+00  1.000000e+00 -4.500000e+02 -4.469000e+01   \n",
       "25%    1.320000e+02  1.160000e+02  1.000000e+00  6.500000e+00  0.000000e+00   \n",
       "50%    1.620000e+02  1.630000e+02  1.000000e+00  1.000000e+01  5.000000e-01   \n",
       "75%    2.340000e+02  2.340000e+02  2.000000e+00  1.550000e+01  1.000000e+00   \n",
       "max    2.650000e+02  2.650000e+02  4.000000e+00  8.016000e+03  6.000000e+01   \n",
       "\n",
       "            mta_tax    tip_amount  tolls_amount  improvement_surcharge  \\\n",
       "count  8.759874e+06  8.759874e+06  8.759874e+06           8.759874e+06   \n",
       "mean   4.975067e-01  1.818745e+00  3.026133e-01           2.996306e-01   \n",
       "std    4.333319e-02  2.486341e+00  1.738185e+00           1.442815e-02   \n",
       "min   -5.000000e-01 -8.880000e+01 -1.500000e+01          -3.000000e-01   \n",
       "25%    5.000000e-01  0.000000e+00  0.000000e+00           3.000000e-01   \n",
       "50%    5.000000e-01  1.700000e+00  0.000000e+00           3.000000e-01   \n",
       "75%    5.000000e-01  2.960000e+00  0.000000e+00           3.000000e-01   \n",
       "max    4.549000e+01  4.417100e+02  9.507000e+02           1.000000e+00   \n",
       "\n",
       "       total_amount  \n",
       "count  8.759874e+06  \n",
       "mean   1.549098e+01  \n",
       "std    1.419540e+01  \n",
       "min   -4.503000e+02  \n",
       "25%    8.800000e+00  \n",
       "50%    1.280000e+01  \n",
       "75%    1.930000e+01  \n",
       "max    8.016800e+03  "
      ]
     },
     "execution_count": 13,
     "metadata": {},
     "output_type": "execute_result"
    }
   ],
   "source": [
    "%%time\n",
    "df_dask.describe().compute()"
   ]
  },
  {
   "cell_type": "markdown",
   "id": "cd1a2d86",
   "metadata": {},
   "source": [
    "**Timepo de ejecucion: 13.3 s**"
   ]
  },
  {
   "cell_type": "code",
   "execution_count": 16,
   "id": "eb85acfa",
   "metadata": {},
   "outputs": [
    {
     "name": "stdout",
     "output_type": "stream",
     "text": [
      "CPU times: user 1.82 ms, sys: 0 ns, total: 1.82 ms\n",
      "Wall time: 1.78 ms\n"
     ]
    },
    {
     "data": {
      "text/plain": [
       "Dask Series Structure:\n",
       "npartitions=1\n",
       "    int64\n",
       "      ...\n",
       "Name: fare_amount, dtype: int64\n",
       "Dask Name: value-counts-agg, 76 tasks"
      ]
     },
     "execution_count": 16,
     "metadata": {},
     "output_type": "execute_result"
    }
   ],
   "source": [
    "%%time\n",
    "df_dask.fare_amount.value_counts()"
   ]
  },
  {
   "cell_type": "markdown",
   "id": "6f24636a",
   "metadata": {},
   "source": [
    "**Timepo de ejecucion: 1.78 ms**"
   ]
  },
  {
   "cell_type": "code",
   "execution_count": 18,
   "id": "2cb65120",
   "metadata": {},
   "outputs": [
    {
     "name": "stdout",
     "output_type": "stream",
     "text": [
      "CPU times: user 12.6 s, sys: 646 ms, total: 13.3 s\n",
      "Wall time: 6.39 s\n"
     ]
    },
    {
     "data": {
      "text/plain": [
       " 6.00      473234\n",
       " 5.50      465176\n",
       " 6.50      461927\n",
       " 7.00      446376\n",
       " 5.00      433249\n",
       "            ...  \n",
       " 70.27          1\n",
       " 70.01          1\n",
       " 69.97          1\n",
       " 69.87          1\n",
       "-450.00         1\n",
       "Name: fare_amount, Length: 1714, dtype: int64"
      ]
     },
     "execution_count": 18,
     "metadata": {},
     "output_type": "execute_result"
    }
   ],
   "source": [
    "%%time\n",
    "df_dask.fare_amount.value_counts().compute()"
   ]
  },
  {
   "cell_type": "markdown",
   "id": "f1c5d90f",
   "metadata": {},
   "source": [
    "**Timepo de ejecucion: 6.39 s**"
   ]
  },
  {
   "cell_type": "markdown",
   "id": "eeaadf56",
   "metadata": {},
   "source": [
    "## VAEX desde CSV\n"
   ]
  },
  {
   "cell_type": "code",
   "execution_count": 20,
   "id": "18d834f5",
   "metadata": {},
   "outputs": [
    {
     "name": "stdout",
     "output_type": "stream",
     "text": [
      "CPU times: user 17.1 s, sys: 4.93 s, total: 22 s\n",
      "Wall time: 21min 33s\n"
     ]
    },
    {
     "data": {
      "text/html": [
       "<table>\n",
       "<thead>\n",
       "<tr><th>#                                    </th><th>VendorID  </th><th>tpep_pickup_datetime  </th><th>tpep_dropoff_datetime  </th><th>passenger_count  </th><th>trip_distance  </th><th>RatecodeID  </th><th>store_and_fwd_flag  </th><th>PULocationID  </th><th>DOLocationID  </th><th>payment_type  </th><th>fare_amount  </th><th>extra  </th><th>mta_tax  </th><th>tip_amount  </th><th>tolls_amount  </th><th>improvement_surcharge  </th><th>total_amount  </th></tr>\n",
       "</thead>\n",
       "<tbody>\n",
       "<tr><td><i style='opacity: 0.6'>0</i>        </td><td>1         </td><td>2018-01-01 00:21:05   </td><td>2018-01-01 00:24:23    </td><td>1                </td><td>0.5            </td><td>1           </td><td>N                   </td><td>41            </td><td>24            </td><td>2             </td><td>4.5          </td><td>0.5    </td><td>0.5      </td><td>0.0         </td><td>0.0           </td><td>0.3                    </td><td>5.8           </td></tr>\n",
       "<tr><td><i style='opacity: 0.6'>1</i>        </td><td>1         </td><td>2018-01-01 00:44:55   </td><td>2018-01-01 01:03:05    </td><td>1                </td><td>2.7            </td><td>1           </td><td>N                   </td><td>239           </td><td>140           </td><td>2             </td><td>14.0         </td><td>0.5    </td><td>0.5      </td><td>0.0         </td><td>0.0           </td><td>0.3                    </td><td>15.3          </td></tr>\n",
       "<tr><td><i style='opacity: 0.6'>2</i>        </td><td>1         </td><td>2018-01-01 00:08:26   </td><td>2018-01-01 00:14:21    </td><td>2                </td><td>0.8            </td><td>1           </td><td>N                   </td><td>262           </td><td>141           </td><td>1             </td><td>6.0          </td><td>0.5    </td><td>0.5      </td><td>1.0         </td><td>0.0           </td><td>0.3                    </td><td>8.3           </td></tr>\n",
       "<tr><td><i style='opacity: 0.6'>3</i>        </td><td>1         </td><td>2018-01-01 00:20:22   </td><td>2018-01-01 00:52:51    </td><td>1                </td><td>10.2           </td><td>1           </td><td>N                   </td><td>140           </td><td>257           </td><td>2             </td><td>33.5         </td><td>0.5    </td><td>0.5      </td><td>0.0         </td><td>0.0           </td><td>0.3                    </td><td>34.8          </td></tr>\n",
       "<tr><td><i style='opacity: 0.6'>4</i>        </td><td>1         </td><td>2018-01-01 00:09:18   </td><td>2018-01-01 00:27:06    </td><td>2                </td><td>2.5            </td><td>1           </td><td>N                   </td><td>246           </td><td>239           </td><td>1             </td><td>12.5         </td><td>0.5    </td><td>0.5      </td><td>2.75        </td><td>0.0           </td><td>0.3                    </td><td>16.55         </td></tr>\n",
       "<tr><td>...                                  </td><td>...       </td><td>...                   </td><td>...                    </td><td>...              </td><td>...            </td><td>...         </td><td>...                 </td><td>...           </td><td>...           </td><td>...           </td><td>...          </td><td>...    </td><td>...      </td><td>...         </td><td>...           </td><td>...                    </td><td>...           </td></tr>\n",
       "<tr><td><i style='opacity: 0.6'>8,759,869</i></td><td>1         </td><td>2018-01-31 23:21:35   </td><td>2018-01-31 23:34:20    </td><td>2                </td><td>2.8            </td><td>1           </td><td>N                   </td><td>158           </td><td>163           </td><td>1             </td><td>12.0         </td><td>0.5    </td><td>0.5      </td><td>2.65        </td><td>0.0           </td><td>0.3                    </td><td>15.95         </td></tr>\n",
       "<tr><td><i style='opacity: 0.6'>8,759,870</i></td><td>1         </td><td>2018-01-31 23:35:51   </td><td>2018-01-31 23:38:57    </td><td>1                </td><td>0.6            </td><td>1           </td><td>N                   </td><td>163           </td><td>162           </td><td>1             </td><td>4.5          </td><td>0.5    </td><td>0.5      </td><td>1.15        </td><td>0.0           </td><td>0.3                    </td><td>6.95          </td></tr>\n",
       "<tr><td><i style='opacity: 0.6'>8,759,871</i></td><td>2         </td><td>2018-01-31 23:28:00   </td><td>2018-01-31 23:37:09    </td><td>1                </td><td>2.95           </td><td>1           </td><td>N                   </td><td>74            </td><td>69            </td><td>2             </td><td>10.5         </td><td>0.5    </td><td>0.5      </td><td>0.0         </td><td>0.0           </td><td>0.3                    </td><td>11.8          </td></tr>\n",
       "<tr><td><i style='opacity: 0.6'>8,759,872</i></td><td>2         </td><td>2018-01-31 23:24:40   </td><td>2018-01-31 23:25:28    </td><td>1                </td><td>0.0            </td><td>1           </td><td>N                   </td><td>7             </td><td>193           </td><td>2             </td><td>0.0          </td><td>0.0    </td><td>0.0      </td><td>0.0         </td><td>0.0           </td><td>0.0                    </td><td>0.0           </td></tr>\n",
       "<tr><td><i style='opacity: 0.6'>8,759,873</i></td><td>2         </td><td>2018-01-31 23:28:16   </td><td>2018-01-31 23:28:38    </td><td>1                </td><td>0.0            </td><td>1           </td><td>N                   </td><td>7             </td><td>193           </td><td>2             </td><td>0.0          </td><td>0.0    </td><td>0.0      </td><td>0.0         </td><td>0.0           </td><td>0.0                    </td><td>0.0           </td></tr>\n",
       "</tbody>\n",
       "</table>"
      ],
      "text/plain": [
       "#          VendorID    tpep_pickup_datetime    tpep_dropoff_datetime    passenger_count    trip_distance    RatecodeID    store_and_fwd_flag    PULocationID    DOLocationID    payment_type    fare_amount    extra    mta_tax    tip_amount    tolls_amount    improvement_surcharge    total_amount\n",
       "0          1           2018-01-01 00:21:05     2018-01-01 00:24:23      1                  0.5              1             N                     41              24              2               4.5            0.5      0.5        0.0           0.0             0.3                      5.8\n",
       "1          1           2018-01-01 00:44:55     2018-01-01 01:03:05      1                  2.7              1             N                     239             140             2               14.0           0.5      0.5        0.0           0.0             0.3                      15.3\n",
       "2          1           2018-01-01 00:08:26     2018-01-01 00:14:21      2                  0.8              1             N                     262             141             1               6.0            0.5      0.5        1.0           0.0             0.3                      8.3\n",
       "3          1           2018-01-01 00:20:22     2018-01-01 00:52:51      1                  10.2             1             N                     140             257             2               33.5           0.5      0.5        0.0           0.0             0.3                      34.8\n",
       "4          1           2018-01-01 00:09:18     2018-01-01 00:27:06      2                  2.5              1             N                     246             239             1               12.5           0.5      0.5        2.75          0.0             0.3                      16.55\n",
       "...        ...         ...                     ...                      ...                ...              ...           ...                   ...             ...             ...             ...            ...      ...        ...           ...             ...                      ...\n",
       "8,759,869  1           2018-01-31 23:21:35     2018-01-31 23:34:20      2                  2.8              1             N                     158             163             1               12.0           0.5      0.5        2.65          0.0             0.3                      15.95\n",
       "8,759,870  1           2018-01-31 23:35:51     2018-01-31 23:38:57      1                  0.6              1             N                     163             162             1               4.5            0.5      0.5        1.15          0.0             0.3                      6.95\n",
       "8,759,871  2           2018-01-31 23:28:00     2018-01-31 23:37:09      1                  2.95             1             N                     74              69              2               10.5           0.5      0.5        0.0           0.0             0.3                      11.8\n",
       "8,759,872  2           2018-01-31 23:24:40     2018-01-31 23:25:28      1                  0.0              1             N                     7               193             2               0.0            0.0      0.0        0.0           0.0             0.0                      0.0\n",
       "8,759,873  2           2018-01-31 23:28:16     2018-01-31 23:28:38      1                  0.0              1             N                     7               193             2               0.0            0.0      0.0        0.0           0.0             0.0                      0.0"
      ]
     },
     "execution_count": 20,
     "metadata": {},
     "output_type": "execute_result"
    }
   ],
   "source": [
    "%%time\n",
    "df_vaex = vaex.from_csv('yellow_tripdata_2018-01.csv', convert=True)\n",
    "df_vaex"
   ]
  },
  {
   "cell_type": "markdown",
   "id": "53f07c90",
   "metadata": {},
   "source": [
    "**Timepo de ejecucion: 21 min 33 s**"
   ]
  },
  {
   "cell_type": "markdown",
   "id": "0dd00b24",
   "metadata": {},
   "source": [
    "## VAEX desde HDF5"
   ]
  },
  {
   "cell_type": "code",
   "execution_count": 21,
   "id": "57fc3de4",
   "metadata": {},
   "outputs": [
    {
     "name": "stdout",
     "output_type": "stream",
     "text": [
      "CPU times: user 9.29 ms, sys: 155 µs, total: 9.44 ms\n",
      "Wall time: 12.3 ms\n"
     ]
    },
    {
     "data": {
      "text/html": [
       "<table>\n",
       "<thead>\n",
       "<tr><th>#                                    </th><th>VendorID  </th><th>tpep_pickup_datetime  </th><th>tpep_dropoff_datetime  </th><th>passenger_count  </th><th>trip_distance  </th><th>RatecodeID  </th><th>store_and_fwd_flag  </th><th>PULocationID  </th><th>DOLocationID  </th><th>payment_type  </th><th>fare_amount  </th><th>extra  </th><th>mta_tax  </th><th>tip_amount  </th><th>tolls_amount  </th><th>improvement_surcharge  </th><th>total_amount  </th></tr>\n",
       "</thead>\n",
       "<tbody>\n",
       "<tr><td><i style='opacity: 0.6'>0</i>        </td><td>1         </td><td>2018-01-01 00:21:05   </td><td>2018-01-01 00:24:23    </td><td>1                </td><td>0.5            </td><td>1           </td><td>N                   </td><td>41            </td><td>24            </td><td>2             </td><td>4.5          </td><td>0.5    </td><td>0.5      </td><td>0.0         </td><td>0.0           </td><td>0.3                    </td><td>5.8           </td></tr>\n",
       "<tr><td><i style='opacity: 0.6'>1</i>        </td><td>1         </td><td>2018-01-01 00:44:55   </td><td>2018-01-01 01:03:05    </td><td>1                </td><td>2.7            </td><td>1           </td><td>N                   </td><td>239           </td><td>140           </td><td>2             </td><td>14.0         </td><td>0.5    </td><td>0.5      </td><td>0.0         </td><td>0.0           </td><td>0.3                    </td><td>15.3          </td></tr>\n",
       "<tr><td><i style='opacity: 0.6'>2</i>        </td><td>1         </td><td>2018-01-01 00:08:26   </td><td>2018-01-01 00:14:21    </td><td>2                </td><td>0.8            </td><td>1           </td><td>N                   </td><td>262           </td><td>141           </td><td>1             </td><td>6.0          </td><td>0.5    </td><td>0.5      </td><td>1.0         </td><td>0.0           </td><td>0.3                    </td><td>8.3           </td></tr>\n",
       "<tr><td><i style='opacity: 0.6'>3</i>        </td><td>1         </td><td>2018-01-01 00:20:22   </td><td>2018-01-01 00:52:51    </td><td>1                </td><td>10.2           </td><td>1           </td><td>N                   </td><td>140           </td><td>257           </td><td>2             </td><td>33.5         </td><td>0.5    </td><td>0.5      </td><td>0.0         </td><td>0.0           </td><td>0.3                    </td><td>34.8          </td></tr>\n",
       "<tr><td><i style='opacity: 0.6'>4</i>        </td><td>1         </td><td>2018-01-01 00:09:18   </td><td>2018-01-01 00:27:06    </td><td>2                </td><td>2.5            </td><td>1           </td><td>N                   </td><td>246           </td><td>239           </td><td>1             </td><td>12.5         </td><td>0.5    </td><td>0.5      </td><td>2.75        </td><td>0.0           </td><td>0.3                    </td><td>16.55         </td></tr>\n",
       "<tr><td>...                                  </td><td>...       </td><td>...                   </td><td>...                    </td><td>...              </td><td>...            </td><td>...         </td><td>...                 </td><td>...           </td><td>...           </td><td>...           </td><td>...          </td><td>...    </td><td>...      </td><td>...         </td><td>...           </td><td>...                    </td><td>...           </td></tr>\n",
       "<tr><td><i style='opacity: 0.6'>8,759,869</i></td><td>1         </td><td>2018-01-31 23:21:35   </td><td>2018-01-31 23:34:20    </td><td>2                </td><td>2.8            </td><td>1           </td><td>N                   </td><td>158           </td><td>163           </td><td>1             </td><td>12.0         </td><td>0.5    </td><td>0.5      </td><td>2.65        </td><td>0.0           </td><td>0.3                    </td><td>15.95         </td></tr>\n",
       "<tr><td><i style='opacity: 0.6'>8,759,870</i></td><td>1         </td><td>2018-01-31 23:35:51   </td><td>2018-01-31 23:38:57    </td><td>1                </td><td>0.6            </td><td>1           </td><td>N                   </td><td>163           </td><td>162           </td><td>1             </td><td>4.5          </td><td>0.5    </td><td>0.5      </td><td>1.15        </td><td>0.0           </td><td>0.3                    </td><td>6.95          </td></tr>\n",
       "<tr><td><i style='opacity: 0.6'>8,759,871</i></td><td>2         </td><td>2018-01-31 23:28:00   </td><td>2018-01-31 23:37:09    </td><td>1                </td><td>2.95           </td><td>1           </td><td>N                   </td><td>74            </td><td>69            </td><td>2             </td><td>10.5         </td><td>0.5    </td><td>0.5      </td><td>0.0         </td><td>0.0           </td><td>0.3                    </td><td>11.8          </td></tr>\n",
       "<tr><td><i style='opacity: 0.6'>8,759,872</i></td><td>2         </td><td>2018-01-31 23:24:40   </td><td>2018-01-31 23:25:28    </td><td>1                </td><td>0.0            </td><td>1           </td><td>N                   </td><td>7             </td><td>193           </td><td>2             </td><td>0.0          </td><td>0.0    </td><td>0.0      </td><td>0.0         </td><td>0.0           </td><td>0.0                    </td><td>0.0           </td></tr>\n",
       "<tr><td><i style='opacity: 0.6'>8,759,873</i></td><td>2         </td><td>2018-01-31 23:28:16   </td><td>2018-01-31 23:28:38    </td><td>1                </td><td>0.0            </td><td>1           </td><td>N                   </td><td>7             </td><td>193           </td><td>2             </td><td>0.0          </td><td>0.0    </td><td>0.0      </td><td>0.0         </td><td>0.0           </td><td>0.0                    </td><td>0.0           </td></tr>\n",
       "</tbody>\n",
       "</table>"
      ],
      "text/plain": [
       "#          VendorID    tpep_pickup_datetime    tpep_dropoff_datetime    passenger_count    trip_distance    RatecodeID    store_and_fwd_flag    PULocationID    DOLocationID    payment_type    fare_amount    extra    mta_tax    tip_amount    tolls_amount    improvement_surcharge    total_amount\n",
       "0          1           2018-01-01 00:21:05     2018-01-01 00:24:23      1                  0.5              1             N                     41              24              2               4.5            0.5      0.5        0.0           0.0             0.3                      5.8\n",
       "1          1           2018-01-01 00:44:55     2018-01-01 01:03:05      1                  2.7              1             N                     239             140             2               14.0           0.5      0.5        0.0           0.0             0.3                      15.3\n",
       "2          1           2018-01-01 00:08:26     2018-01-01 00:14:21      2                  0.8              1             N                     262             141             1               6.0            0.5      0.5        1.0           0.0             0.3                      8.3\n",
       "3          1           2018-01-01 00:20:22     2018-01-01 00:52:51      1                  10.2             1             N                     140             257             2               33.5           0.5      0.5        0.0           0.0             0.3                      34.8\n",
       "4          1           2018-01-01 00:09:18     2018-01-01 00:27:06      2                  2.5              1             N                     246             239             1               12.5           0.5      0.5        2.75          0.0             0.3                      16.55\n",
       "...        ...         ...                     ...                      ...                ...              ...           ...                   ...             ...             ...             ...            ...      ...        ...           ...             ...                      ...\n",
       "8,759,869  1           2018-01-31 23:21:35     2018-01-31 23:34:20      2                  2.8              1             N                     158             163             1               12.0           0.5      0.5        2.65          0.0             0.3                      15.95\n",
       "8,759,870  1           2018-01-31 23:35:51     2018-01-31 23:38:57      1                  0.6              1             N                     163             162             1               4.5            0.5      0.5        1.15          0.0             0.3                      6.95\n",
       "8,759,871  2           2018-01-31 23:28:00     2018-01-31 23:37:09      1                  2.95             1             N                     74              69              2               10.5           0.5      0.5        0.0           0.0             0.3                      11.8\n",
       "8,759,872  2           2018-01-31 23:24:40     2018-01-31 23:25:28      1                  0.0              1             N                     7               193             2               0.0            0.0      0.0        0.0           0.0             0.0                      0.0\n",
       "8,759,873  2           2018-01-31 23:28:16     2018-01-31 23:28:38      1                  0.0              1             N                     7               193             2               0.0            0.0      0.0        0.0           0.0             0.0                      0.0"
      ]
     },
     "execution_count": 21,
     "metadata": {},
     "output_type": "execute_result"
    }
   ],
   "source": [
    "%%time\n",
    "vaex_hdf5 = vaex.open('yellow_tripdata_2018-01.csv.hdf5')\n",
    "vaex_hdf5"
   ]
  },
  {
   "cell_type": "markdown",
   "id": "dbf7e2a6",
   "metadata": {},
   "source": [
    "**Timepo de ejecucion: 12.3 ms**"
   ]
  },
  {
   "cell_type": "code",
   "execution_count": 22,
   "id": "d81fe8b1",
   "metadata": {},
   "outputs": [
    {
     "name": "stdout",
     "output_type": "stream",
     "text": [
      "CPU times: user 2.9 s, sys: 334 ms, total: 3.23 s\n",
      "Wall time: 21.7 s\n"
     ]
    },
    {
     "data": {
      "text/html": [
       "<div>\n",
       "<style scoped>\n",
       "    .dataframe tbody tr th:only-of-type {\n",
       "        vertical-align: middle;\n",
       "    }\n",
       "\n",
       "    .dataframe tbody tr th {\n",
       "        vertical-align: top;\n",
       "    }\n",
       "\n",
       "    .dataframe thead th {\n",
       "        text-align: right;\n",
       "    }\n",
       "</style>\n",
       "<table border=\"1\" class=\"dataframe\">\n",
       "  <thead>\n",
       "    <tr style=\"text-align: right;\">\n",
       "      <th></th>\n",
       "      <th>VendorID</th>\n",
       "      <th>tpep_pickup_datetime</th>\n",
       "      <th>tpep_dropoff_datetime</th>\n",
       "      <th>passenger_count</th>\n",
       "      <th>trip_distance</th>\n",
       "      <th>RatecodeID</th>\n",
       "      <th>store_and_fwd_flag</th>\n",
       "      <th>PULocationID</th>\n",
       "      <th>DOLocationID</th>\n",
       "      <th>payment_type</th>\n",
       "      <th>fare_amount</th>\n",
       "      <th>extra</th>\n",
       "      <th>mta_tax</th>\n",
       "      <th>tip_amount</th>\n",
       "      <th>tolls_amount</th>\n",
       "      <th>improvement_surcharge</th>\n",
       "      <th>total_amount</th>\n",
       "    </tr>\n",
       "  </thead>\n",
       "  <tbody>\n",
       "    <tr>\n",
       "      <th>data_type</th>\n",
       "      <td>int64</td>\n",
       "      <td>string</td>\n",
       "      <td>string</td>\n",
       "      <td>int64</td>\n",
       "      <td>float64</td>\n",
       "      <td>int64</td>\n",
       "      <td>string</td>\n",
       "      <td>int64</td>\n",
       "      <td>int64</td>\n",
       "      <td>int64</td>\n",
       "      <td>float64</td>\n",
       "      <td>float64</td>\n",
       "      <td>float64</td>\n",
       "      <td>float64</td>\n",
       "      <td>float64</td>\n",
       "      <td>float64</td>\n",
       "      <td>float64</td>\n",
       "    </tr>\n",
       "    <tr>\n",
       "      <th>count</th>\n",
       "      <td>8759874</td>\n",
       "      <td>8759874</td>\n",
       "      <td>8759874</td>\n",
       "      <td>8759874</td>\n",
       "      <td>8759874</td>\n",
       "      <td>8759874</td>\n",
       "      <td>8759874</td>\n",
       "      <td>8759874</td>\n",
       "      <td>8759874</td>\n",
       "      <td>8759874</td>\n",
       "      <td>8759874</td>\n",
       "      <td>8759874</td>\n",
       "      <td>8759874</td>\n",
       "      <td>8759874</td>\n",
       "      <td>8759874</td>\n",
       "      <td>8759874</td>\n",
       "      <td>8759874</td>\n",
       "    </tr>\n",
       "    <tr>\n",
       "      <th>NA</th>\n",
       "      <td>0</td>\n",
       "      <td>0</td>\n",
       "      <td>0</td>\n",
       "      <td>0</td>\n",
       "      <td>0</td>\n",
       "      <td>0</td>\n",
       "      <td>0</td>\n",
       "      <td>0</td>\n",
       "      <td>0</td>\n",
       "      <td>0</td>\n",
       "      <td>0</td>\n",
       "      <td>0</td>\n",
       "      <td>0</td>\n",
       "      <td>0</td>\n",
       "      <td>0</td>\n",
       "      <td>0</td>\n",
       "      <td>0</td>\n",
       "    </tr>\n",
       "    <tr>\n",
       "      <th>mean</th>\n",
       "      <td>1.560940488413418</td>\n",
       "      <td>--</td>\n",
       "      <td>--</td>\n",
       "      <td>1.6068553040831408</td>\n",
       "      <td>2.804001134034372</td>\n",
       "      <td>1.0395448610333893</td>\n",
       "      <td>--</td>\n",
       "      <td>164.45848330695168</td>\n",
       "      <td>162.72690703085456</td>\n",
       "      <td>1.3106107462276284</td>\n",
       "      <td>12.244343055619435</td>\n",
       "      <td>0.3246822499958335</td>\n",
       "      <td>0.4975066650502051</td>\n",
       "      <td>1.8187450892559622</td>\n",
       "      <td>0.302613340100881</td>\n",
       "      <td>0.29963064537508727</td>\n",
       "      <td>15.49098180426592</td>\n",
       "    </tr>\n",
       "    <tr>\n",
       "      <th>std</th>\n",
       "      <td>0.496272</td>\n",
       "      <td>--</td>\n",
       "      <td>--</td>\n",
       "      <td>1.25846</td>\n",
       "      <td>64.1235</td>\n",
       "      <td>0.44507</td>\n",
       "      <td>--</td>\n",
       "      <td>66.3602</td>\n",
       "      <td>70.3116</td>\n",
       "      <td>0.481782</td>\n",
       "      <td>11.6832</td>\n",
       "      <td>0.450252</td>\n",
       "      <td>0.0433332</td>\n",
       "      <td>2.48634</td>\n",
       "      <td>1.73818</td>\n",
       "      <td>0.0144281</td>\n",
       "      <td>14.1954</td>\n",
       "    </tr>\n",
       "    <tr>\n",
       "      <th>min</th>\n",
       "      <td>1</td>\n",
       "      <td>--</td>\n",
       "      <td>--</td>\n",
       "      <td>0</td>\n",
       "      <td>0</td>\n",
       "      <td>1</td>\n",
       "      <td>--</td>\n",
       "      <td>1</td>\n",
       "      <td>1</td>\n",
       "      <td>1</td>\n",
       "      <td>-450</td>\n",
       "      <td>-44.69</td>\n",
       "      <td>-0.5</td>\n",
       "      <td>-88.8</td>\n",
       "      <td>-15</td>\n",
       "      <td>-0.3</td>\n",
       "      <td>-450.3</td>\n",
       "    </tr>\n",
       "    <tr>\n",
       "      <th>max</th>\n",
       "      <td>2</td>\n",
       "      <td>--</td>\n",
       "      <td>--</td>\n",
       "      <td>9</td>\n",
       "      <td>189484</td>\n",
       "      <td>99</td>\n",
       "      <td>--</td>\n",
       "      <td>265</td>\n",
       "      <td>265</td>\n",
       "      <td>4</td>\n",
       "      <td>8016</td>\n",
       "      <td>60</td>\n",
       "      <td>45.49</td>\n",
       "      <td>441.71</td>\n",
       "      <td>950.7</td>\n",
       "      <td>1</td>\n",
       "      <td>8016.8</td>\n",
       "    </tr>\n",
       "  </tbody>\n",
       "</table>\n",
       "</div>"
      ],
      "text/plain": [
       "                    VendorID tpep_pickup_datetime tpep_dropoff_datetime  \\\n",
       "data_type              int64               string                string   \n",
       "count                8759874              8759874               8759874   \n",
       "NA                         0                    0                     0   \n",
       "mean       1.560940488413418                   --                    --   \n",
       "std                 0.496272                   --                    --   \n",
       "min                        1                   --                    --   \n",
       "max                        2                   --                    --   \n",
       "\n",
       "              passenger_count      trip_distance          RatecodeID  \\\n",
       "data_type               int64            float64               int64   \n",
       "count                 8759874            8759874             8759874   \n",
       "NA                          0                  0                   0   \n",
       "mean       1.6068553040831408  2.804001134034372  1.0395448610333893   \n",
       "std                   1.25846            64.1235             0.44507   \n",
       "min                         0                  0                   1   \n",
       "max                         9             189484                  99   \n",
       "\n",
       "          store_and_fwd_flag        PULocationID        DOLocationID  \\\n",
       "data_type             string               int64               int64   \n",
       "count                8759874             8759874             8759874   \n",
       "NA                         0                   0                   0   \n",
       "mean                      --  164.45848330695168  162.72690703085456   \n",
       "std                       --             66.3602             70.3116   \n",
       "min                       --                   1                   1   \n",
       "max                       --                 265                 265   \n",
       "\n",
       "                 payment_type         fare_amount               extra  \\\n",
       "data_type               int64             float64             float64   \n",
       "count                 8759874             8759874             8759874   \n",
       "NA                          0                   0                   0   \n",
       "mean       1.3106107462276284  12.244343055619435  0.3246822499958335   \n",
       "std                  0.481782             11.6832            0.450252   \n",
       "min                         1                -450              -44.69   \n",
       "max                         4                8016                  60   \n",
       "\n",
       "                      mta_tax          tip_amount       tolls_amount  \\\n",
       "data_type             float64             float64            float64   \n",
       "count                 8759874             8759874            8759874   \n",
       "NA                          0                   0                  0   \n",
       "mean       0.4975066650502051  1.8187450892559622  0.302613340100881   \n",
       "std                 0.0433332             2.48634            1.73818   \n",
       "min                      -0.5               -88.8                -15   \n",
       "max                     45.49              441.71              950.7   \n",
       "\n",
       "          improvement_surcharge       total_amount  \n",
       "data_type               float64            float64  \n",
       "count                   8759874            8759874  \n",
       "NA                            0                  0  \n",
       "mean        0.29963064537508727  15.49098180426592  \n",
       "std                   0.0144281            14.1954  \n",
       "min                        -0.3             -450.3  \n",
       "max                           1             8016.8  "
      ]
     },
     "execution_count": 22,
     "metadata": {},
     "output_type": "execute_result"
    }
   ],
   "source": [
    "%%time\n",
    "vaex_hdf5.describe()"
   ]
  },
  {
   "cell_type": "markdown",
   "id": "17d68872",
   "metadata": {},
   "source": [
    "**Timepo de ejecucion: 21.7 s**"
   ]
  },
  {
   "cell_type": "code",
   "execution_count": 24,
   "id": "ecd76f8d",
   "metadata": {},
   "outputs": [
    {
     "name": "stdout",
     "output_type": "stream",
     "text": [
      "CPU times: user 174 ms, sys: 1.76 ms, total: 175 ms\n",
      "Wall time: 223 ms\n"
     ]
    },
    {
     "data": {
      "text/plain": [
       "6.00      473234\n",
       "5.50      465176\n",
       "6.50      461927\n",
       "7.00      446376\n",
       "5.00      433249\n",
       "           ...  \n",
       "51.70          1\n",
       "233.50         1\n",
       "228.09         1\n",
       "48.16          1\n",
       "125.25         1\n",
       "Length: 1714, dtype: int64"
      ]
     },
     "execution_count": 24,
     "metadata": {},
     "output_type": "execute_result"
    }
   ],
   "source": [
    "%%time \n",
    "vaex_hdf5.fare_amount.value_counts()"
   ]
  },
  {
   "cell_type": "markdown",
   "id": "5912d359",
   "metadata": {},
   "source": [
    "**Timepo de ejecucion: 223 ms**"
   ]
  },
  {
   "cell_type": "markdown",
   "id": "dda2eac9",
   "metadata": {},
   "source": [
    "## VAEX 2ª forma"
   ]
  },
  {
   "cell_type": "code",
   "execution_count": 3,
   "id": "71465fa9",
   "metadata": {},
   "outputs": [
    {
     "name": "stdout",
     "output_type": "stream",
     "text": [
      "CPU times: user 11.7 s, sys: 1.16 s, total: 12.9 s\n",
      "Wall time: 18.1 s\n"
     ]
    }
   ],
   "source": [
    "%%time\n",
    "df_vaex_2 = vaex.from_csv('yellow_tripdata_2018-01.csv')"
   ]
  },
  {
   "cell_type": "markdown",
   "id": "fcb5fdec",
   "metadata": {},
   "source": [
    "**Timepo de ejecucion: 18.1 s**"
   ]
  },
  {
   "cell_type": "code",
   "execution_count": 4,
   "id": "cc2ac26b",
   "metadata": {},
   "outputs": [
    {
     "name": "stdout",
     "output_type": "stream",
     "text": [
      "CPU times: user 2 µs, sys: 0 ns, total: 2 µs\n",
      "Wall time: 3.58 µs\n"
     ]
    },
    {
     "data": {
      "text/html": [
       "<table>\n",
       "<thead>\n",
       "<tr><th>#                                    </th><th>VendorID  </th><th>tpep_pickup_datetime  </th><th>tpep_dropoff_datetime  </th><th>passenger_count  </th><th>trip_distance  </th><th>RatecodeID  </th><th>store_and_fwd_flag  </th><th>PULocationID  </th><th>DOLocationID  </th><th>payment_type  </th><th>fare_amount  </th><th>extra  </th><th>mta_tax  </th><th>tip_amount  </th><th>tolls_amount  </th><th>improvement_surcharge  </th><th>total_amount  </th></tr>\n",
       "</thead>\n",
       "<tbody>\n",
       "<tr><td><i style='opacity: 0.6'>0</i>        </td><td>1         </td><td>2018-01-01 00:21:05   </td><td>2018-01-01 00:24:23    </td><td>1                </td><td>0.5            </td><td>1           </td><td>N                   </td><td>41            </td><td>24            </td><td>2             </td><td>4.5          </td><td>0.5    </td><td>0.5      </td><td>0.0         </td><td>0.0           </td><td>0.3                    </td><td>5.8           </td></tr>\n",
       "<tr><td><i style='opacity: 0.6'>1</i>        </td><td>1         </td><td>2018-01-01 00:44:55   </td><td>2018-01-01 01:03:05    </td><td>1                </td><td>2.7            </td><td>1           </td><td>N                   </td><td>239           </td><td>140           </td><td>2             </td><td>14.0         </td><td>0.5    </td><td>0.5      </td><td>0.0         </td><td>0.0           </td><td>0.3                    </td><td>15.3          </td></tr>\n",
       "<tr><td><i style='opacity: 0.6'>2</i>        </td><td>1         </td><td>2018-01-01 00:08:26   </td><td>2018-01-01 00:14:21    </td><td>2                </td><td>0.8            </td><td>1           </td><td>N                   </td><td>262           </td><td>141           </td><td>1             </td><td>6.0          </td><td>0.5    </td><td>0.5      </td><td>1.0         </td><td>0.0           </td><td>0.3                    </td><td>8.3           </td></tr>\n",
       "<tr><td><i style='opacity: 0.6'>3</i>        </td><td>1         </td><td>2018-01-01 00:20:22   </td><td>2018-01-01 00:52:51    </td><td>1                </td><td>10.2           </td><td>1           </td><td>N                   </td><td>140           </td><td>257           </td><td>2             </td><td>33.5         </td><td>0.5    </td><td>0.5      </td><td>0.0         </td><td>0.0           </td><td>0.3                    </td><td>34.8          </td></tr>\n",
       "<tr><td><i style='opacity: 0.6'>4</i>        </td><td>1         </td><td>2018-01-01 00:09:18   </td><td>2018-01-01 00:27:06    </td><td>2                </td><td>2.5            </td><td>1           </td><td>N                   </td><td>246           </td><td>239           </td><td>1             </td><td>12.5         </td><td>0.5    </td><td>0.5      </td><td>2.75        </td><td>0.0           </td><td>0.3                    </td><td>16.55         </td></tr>\n",
       "<tr><td>...                                  </td><td>...       </td><td>...                   </td><td>...                    </td><td>...              </td><td>...            </td><td>...         </td><td>...                 </td><td>...           </td><td>...           </td><td>...           </td><td>...          </td><td>...    </td><td>...      </td><td>...         </td><td>...           </td><td>...                    </td><td>...           </td></tr>\n",
       "<tr><td><i style='opacity: 0.6'>8,759,869</i></td><td>1         </td><td>2018-01-31 23:21:35   </td><td>2018-01-31 23:34:20    </td><td>2                </td><td>2.8            </td><td>1           </td><td>N                   </td><td>158           </td><td>163           </td><td>1             </td><td>12.0         </td><td>0.5    </td><td>0.5      </td><td>2.65        </td><td>0.0           </td><td>0.3                    </td><td>15.95         </td></tr>\n",
       "<tr><td><i style='opacity: 0.6'>8,759,870</i></td><td>1         </td><td>2018-01-31 23:35:51   </td><td>2018-01-31 23:38:57    </td><td>1                </td><td>0.6            </td><td>1           </td><td>N                   </td><td>163           </td><td>162           </td><td>1             </td><td>4.5          </td><td>0.5    </td><td>0.5      </td><td>1.15        </td><td>0.0           </td><td>0.3                    </td><td>6.95          </td></tr>\n",
       "<tr><td><i style='opacity: 0.6'>8,759,871</i></td><td>2         </td><td>2018-01-31 23:28:00   </td><td>2018-01-31 23:37:09    </td><td>1                </td><td>2.95           </td><td>1           </td><td>N                   </td><td>74            </td><td>69            </td><td>2             </td><td>10.5         </td><td>0.5    </td><td>0.5      </td><td>0.0         </td><td>0.0           </td><td>0.3                    </td><td>11.8          </td></tr>\n",
       "<tr><td><i style='opacity: 0.6'>8,759,872</i></td><td>2         </td><td>2018-01-31 23:24:40   </td><td>2018-01-31 23:25:28    </td><td>1                </td><td>0.0            </td><td>1           </td><td>N                   </td><td>7             </td><td>193           </td><td>2             </td><td>0.0          </td><td>0.0    </td><td>0.0      </td><td>0.0         </td><td>0.0           </td><td>0.0                    </td><td>0.0           </td></tr>\n",
       "<tr><td><i style='opacity: 0.6'>8,759,873</i></td><td>2         </td><td>2018-01-31 23:28:16   </td><td>2018-01-31 23:28:38    </td><td>1                </td><td>0.0            </td><td>1           </td><td>N                   </td><td>7             </td><td>193           </td><td>2             </td><td>0.0          </td><td>0.0    </td><td>0.0      </td><td>0.0         </td><td>0.0           </td><td>0.0                    </td><td>0.0           </td></tr>\n",
       "</tbody>\n",
       "</table>"
      ],
      "text/plain": [
       "#          VendorID    tpep_pickup_datetime    tpep_dropoff_datetime    passenger_count    trip_distance    RatecodeID    store_and_fwd_flag    PULocationID    DOLocationID    payment_type    fare_amount    extra    mta_tax    tip_amount    tolls_amount    improvement_surcharge    total_amount\n",
       "0          1           2018-01-01 00:21:05     2018-01-01 00:24:23      1                  0.5              1             N                     41              24              2               4.5            0.5      0.5        0.0           0.0             0.3                      5.8\n",
       "1          1           2018-01-01 00:44:55     2018-01-01 01:03:05      1                  2.7              1             N                     239             140             2               14.0           0.5      0.5        0.0           0.0             0.3                      15.3\n",
       "2          1           2018-01-01 00:08:26     2018-01-01 00:14:21      2                  0.8              1             N                     262             141             1               6.0            0.5      0.5        1.0           0.0             0.3                      8.3\n",
       "3          1           2018-01-01 00:20:22     2018-01-01 00:52:51      1                  10.2             1             N                     140             257             2               33.5           0.5      0.5        0.0           0.0             0.3                      34.8\n",
       "4          1           2018-01-01 00:09:18     2018-01-01 00:27:06      2                  2.5              1             N                     246             239             1               12.5           0.5      0.5        2.75          0.0             0.3                      16.55\n",
       "...        ...         ...                     ...                      ...                ...              ...           ...                   ...             ...             ...             ...            ...      ...        ...           ...             ...                      ...\n",
       "8,759,869  1           2018-01-31 23:21:35     2018-01-31 23:34:20      2                  2.8              1             N                     158             163             1               12.0           0.5      0.5        2.65          0.0             0.3                      15.95\n",
       "8,759,870  1           2018-01-31 23:35:51     2018-01-31 23:38:57      1                  0.6              1             N                     163             162             1               4.5            0.5      0.5        1.15          0.0             0.3                      6.95\n",
       "8,759,871  2           2018-01-31 23:28:00     2018-01-31 23:37:09      1                  2.95             1             N                     74              69              2               10.5           0.5      0.5        0.0           0.0             0.3                      11.8\n",
       "8,759,872  2           2018-01-31 23:24:40     2018-01-31 23:25:28      1                  0.0              1             N                     7               193             2               0.0            0.0      0.0        0.0           0.0             0.0                      0.0\n",
       "8,759,873  2           2018-01-31 23:28:16     2018-01-31 23:28:38      1                  0.0              1             N                     7               193             2               0.0            0.0      0.0        0.0           0.0             0.0                      0.0"
      ]
     },
     "execution_count": 4,
     "metadata": {},
     "output_type": "execute_result"
    }
   ],
   "source": [
    "%%time\n",
    "df_vaex_2"
   ]
  },
  {
   "cell_type": "markdown",
   "id": "8b0daeb8",
   "metadata": {},
   "source": [
    "**Timepo de ejecucion: 3.58 µs**"
   ]
  },
  {
   "cell_type": "code",
   "execution_count": 5,
   "id": "300985c5",
   "metadata": {},
   "outputs": [
    {
     "name": "stdout",
     "output_type": "stream",
     "text": [
      "CPU times: user 2.14 s, sys: 906 ms, total: 3.05 s\n",
      "Wall time: 31.2 s\n"
     ]
    }
   ],
   "source": [
    "%%time\n",
    "df_vaex_2.export('yellow_tripdata_2018-01.hdf5')"
   ]
  },
  {
   "cell_type": "markdown",
   "id": "167324aa",
   "metadata": {},
   "source": [
    "**Timepo de ejecucion: 32.2 s**"
   ]
  },
  {
   "cell_type": "code",
   "execution_count": 7,
   "id": "e625dc33",
   "metadata": {},
   "outputs": [
    {
     "name": "stdout",
     "output_type": "stream",
     "text": [
      "CPU times: user 8.76 ms, sys: 741 µs, total: 9.5 ms\n",
      "Wall time: 39.2 ms\n"
     ]
    },
    {
     "data": {
      "text/html": [
       "<table>\n",
       "<thead>\n",
       "<tr><th>#                                    </th><th>VendorID  </th><th>tpep_pickup_datetime  </th><th>tpep_dropoff_datetime  </th><th>passenger_count  </th><th>trip_distance  </th><th>RatecodeID  </th><th>store_and_fwd_flag  </th><th>PULocationID  </th><th>DOLocationID  </th><th>payment_type  </th><th>fare_amount  </th><th>extra  </th><th>mta_tax  </th><th>tip_amount  </th><th>tolls_amount  </th><th>improvement_surcharge  </th><th>total_amount  </th></tr>\n",
       "</thead>\n",
       "<tbody>\n",
       "<tr><td><i style='opacity: 0.6'>0</i>        </td><td>1         </td><td>2018-01-01 00:21:05   </td><td>2018-01-01 00:24:23    </td><td>1                </td><td>0.5            </td><td>1           </td><td>N                   </td><td>41            </td><td>24            </td><td>2             </td><td>4.5          </td><td>0.5    </td><td>0.5      </td><td>0.0         </td><td>0.0           </td><td>0.3                    </td><td>5.8           </td></tr>\n",
       "<tr><td><i style='opacity: 0.6'>1</i>        </td><td>1         </td><td>2018-01-01 00:44:55   </td><td>2018-01-01 01:03:05    </td><td>1                </td><td>2.7            </td><td>1           </td><td>N                   </td><td>239           </td><td>140           </td><td>2             </td><td>14.0         </td><td>0.5    </td><td>0.5      </td><td>0.0         </td><td>0.0           </td><td>0.3                    </td><td>15.3          </td></tr>\n",
       "<tr><td><i style='opacity: 0.6'>2</i>        </td><td>1         </td><td>2018-01-01 00:08:26   </td><td>2018-01-01 00:14:21    </td><td>2                </td><td>0.8            </td><td>1           </td><td>N                   </td><td>262           </td><td>141           </td><td>1             </td><td>6.0          </td><td>0.5    </td><td>0.5      </td><td>1.0         </td><td>0.0           </td><td>0.3                    </td><td>8.3           </td></tr>\n",
       "<tr><td><i style='opacity: 0.6'>3</i>        </td><td>1         </td><td>2018-01-01 00:20:22   </td><td>2018-01-01 00:52:51    </td><td>1                </td><td>10.2           </td><td>1           </td><td>N                   </td><td>140           </td><td>257           </td><td>2             </td><td>33.5         </td><td>0.5    </td><td>0.5      </td><td>0.0         </td><td>0.0           </td><td>0.3                    </td><td>34.8          </td></tr>\n",
       "<tr><td><i style='opacity: 0.6'>4</i>        </td><td>1         </td><td>2018-01-01 00:09:18   </td><td>2018-01-01 00:27:06    </td><td>2                </td><td>2.5            </td><td>1           </td><td>N                   </td><td>246           </td><td>239           </td><td>1             </td><td>12.5         </td><td>0.5    </td><td>0.5      </td><td>2.75        </td><td>0.0           </td><td>0.3                    </td><td>16.55         </td></tr>\n",
       "<tr><td>...                                  </td><td>...       </td><td>...                   </td><td>...                    </td><td>...              </td><td>...            </td><td>...         </td><td>...                 </td><td>...           </td><td>...           </td><td>...           </td><td>...          </td><td>...    </td><td>...      </td><td>...         </td><td>...           </td><td>...                    </td><td>...           </td></tr>\n",
       "<tr><td><i style='opacity: 0.6'>8,759,869</i></td><td>1         </td><td>2018-01-31 23:21:35   </td><td>2018-01-31 23:34:20    </td><td>2                </td><td>2.8            </td><td>1           </td><td>N                   </td><td>158           </td><td>163           </td><td>1             </td><td>12.0         </td><td>0.5    </td><td>0.5      </td><td>2.65        </td><td>0.0           </td><td>0.3                    </td><td>15.95         </td></tr>\n",
       "<tr><td><i style='opacity: 0.6'>8,759,870</i></td><td>1         </td><td>2018-01-31 23:35:51   </td><td>2018-01-31 23:38:57    </td><td>1                </td><td>0.6            </td><td>1           </td><td>N                   </td><td>163           </td><td>162           </td><td>1             </td><td>4.5          </td><td>0.5    </td><td>0.5      </td><td>1.15        </td><td>0.0           </td><td>0.3                    </td><td>6.95          </td></tr>\n",
       "<tr><td><i style='opacity: 0.6'>8,759,871</i></td><td>2         </td><td>2018-01-31 23:28:00   </td><td>2018-01-31 23:37:09    </td><td>1                </td><td>2.95           </td><td>1           </td><td>N                   </td><td>74            </td><td>69            </td><td>2             </td><td>10.5         </td><td>0.5    </td><td>0.5      </td><td>0.0         </td><td>0.0           </td><td>0.3                    </td><td>11.8          </td></tr>\n",
       "<tr><td><i style='opacity: 0.6'>8,759,872</i></td><td>2         </td><td>2018-01-31 23:24:40   </td><td>2018-01-31 23:25:28    </td><td>1                </td><td>0.0            </td><td>1           </td><td>N                   </td><td>7             </td><td>193           </td><td>2             </td><td>0.0          </td><td>0.0    </td><td>0.0      </td><td>0.0         </td><td>0.0           </td><td>0.0                    </td><td>0.0           </td></tr>\n",
       "<tr><td><i style='opacity: 0.6'>8,759,873</i></td><td>2         </td><td>2018-01-31 23:28:16   </td><td>2018-01-31 23:28:38    </td><td>1                </td><td>0.0            </td><td>1           </td><td>N                   </td><td>7             </td><td>193           </td><td>2             </td><td>0.0          </td><td>0.0    </td><td>0.0      </td><td>0.0         </td><td>0.0           </td><td>0.0                    </td><td>0.0           </td></tr>\n",
       "</tbody>\n",
       "</table>"
      ],
      "text/plain": [
       "#          VendorID    tpep_pickup_datetime    tpep_dropoff_datetime    passenger_count    trip_distance    RatecodeID    store_and_fwd_flag    PULocationID    DOLocationID    payment_type    fare_amount    extra    mta_tax    tip_amount    tolls_amount    improvement_surcharge    total_amount\n",
       "0          1           2018-01-01 00:21:05     2018-01-01 00:24:23      1                  0.5              1             N                     41              24              2               4.5            0.5      0.5        0.0           0.0             0.3                      5.8\n",
       "1          1           2018-01-01 00:44:55     2018-01-01 01:03:05      1                  2.7              1             N                     239             140             2               14.0           0.5      0.5        0.0           0.0             0.3                      15.3\n",
       "2          1           2018-01-01 00:08:26     2018-01-01 00:14:21      2                  0.8              1             N                     262             141             1               6.0            0.5      0.5        1.0           0.0             0.3                      8.3\n",
       "3          1           2018-01-01 00:20:22     2018-01-01 00:52:51      1                  10.2             1             N                     140             257             2               33.5           0.5      0.5        0.0           0.0             0.3                      34.8\n",
       "4          1           2018-01-01 00:09:18     2018-01-01 00:27:06      2                  2.5              1             N                     246             239             1               12.5           0.5      0.5        2.75          0.0             0.3                      16.55\n",
       "...        ...         ...                     ...                      ...                ...              ...           ...                   ...             ...             ...             ...            ...      ...        ...           ...             ...                      ...\n",
       "8,759,869  1           2018-01-31 23:21:35     2018-01-31 23:34:20      2                  2.8              1             N                     158             163             1               12.0           0.5      0.5        2.65          0.0             0.3                      15.95\n",
       "8,759,870  1           2018-01-31 23:35:51     2018-01-31 23:38:57      1                  0.6              1             N                     163             162             1               4.5            0.5      0.5        1.15          0.0             0.3                      6.95\n",
       "8,759,871  2           2018-01-31 23:28:00     2018-01-31 23:37:09      1                  2.95             1             N                     74              69              2               10.5           0.5      0.5        0.0           0.0             0.3                      11.8\n",
       "8,759,872  2           2018-01-31 23:24:40     2018-01-31 23:25:28      1                  0.0              1             N                     7               193             2               0.0            0.0      0.0        0.0           0.0             0.0                      0.0\n",
       "8,759,873  2           2018-01-31 23:28:16     2018-01-31 23:28:38      1                  0.0              1             N                     7               193             2               0.0            0.0      0.0        0.0           0.0             0.0                      0.0"
      ]
     },
     "execution_count": 7,
     "metadata": {},
     "output_type": "execute_result"
    }
   ],
   "source": [
    "%%time\n",
    "df_vaex_4 = vaex.open('yellow_tripdata_2018-01.hdf5')\n",
    "df_vaex_4"
   ]
  },
  {
   "cell_type": "markdown",
   "id": "e16b7ce1",
   "metadata": {},
   "source": [
    "**Timepo de ejecucion: 2.05 s**"
   ]
  },
  {
   "cell_type": "markdown",
   "id": "c426663d",
   "metadata": {},
   "source": [
    "****"
   ]
  },
  {
   "cell_type": "markdown",
   "id": "ef44e3d2",
   "metadata": {},
   "source": [
    "# Segunda parte de la actividad"
   ]
  },
  {
   "cell_type": "markdown",
   "id": "01018f9e",
   "metadata": {},
   "source": [
    "Teniendo en cuenta los tiempo de ejcucion con VAEX y DASK, se empleará dask para la siguiente parte del ejercicio."
   ]
  },
  {
   "cell_type": "markdown",
   "id": "340ff769",
   "metadata": {},
   "source": [
    "## groupby()"
   ]
  },
  {
   "cell_type": "markdown",
   "id": "68449a2f",
   "metadata": {},
   "source": [
    "**Antes de nada procedamos a leer y entender el dataframe:**"
   ]
  },
  {
   "cell_type": "code",
   "execution_count": 3,
   "id": "867a7fd6",
   "metadata": {},
   "outputs": [
    {
     "name": "stdout",
     "output_type": "stream",
     "text": [
      "CPU times: user 20.8 ms, sys: 2.41 ms, total: 23.3 ms\n",
      "Wall time: 287 ms\n"
     ]
    }
   ],
   "source": [
    "%%time\n",
    "df_dask = ddf.read_csv('yellow_tripdata_2018-01.csv', assume_missing=True) \n",
    "# timepo de ejecucion: 287ms"
   ]
  },
  {
   "cell_type": "code",
   "execution_count": 5,
   "id": "8b70a492",
   "metadata": {},
   "outputs": [
    {
     "name": "stdout",
     "output_type": "stream",
     "text": [
      "CPU times: user 482 ms, sys: 300 ms, total: 781 ms\n",
      "Wall time: 1.06 s\n"
     ]
    },
    {
     "data": {
      "text/html": [
       "<div>\n",
       "<style scoped>\n",
       "    .dataframe tbody tr th:only-of-type {\n",
       "        vertical-align: middle;\n",
       "    }\n",
       "\n",
       "    .dataframe tbody tr th {\n",
       "        vertical-align: top;\n",
       "    }\n",
       "\n",
       "    .dataframe thead th {\n",
       "        text-align: right;\n",
       "    }\n",
       "</style>\n",
       "<table border=\"1\" class=\"dataframe\">\n",
       "  <thead>\n",
       "    <tr style=\"text-align: right;\">\n",
       "      <th></th>\n",
       "      <th>VendorID</th>\n",
       "      <th>tpep_pickup_datetime</th>\n",
       "      <th>tpep_dropoff_datetime</th>\n",
       "      <th>passenger_count</th>\n",
       "      <th>trip_distance</th>\n",
       "      <th>RatecodeID</th>\n",
       "      <th>store_and_fwd_flag</th>\n",
       "      <th>PULocationID</th>\n",
       "      <th>DOLocationID</th>\n",
       "      <th>payment_type</th>\n",
       "      <th>fare_amount</th>\n",
       "      <th>extra</th>\n",
       "      <th>mta_tax</th>\n",
       "      <th>tip_amount</th>\n",
       "      <th>tolls_amount</th>\n",
       "      <th>improvement_surcharge</th>\n",
       "      <th>total_amount</th>\n",
       "    </tr>\n",
       "  </thead>\n",
       "  <tbody>\n",
       "    <tr>\n",
       "      <th>0</th>\n",
       "      <td>1.0</td>\n",
       "      <td>2018-01-01 00:21:05</td>\n",
       "      <td>2018-01-01 00:24:23</td>\n",
       "      <td>1.0</td>\n",
       "      <td>0.5</td>\n",
       "      <td>1.0</td>\n",
       "      <td>N</td>\n",
       "      <td>41.0</td>\n",
       "      <td>24.0</td>\n",
       "      <td>2.0</td>\n",
       "      <td>4.5</td>\n",
       "      <td>0.5</td>\n",
       "      <td>0.5</td>\n",
       "      <td>0.00</td>\n",
       "      <td>0.0</td>\n",
       "      <td>0.3</td>\n",
       "      <td>5.80</td>\n",
       "    </tr>\n",
       "    <tr>\n",
       "      <th>1</th>\n",
       "      <td>1.0</td>\n",
       "      <td>2018-01-01 00:44:55</td>\n",
       "      <td>2018-01-01 01:03:05</td>\n",
       "      <td>1.0</td>\n",
       "      <td>2.7</td>\n",
       "      <td>1.0</td>\n",
       "      <td>N</td>\n",
       "      <td>239.0</td>\n",
       "      <td>140.0</td>\n",
       "      <td>2.0</td>\n",
       "      <td>14.0</td>\n",
       "      <td>0.5</td>\n",
       "      <td>0.5</td>\n",
       "      <td>0.00</td>\n",
       "      <td>0.0</td>\n",
       "      <td>0.3</td>\n",
       "      <td>15.30</td>\n",
       "    </tr>\n",
       "    <tr>\n",
       "      <th>2</th>\n",
       "      <td>1.0</td>\n",
       "      <td>2018-01-01 00:08:26</td>\n",
       "      <td>2018-01-01 00:14:21</td>\n",
       "      <td>2.0</td>\n",
       "      <td>0.8</td>\n",
       "      <td>1.0</td>\n",
       "      <td>N</td>\n",
       "      <td>262.0</td>\n",
       "      <td>141.0</td>\n",
       "      <td>1.0</td>\n",
       "      <td>6.0</td>\n",
       "      <td>0.5</td>\n",
       "      <td>0.5</td>\n",
       "      <td>1.00</td>\n",
       "      <td>0.0</td>\n",
       "      <td>0.3</td>\n",
       "      <td>8.30</td>\n",
       "    </tr>\n",
       "    <tr>\n",
       "      <th>3</th>\n",
       "      <td>1.0</td>\n",
       "      <td>2018-01-01 00:20:22</td>\n",
       "      <td>2018-01-01 00:52:51</td>\n",
       "      <td>1.0</td>\n",
       "      <td>10.2</td>\n",
       "      <td>1.0</td>\n",
       "      <td>N</td>\n",
       "      <td>140.0</td>\n",
       "      <td>257.0</td>\n",
       "      <td>2.0</td>\n",
       "      <td>33.5</td>\n",
       "      <td>0.5</td>\n",
       "      <td>0.5</td>\n",
       "      <td>0.00</td>\n",
       "      <td>0.0</td>\n",
       "      <td>0.3</td>\n",
       "      <td>34.80</td>\n",
       "    </tr>\n",
       "    <tr>\n",
       "      <th>4</th>\n",
       "      <td>1.0</td>\n",
       "      <td>2018-01-01 00:09:18</td>\n",
       "      <td>2018-01-01 00:27:06</td>\n",
       "      <td>2.0</td>\n",
       "      <td>2.5</td>\n",
       "      <td>1.0</td>\n",
       "      <td>N</td>\n",
       "      <td>246.0</td>\n",
       "      <td>239.0</td>\n",
       "      <td>1.0</td>\n",
       "      <td>12.5</td>\n",
       "      <td>0.5</td>\n",
       "      <td>0.5</td>\n",
       "      <td>2.75</td>\n",
       "      <td>0.0</td>\n",
       "      <td>0.3</td>\n",
       "      <td>16.55</td>\n",
       "    </tr>\n",
       "  </tbody>\n",
       "</table>\n",
       "</div>"
      ],
      "text/plain": [
       "   VendorID tpep_pickup_datetime tpep_dropoff_datetime  passenger_count  \\\n",
       "0       1.0  2018-01-01 00:21:05   2018-01-01 00:24:23              1.0   \n",
       "1       1.0  2018-01-01 00:44:55   2018-01-01 01:03:05              1.0   \n",
       "2       1.0  2018-01-01 00:08:26   2018-01-01 00:14:21              2.0   \n",
       "3       1.0  2018-01-01 00:20:22   2018-01-01 00:52:51              1.0   \n",
       "4       1.0  2018-01-01 00:09:18   2018-01-01 00:27:06              2.0   \n",
       "\n",
       "   trip_distance  RatecodeID store_and_fwd_flag  PULocationID  DOLocationID  \\\n",
       "0            0.5         1.0                  N          41.0          24.0   \n",
       "1            2.7         1.0                  N         239.0         140.0   \n",
       "2            0.8         1.0                  N         262.0         141.0   \n",
       "3           10.2         1.0                  N         140.0         257.0   \n",
       "4            2.5         1.0                  N         246.0         239.0   \n",
       "\n",
       "   payment_type  fare_amount  extra  mta_tax  tip_amount  tolls_amount  \\\n",
       "0           2.0          4.5    0.5      0.5        0.00           0.0   \n",
       "1           2.0         14.0    0.5      0.5        0.00           0.0   \n",
       "2           1.0          6.0    0.5      0.5        1.00           0.0   \n",
       "3           2.0         33.5    0.5      0.5        0.00           0.0   \n",
       "4           1.0         12.5    0.5      0.5        2.75           0.0   \n",
       "\n",
       "   improvement_surcharge  total_amount  \n",
       "0                    0.3          5.80  \n",
       "1                    0.3         15.30  \n",
       "2                    0.3          8.30  \n",
       "3                    0.3         34.80  \n",
       "4                    0.3         16.55  "
      ]
     },
     "execution_count": 5,
     "metadata": {},
     "output_type": "execute_result"
    }
   ],
   "source": [
    "%%time\n",
    "dask_df.head() # 1.06s"
   ]
  },
  {
   "cell_type": "code",
   "execution_count": 21,
   "id": "2c7f69f7",
   "metadata": {},
   "outputs": [
    {
     "name": "stdout",
     "output_type": "stream",
     "text": [
      "CPU times: user 12.3 s, sys: 605 ms, total: 12.9 s\n",
      "Wall time: 6.57 s\n"
     ]
    },
    {
     "data": {
      "text/plain": [
       "<AxesSubplot:>"
      ]
     },
     "execution_count": 21,
     "metadata": {},
     "output_type": "execute_result"
    },
    {
     "data": {
      "image/png": "[encoded data removed]",
      "text/plain": [
       "<Figure size 432x288 with 1 Axes>"
      ]
     },
     "metadata": {
      "needs_background": "light"
     },
     "output_type": "display_data"
    }
   ],
   "source": [
    "%%time\n",
    "# analicemos la información de que disponemos\n",
    "dask_df.passenger_count.value_counts().compute().plot(kind='bar') #6.57s"
   ]
  },
  {
   "cell_type": "code",
   "execution_count": 29,
   "id": "768df8b9",
   "metadata": {},
   "outputs": [
    {
     "name": "stdout",
     "output_type": "stream",
     "text": [
      "CPU times: user 12.3 s, sys: 492 ms, total: 12.8 s\n",
      "Wall time: 6.27 s\n"
     ]
    },
    {
     "data": {
      "text/plain": [
       "<AxesSubplot:xlabel='passenger_count'>"
      ]
     },
     "execution_count": 29,
     "metadata": {},
     "output_type": "execute_result"
    },
    {
     "data": {
      "image/png": "[encoded data removed]",
      "text/plain": [
       "<Figure size 432x288 with 1 Axes>"
      ]
     },
     "metadata": {
      "needs_background": "light"
     },
     "output_type": "display_data"
    }
   ],
   "source": [
    "%%time\n",
    "# agrupemos la la propina media por cantidad de pasajeros:\n",
    "tip_passenger = dask_df.groupby('passenger_count').tip_amount.mean().compute()\n",
    "tip_passenger.plot(kind='bar') # 6.27s"
   ]
  },
  {
   "cell_type": "markdown",
   "id": "c8ee073f",
   "metadata": {},
   "source": [
    "Según la información obtenida, en enero de 2018, los taxistas que viajaban solos obtenian tanta propina de media como los que con grupos de hasta seis personas. Además se observa que los prupos mas grandes de 6 personas han dejado al taxitsa de media el triple de propina."
   ]
  },
  {
   "cell_type": "code",
   "execution_count": 35,
   "id": "20de6231",
   "metadata": {},
   "outputs": [
    {
     "name": "stdout",
     "output_type": "stream",
     "text": [
      "CPU times: user 12.5 s, sys: 565 ms, total: 13.1 s\n",
      "Wall time: 6.57 s\n"
     ]
    },
    {
     "data": {
      "text/plain": [
       "<AxesSubplot:xlabel='passenger_count'>"
      ]
     },
     "execution_count": 35,
     "metadata": {},
     "output_type": "execute_result"
    },
    {
     "data": {
      "image/png": "[encoded data removed]",
      "text/plain": [
       "<Figure size 432x288 with 1 Axes>"
      ]
     },
     "metadata": {
      "needs_background": "light"
     },
     "output_type": "display_data"
    }
   ],
   "source": [
    "%%time\n",
    "# agrupemos distancia media por número de pasajeros:\n",
    "dist_passenger = dask_df.groupby('passenger_count').trip_distance.mean().compute()\n",
    "dist_passenger.plot(kind='bar') # 6.57s"
   ]
  },
  {
   "cell_type": "markdown",
   "id": "c0bfb942",
   "metadata": {},
   "source": [
    "Ser puede ver que independientemente de como se agrupe la infromación, el tiempo de ejecucion varia a penas unas decimas."
   ]
  },
  {
   "cell_type": "markdown",
   "id": "cf32199e",
   "metadata": {},
   "source": [
    "***"
   ]
  },
  {
   "cell_type": "markdown",
   "id": "a8c0ada5",
   "metadata": {},
   "source": [
    "# Tercera parte de la actividad"
   ]
  },
  {
   "cell_type": "code",
   "execution_count": 54,
   "id": "daf62255",
   "metadata": {},
   "outputs": [
    {
     "ename": "AttributeError",
     "evalue": "module 'ray' has no attribute 'utils'",
     "output_type": "error",
     "traceback": [
      "\u001b[0;31m---------------------------------------------------------------------------\u001b[0m",
      "\u001b[0;31mAttributeError\u001b[0m                            Traceback (most recent call last)",
      "\u001b[0;32m<ipython-input-54-7e7b44bd7fd7>\u001b[0m in \u001b[0;36m<module>\u001b[0;34m\u001b[0m\n\u001b[0;32m----> 1\u001b[0;31m \u001b[0;32mimport\u001b[0m \u001b[0mmodin\u001b[0m\u001b[0;34m.\u001b[0m\u001b[0mpandas\u001b[0m \u001b[0;32mas\u001b[0m \u001b[0mpd\u001b[0m\u001b[0;34m\u001b[0m\u001b[0;34m\u001b[0m\u001b[0m\n\u001b[0m",
      "\u001b[0;32m~/virtual_envs/BigData/lib/python3.6/site-packages/modin/pandas/__init__.py\u001b[0m in \u001b[0;36m<module>\u001b[0;34m\u001b[0m\n\u001b[1;32m    178\u001b[0m \u001b[0;34m\u001b[0m\u001b[0m\n\u001b[1;32m    179\u001b[0m \u001b[0;34m\u001b[0m\u001b[0m\n\u001b[0;32m--> 180\u001b[0;31m \u001b[0mEngine\u001b[0m\u001b[0;34m.\u001b[0m\u001b[0msubscribe\u001b[0m\u001b[0;34m(\u001b[0m\u001b[0m_update_engine\u001b[0m\u001b[0;34m)\u001b[0m\u001b[0;34m\u001b[0m\u001b[0;34m\u001b[0m\u001b[0m\n\u001b[0m\u001b[1;32m    181\u001b[0m \u001b[0;34m\u001b[0m\u001b[0m\n\u001b[1;32m    182\u001b[0m \u001b[0;32mfrom\u001b[0m \u001b[0;34m.\u001b[0m\u001b[0;34m.\u001b[0m \u001b[0;32mimport\u001b[0m \u001b[0m__version__\u001b[0m\u001b[0;34m\u001b[0m\u001b[0;34m\u001b[0m\u001b[0m\n",
      "\u001b[0;32m~/virtual_envs/BigData/lib/python3.6/site-packages/modin/config/pubsub.py\u001b[0m in \u001b[0;36msubscribe\u001b[0;34m(cls, callback)\u001b[0m\n\u001b[1;32m    105\u001b[0m     \u001b[0;32mdef\u001b[0m \u001b[0msubscribe\u001b[0m\u001b[0;34m(\u001b[0m\u001b[0mcls\u001b[0m\u001b[0;34m,\u001b[0m \u001b[0mcallback\u001b[0m\u001b[0;34m)\u001b[0m\u001b[0;34m:\u001b[0m\u001b[0;34m\u001b[0m\u001b[0;34m\u001b[0m\u001b[0m\n\u001b[1;32m    106\u001b[0m         \u001b[0mcls\u001b[0m\u001b[0;34m.\u001b[0m\u001b[0m_subs\u001b[0m\u001b[0;34m.\u001b[0m\u001b[0mappend\u001b[0m\u001b[0;34m(\u001b[0m\u001b[0mcallback\u001b[0m\u001b[0;34m)\u001b[0m\u001b[0;34m\u001b[0m\u001b[0;34m\u001b[0m\u001b[0m\n\u001b[0;32m--> 107\u001b[0;31m         \u001b[0mcallback\u001b[0m\u001b[0;34m(\u001b[0m\u001b[0mcls\u001b[0m\u001b[0;34m)\u001b[0m\u001b[0;34m\u001b[0m\u001b[0;34m\u001b[0m\u001b[0m\n\u001b[0m\u001b[1;32m    108\u001b[0m \u001b[0;34m\u001b[0m\u001b[0m\n\u001b[1;32m    109\u001b[0m     \u001b[0;34m@\u001b[0m\u001b[0mclassmethod\u001b[0m\u001b[0;34m\u001b[0m\u001b[0;34m\u001b[0m\u001b[0m\n",
      "\u001b[0;32m~/virtual_envs/BigData/lib/python3.6/site-packages/modin/pandas/__init__.py\u001b[0m in \u001b[0;36m_update_engine\u001b[0;34m(publisher)\u001b[0m\n\u001b[1;32m    117\u001b[0m             \u001b[0mos\u001b[0m\u001b[0;34m.\u001b[0m\u001b[0menviron\u001b[0m\u001b[0;34m[\u001b[0m\u001b[0;34m\"OMP_NUM_THREADS\"\u001b[0m\u001b[0;34m]\u001b[0m \u001b[0;34m=\u001b[0m \u001b[0mstr\u001b[0m\u001b[0;34m(\u001b[0m\u001b[0mmultiprocessing\u001b[0m\u001b[0;34m.\u001b[0m\u001b[0mcpu_count\u001b[0m\u001b[0;34m(\u001b[0m\u001b[0;34m)\u001b[0m\u001b[0;34m)\u001b[0m\u001b[0;34m\u001b[0m\u001b[0;34m\u001b[0m\u001b[0m\n\u001b[1;32m    118\u001b[0m         \u001b[0;32mif\u001b[0m \u001b[0m_is_first_update\u001b[0m\u001b[0;34m.\u001b[0m\u001b[0mget\u001b[0m\u001b[0;34m(\u001b[0m\u001b[0;34m\"Ray\"\u001b[0m\u001b[0;34m,\u001b[0m \u001b[0;32mTrue\u001b[0m\u001b[0;34m)\u001b[0m\u001b[0;34m:\u001b[0m\u001b[0;34m\u001b[0m\u001b[0;34m\u001b[0m\u001b[0m\n\u001b[0;32m--> 119\u001b[0;31m             \u001b[0minitialize_ray\u001b[0m\u001b[0;34m(\u001b[0m\u001b[0;34m)\u001b[0m\u001b[0;34m\u001b[0m\u001b[0;34m\u001b[0m\u001b[0m\n\u001b[0m\u001b[1;32m    120\u001b[0m         \u001b[0mnum_cpus\u001b[0m \u001b[0;34m=\u001b[0m \u001b[0mray\u001b[0m\u001b[0;34m.\u001b[0m\u001b[0mcluster_resources\u001b[0m\u001b[0;34m(\u001b[0m\u001b[0;34m)\u001b[0m\u001b[0;34m[\u001b[0m\u001b[0;34m\"CPU\"\u001b[0m\u001b[0;34m]\u001b[0m\u001b[0;34m\u001b[0m\u001b[0;34m\u001b[0m\u001b[0m\n\u001b[1;32m    121\u001b[0m     \u001b[0;32melif\u001b[0m \u001b[0mpublisher\u001b[0m\u001b[0;34m.\u001b[0m\u001b[0mget\u001b[0m\u001b[0;34m(\u001b[0m\u001b[0;34m)\u001b[0m \u001b[0;34m==\u001b[0m \u001b[0;34m\"Dask\"\u001b[0m\u001b[0;34m:\u001b[0m  \u001b[0;31m# pragma: no cover\u001b[0m\u001b[0;34m\u001b[0m\u001b[0;34m\u001b[0m\u001b[0m\n",
      "\u001b[0;32m~/virtual_envs/BigData/lib/python3.6/site-packages/modin/engines/ray/utils.py\u001b[0m in \u001b[0;36minitialize_ray\u001b[0;34m(override_is_cluster, override_redis_address, override_redis_password)\u001b[0m\n\u001b[1;32m    130\u001b[0m                 \u001b[0;31m# Round down to the nearest Gigabyte.\u001b[0m\u001b[0;34m\u001b[0m\u001b[0;34m\u001b[0m\u001b[0;34m\u001b[0m\u001b[0m\n\u001b[1;32m    131\u001b[0m                 object_store_memory = int(\n\u001b[0;32m--> 132\u001b[0;31m                     \u001b[0;36m0.6\u001b[0m \u001b[0;34m*\u001b[0m \u001b[0mray\u001b[0m\u001b[0;34m.\u001b[0m\u001b[0mutils\u001b[0m\u001b[0;34m.\u001b[0m\u001b[0mget_system_memory\u001b[0m\u001b[0;34m(\u001b[0m\u001b[0;34m)\u001b[0m \u001b[0;34m//\u001b[0m \u001b[0;36m10\u001b[0m \u001b[0;34m**\u001b[0m \u001b[0;36m9\u001b[0m \u001b[0;34m*\u001b[0m \u001b[0;36m10\u001b[0m \u001b[0;34m**\u001b[0m \u001b[0;36m9\u001b[0m\u001b[0;34m\u001b[0m\u001b[0;34m\u001b[0m\u001b[0m\n\u001b[0m\u001b[1;32m    133\u001b[0m                 )\n\u001b[1;32m    134\u001b[0m                 \u001b[0;31m# If the memory pool is smaller than 2GB, just use the default in ray.\u001b[0m\u001b[0;34m\u001b[0m\u001b[0;34m\u001b[0m\u001b[0;34m\u001b[0m\u001b[0m\n",
      "\u001b[0;31mAttributeError\u001b[0m: module 'ray' has no attribute 'utils'"
     ]
    }
   ],
   "source": [
    "import modin.pandas as pd"
   ]
  }
 ],
 "metadata": {
  "kernelspec": {
   "display_name": "Python 3",
   "language": "python",
   "name": "python3"
  },
  "language_info": {
   "codemirror_mode": {
    "name": "ipython",
    "version": 3
   },
   "file_extension": ".py",
   "mimetype": "text/x-python",
   "name": "python",
   "nbconvert_exporter": "python",
   "pygments_lexer": "ipython3",
   "version": "3.6.9"
  }
 },
 "nbformat": 4,
 "nbformat_minor": 5
}
