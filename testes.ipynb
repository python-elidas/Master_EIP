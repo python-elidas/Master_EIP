{
 "cells": [
  {
   "cell_type": "code",
   "execution_count": 8,
   "metadata": {},
   "outputs": [
    {
     "data": {
      "text/plain": [
       "'52179'"
      ]
     },
     "execution_count": 8,
     "metadata": {},
     "output_type": "execute_result"
    }
   ],
   "source": [
    "import hashlib as hash\n",
    "def gen_code(string):\n",
    "    model = hash.new('sha256')\n",
    "    model.update(string.encode('utf-8'))\n",
    "    hashed = model.hexdigest()\n",
    "    return str(int(hashed, 16))[:5]\n",
    "\n",
    "gen_code('hola mundo')"
   ]
  }
 ],
 "metadata": {
  "interpreter": {
   "hash": "bc0fe5173295469d3004418ffcdc00be78a9b093d8ce698d87b3a15b6f44a0dc"
  },
  "kernelspec": {
   "display_name": "Python 3.9.9 ('rolApp')",
   "language": "python",
   "name": "python3"
  },
  "language_info": {
   "codemirror_mode": {
    "name": "ipython",
    "version": 3
   },
   "file_extension": ".py",
   "mimetype": "text/x-python",
   "name": "python",
   "nbconvert_exporter": "python",
   "pygments_lexer": "ipython3",
   "version": "3.9.9"
  },
  "orig_nbformat": 4
 },
 "nbformat": 4,
 "nbformat_minor": 2
}
